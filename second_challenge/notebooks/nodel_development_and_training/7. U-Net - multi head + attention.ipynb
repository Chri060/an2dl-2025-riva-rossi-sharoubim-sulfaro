{
 "nbformat": 4,
 "nbformat_minor": 0,
 "metadata": {
  "colab": {
   "provenance": [
    {
     "file_id": "1BBfccWx5z3SsSvUUCNMXWuuJKiapZYjA",
     "timestamp": 1732873465730
    }
   ],
   "gpuType": "L4",
   "machine_shape": "hm"
  },
  "kernelspec": {
   "name": "python3",
   "display_name": "Python 3"
  },
  "language_info": {
   "name": "python"
  },
  "accelerator": "GPU"
 },
 "cells": [
  {
   "cell_type": "markdown",
   "source": [
    "# U-Net - forcing meaningful features inside the decoder through multi-output learning\n",
    "\n",
    "\n",
    "\n"
   ],
   "metadata": {
    "id": "nuwVgG3Vbbka"
   }
  },
  {
   "cell_type": "markdown",
   "source": [
    "**Kaggle mean intersection over union metric** : 0.46\n",
    "\n",
    "**Local test mean intersection over union metric** : 0.45\n",
    "\n",
    "**Description**: Using multiple heads on the previously trained U-Net architecture with attention gating mechanisms for skip connections.\n",
    "\n",
    "**Motivation**: Learning more meaningful features even in the middle of the network, simplifying convergence and allowing better gradient flow. Trying to make the network learn what skip connections are useful for the problem at hand.\n",
    "\n"
   ],
   "metadata": {
    "id": "bqjj-xJc_wMD"
   }
  },
  {
   "cell_type": "markdown",
   "source": [
    "## Google Drive - Connecting to the project"
   ],
   "metadata": {
    "id": "dw_-hFm6bjY6"
   }
  },
  {
   "cell_type": "code",
   "source": [
    "from google.colab import drive\n",
    "import sys\n",
    "drive.mount('/content/drive')\n",
    "project_path = \"/content/drive/MyDrive/Colab Notebooks/ANN/le acque del friuli - Homework 2\"\n",
    "%cd {project_path}\n",
    "sys.path.append(project_path)"
   ],
   "metadata": {
    "id": "y2S4GWr3Uoa8",
    "colab": {
     "base_uri": "https://localhost:8080/"
    },
    "executionInfo": {
     "status": "ok",
     "timestamp": 1733935882052,
     "user_tz": -60,
     "elapsed": 4815,
     "user": {
      "displayName": "Filippo Riva",
      "userId": "05273334813739932926"
     }
    },
    "outputId": "03cfc7d0-f307-401f-a6a5-40efc39e4dd3"
   },
   "execution_count": null,
   "outputs": [
    {
     "output_type": "stream",
     "name": "stdout",
     "text": [
      "Drive already mounted at /content/drive; to attempt to forcibly remount, call drive.mount(\"/content/drive\", force_remount=True).\n",
      "/content/drive/MyDrive/Colab Notebooks/ANN/le acque del friuli - Homework 2\n"
     ]
    }
   ]
  },
  {
   "cell_type": "markdown",
   "source": [
    "## Imports"
   ],
   "metadata": {
    "id": "d7IqZP5Iblna"
   }
  },
  {
   "cell_type": "code",
   "execution_count": null,
   "metadata": {
    "id": "CO6_Ft_8T56A"
   },
   "outputs": [],
   "source": [
    "# Set seed for reproducibility\n",
    "seed = 42\n",
    "\n",
    "# Import necessary libraries\n",
    "import os\n",
    "\n",
    "# Import necessary modules\n",
    "import logging\n",
    "import random\n",
    "import numpy as np\n",
    "\n",
    "# Set seeds for random number generators in NumPy and Python\n",
    "np.random.seed(seed)\n",
    "random.seed(seed)\n",
    "\n",
    "# Import TensorFlow and Keras\n",
    "import tensorflow as tf\n",
    "from tensorflow import keras as tfk\n",
    "from tensorflow.keras import layers as tfkl\n",
    "\n",
    "# Set seed for TensorFlow\n",
    "tf.random.set_seed(seed)\n",
    "tf.compat.v1.set_random_seed(seed)\n",
    "\n",
    "# Import other libraries\n",
    "import os\n",
    "import math\n",
    "from PIL import Image\n",
    "from keras import backend as K\n",
    "from sklearn.model_selection import train_test_split\n",
    "from sklearn.metrics import accuracy_score, f1_score, precision_score, recall_score, confusion_matrix\n",
    "import matplotlib.pyplot as plt\n",
    "import seaborn as sns\n",
    "import pandas as pd\n",
    "\n",
    "import cv2\n",
    "\n",
    "import utils\n",
    "\n",
    "# Configure plot display settings\n",
    "sns.set(font_scale=1.4)\n",
    "sns.set_style('white')\n",
    "plt.rc('font', size=14)\n",
    "%matplotlib inline"
   ]
  },
  {
   "cell_type": "code",
   "source": [
    "# Set batch size for training\n",
    "BATCH_SIZE = 64\n",
    "\n",
    "# Number of classes\n",
    "NUM_CLASSES = 5\n",
    "\n",
    "INPUT_SHAPE = (64,128,1)"
   ],
   "metadata": {
    "id": "8Q4sSEP7mns3"
   },
   "execution_count": null,
   "outputs": []
  },
  {
   "cell_type": "markdown",
   "source": [
    "## Load Data"
   ],
   "metadata": {
    "id": "GN_cpHlSboXV"
   }
  },
  {
   "cell_type": "code",
   "source": [
    "def color_img(image):\n",
    "    image = (image * 255).astype(np.uint8)\n",
    "    return cv2.applyColorMap(image, cv2.COLORMAP_RAINBOW) # https://docs.opencv.org/3.4/d3/d50/group__imgproc__colormap.html"
   ],
   "metadata": {
    "id": "n6j_FDj6CfKY"
   },
   "execution_count": null,
   "outputs": []
  },
  {
   "cell_type": "code",
   "source": [
    "# Load the dataset\n",
    "data = np.load(\"dataset/cleaned_dataset.npz\")\n",
    "test_img = data['test_set']\n",
    "\n",
    "# Split the dataset in images and labels array\n",
    "X = data['images']\n",
    "y = data['labels']\n",
    "y = tfk.utils.to_categorical(y, num_classes=NUM_CLASSES)\n",
    "\n",
    "# Split the dataset into training and validation (test is given)\n",
    "train_img, val_img, train_lbl, val_lbl = train_test_split(X, y, test_size=0.2, random_state=seed)"
   ],
   "metadata": {
    "id": "rQ9RElZGtTXk"
   },
   "execution_count": null,
   "outputs": []
  },
  {
   "cell_type": "code",
   "source": [
    "def make_dataset(images,labels,batch_size, shuffle=True, augment=False, seed=None):\n",
    "    dataset = tf.data.Dataset.from_tensor_slices((images,{'out1':labels, 'out2':labels, 'out3':labels}))\n",
    "\n",
    "    if shuffle:\n",
    "        dataset = dataset.shuffle(buffer_size=batch_size * 2, seed=seed)\n",
    "\n",
    "    # Batch the data\n",
    "    dataset = dataset.batch(batch_size, drop_remainder=False)\n",
    "    dataset = dataset.prefetch(tf.data.AUTOTUNE)\n",
    "\n",
    "    return dataset"
   ],
   "metadata": {
    "id": "PrXie0gRnl3z"
   },
   "execution_count": null,
   "outputs": []
  },
  {
   "cell_type": "code",
   "source": [
    "train_dataset = make_dataset(\n",
    "    train_img, train_lbl,\n",
    "    batch_size=BATCH_SIZE,\n",
    "    shuffle=True,\n",
    "    augment=True,\n",
    "    seed=seed\n",
    ")\n",
    "\n",
    "val_dataset = make_dataset(\n",
    "    val_img, val_lbl,\n",
    "    batch_size=BATCH_SIZE,\n",
    "    shuffle=False,\n",
    "    augment=False,\n",
    "    seed=seed\n",
    ")"
   ],
   "metadata": {
    "id": "XWYaWP5WnkAh"
   },
   "execution_count": null,
   "outputs": []
  },
  {
   "cell_type": "markdown",
   "source": [
    "## Model implementation"
   ],
   "metadata": {
    "id": "FSliIxBvbs2Q"
   }
  },
  {
   "cell_type": "code",
   "source": [
    "def res_bottleneck(input, n_filters, kernel_size, strides, name='', dropout=0.0):\n",
    "    e = tfkl.Conv2D(filters=n_filters, kernel_size=kernel_size, padding='same', use_bias=False)(input)\n",
    "    e = tfkl.GroupNormalization(groups=32, axis=-1)(e)\n",
    "    e = tfkl.Activation('relu')(e)\n",
    "    e = tfkl.Conv2D(filters=n_filters, kernel_size=kernel_size, padding='same', use_bias=False)(e)\n",
    "    e = tfkl.GroupNormalization(groups=32, axis=-1)(e)\n",
    "    e = tfkl.Activation('relu')(e)\n",
    "    e = tfkl.Add()([e, input]) #skip connection to make this a residual block\n",
    "    e = tfkl.GroupNormalization(groups=32, axis=-1)(e)\n",
    "    e = tfkl.Activation('relu')(e)\n",
    "    e = tfkl.Dropout(rate=dropout)(e)\n",
    "    return e"
   ],
   "metadata": {
    "id": "sZg0ePgNN72Y"
   },
   "execution_count": null,
   "outputs": []
  },
  {
   "cell_type": "code",
   "source": [
    "def expand_as(tensor, rep):\n",
    "\n",
    "    # Anonymous lambda function to expand the specified axis by a factor of argument, rep.\n",
    "    # If tensor has shape (512,512,N), lambda will return a tensor of shape (512,512,N*rep), if specified axis=2\n",
    "\n",
    "    output_shape = (tfk.backend.int_shape(tensor)[1],\n",
    "                    tfk.backend.int_shape(tensor)[2],\n",
    "                    tfk.backend.int_shape(tensor)[3]*rep)\n",
    "    my_repeat = tfkl.Lambda(lambda x, repnum: tfk.backend.repeat_elements(x, repnum, axis=3), arguments={'repnum': rep},\n",
    "                            output_shape=output_shape)(tensor)\n",
    "    return my_repeat\n",
    "\n",
    "\n",
    "# Attention block\n",
    "def attnGatingBlock(x, g, inter_shape, dropout=0.0):\n",
    "    print(f\" Building attention block\")\n",
    "    print(f\"    Using g={g}\")\n",
    "    print(f\"    Using x={x}\")\n",
    "    shape_x = tfk.backend.int_shape(x)\n",
    "    shape_g = tfk.backend.int_shape(g)\n",
    "\n",
    "    # Getting the gating signal to the same number of filters as the inter_shape\n",
    "    phi_g = tfkl.Conv2D(filters=inter_shape, kernel_size=1, strides=1, padding='same')(g)\n",
    "\n",
    "    # Getting the x signal to the same shape as the gating signal\n",
    "    theta_x = tfkl.Conv2D(filters=inter_shape, kernel_size=3, strides=(shape_x[1] // shape_g[1], shape_x[2] // shape_g[2]), padding='same')(x)\n",
    "\n",
    "    # Element-wise addition of the gating and x signals\n",
    "    add_xg = tfkl.add([phi_g, theta_x])\n",
    "    add_xg = tfkl.Activation('relu')(add_xg)\n",
    "\n",
    "    # 1x1x1 convolution\n",
    "    psi = tfkl.Conv2D(filters=1, kernel_size=1, padding='same')(add_xg)\n",
    "    psi = tfkl.Activation('sigmoid')(psi)\n",
    "\n",
    "    shape_sigmoid = tfk.backend.int_shape(psi)\n",
    "\n",
    "    # Upsampling psi back to the original dimensions of x signal\n",
    "    upsample_sigmoid_xg = tfkl.UpSampling2D(size=(shape_x[1] // shape_sigmoid[1], shape_x[2] // shape_sigmoid[2]))(psi)\n",
    "\n",
    "    # Expanding the filter axis to the number of filters in the original x signal\n",
    "    upsample_sigmoid_xg = expand_as(upsample_sigmoid_xg, shape_x[3])\n",
    "\n",
    "    # Element-wise multiplication of attention coefficients back onto original x signal\n",
    "    attn_coefficients = tfkl.multiply([upsample_sigmoid_xg, x])\n",
    "\n",
    "    # Final 1x1x1 convolution to consolidate attention signal to original x dimensions\n",
    "    output = tfkl.Conv2D(filters=shape_x[3], kernel_size=1, strides=1, padding='same')(attn_coefficients)\n",
    "    output = tfkl.BatchNormalization()(output)\n",
    "\n",
    "    output = tfkl.Dropout(rate=dropout)(output)\n",
    "    print(\"    Attention block built. Output =\",output)\n",
    "    return output"
   ],
   "metadata": {
    "id": "Vn6kvySIVnDM"
   },
   "execution_count": null,
   "outputs": []
  },
  {
   "cell_type": "code",
   "source": [
    "# Definition of a U-net block\n",
    "def unet_block(input_tensor, filters, kernel_size=3, activation='relu', stack=2, name=''):\n",
    "    # Initialise the input tensor\n",
    "    x = input_tensor\n",
    "\n",
    "    # Apply a sequence of Conv2D, Batch Normalisation, and Activation layers for the specified number of stacks\n",
    "    for i in range(stack):\n",
    "        x = tfkl.Conv2D(filters, kernel_size=kernel_size, padding='same', dilation_rate=(2,2), name=name + 'conv' + str(i + 1))(x)\n",
    "        x = tfkl.GroupNormalization(groups=32, axis=-1, name=name + 'bn' + str(i + 1))(x)\n",
    "        x = tfkl.Activation(activation, name=name + 'activation' + str(i + 1))(x)\n",
    "\n",
    "    # Return the transformed tensor\n",
    "    return x"
   ],
   "metadata": {
    "id": "MF4zp50nmSLT"
   },
   "execution_count": null,
   "outputs": []
  },
  {
   "cell_type": "code",
   "source": [
    "# Definition of the model\n",
    "def get_unet_model(input_shape=INPUT_SHAPE, num_classes=NUM_CLASSES, seed=seed):\n",
    "    tf.random.set_seed(seed)\n",
    "    input_layer = tfkl.Input(shape=input_shape, name='input_layer')\n",
    "\n",
    "\n",
    "    # Downsampling path\n",
    "    down_block_1 = unet_block(input_layer, 32, name='down_block1_')\n",
    "    d1 = tfkl.Conv2D(filters=32, kernel_size=3, strides=(2,2), padding='same',activation='relu')(down_block_1)\n",
    "\n",
    "    down_block_2 = unet_block(d1, 64, name='down_block2_')\n",
    "    d2 = tfkl.Conv2D(filters=64, kernel_size=3, strides=(2,2), padding='same',activation='relu')(down_block_2)\n",
    "\n",
    "    down_block_3 = unet_block(d2, 128, name='down_block3_')\n",
    "    d3 = tfkl.Conv2D(filters=128, kernel_size=3, strides=(2,2), padding='same',activation='relu')(down_block_3)\n",
    "\n",
    "    # Bottleneck\n",
    "    bottleneck = res_bottleneck(d3, 128, kernel_size=3, strides=1, name='bottleneck', dropout=0.2)\n",
    "\n",
    "    # Upsampling path\n",
    "    a1 = attnGatingBlock(down_block_3, bottleneck, 64, dropout=0.3)\n",
    "    u1 = tfkl.UpSampling2D(interpolation='bilinear')(bottleneck)\n",
    "    u1 = tfkl.Concatenate()([u1, a1])\n",
    "    u1 = unet_block(u1, 128, name='up_block1_')\n",
    "\n",
    "    a2 = attnGatingBlock(down_block_2, u1, 64, dropout=0.3)\n",
    "    u2 = tfkl.UpSampling2D(interpolation='bilinear')(u1)\n",
    "    u2 = tfkl.Concatenate()([u2, a2])\n",
    "    u2 = unet_block(u2, 64, name='up_block2_')\n",
    "\n",
    "    a3 = attnGatingBlock(down_block_1, u2, 64, dropout=0.5)\n",
    "    u3 = tfkl.UpSampling2D(interpolation='bilinear')(u2)\n",
    "    u3 = tfkl.Concatenate()([u3, a3])\n",
    "    u3 = unet_block(u3, 32, name='up_block3_')\n",
    "\n",
    "\n",
    "    # Output Layers\n",
    "    up1 = tfkl.Conv2DTranspose(filters=64, kernel_size=3, strides=2**2, padding='same')(u1)\n",
    "    out1 = tfkl.Conv2D(num_classes, kernel_size=1, padding='same', activation=\"softmax\", name='out1')(up1)\n",
    "\n",
    "    up2 = tfkl.Conv2DTranspose(filters=32, kernel_size=3, strides=2**1, padding='same')(u2)\n",
    "    out2 = tfkl.Conv2D(num_classes, kernel_size=1, padding='same', activation=\"softmax\", name='out2')(up2)\n",
    "\n",
    "    out3 = tfkl.Conv2D(num_classes, kernel_size=1, padding='same', activation=\"softmax\", name='out3')(u3)\n",
    "\n",
    "    model = tf.keras.Model(inputs=input_layer, outputs=[out1,out2,out3], name='UNet')\n",
    "    return model"
   ],
   "metadata": {
    "id": "qxNgU7GHmSwI"
   },
   "execution_count": null,
   "outputs": []
  },
  {
   "cell_type": "code",
   "source": [
    "model = get_unet_model()\n",
    "\n",
    "# Print a detailed summary of the model with expanded nested layers and trainable parameters.\n",
    "model.summary(expand_nested=False, show_trainable=True)"
   ],
   "metadata": {
    "id": "VmnTgJi_OOs1",
    "colab": {
     "base_uri": "https://localhost:8080/",
     "height": 1000
    },
    "executionInfo": {
     "status": "ok",
     "timestamp": 1733935887437,
     "user_tz": -60,
     "elapsed": 598,
     "user": {
      "displayName": "Filippo Riva",
      "userId": "05273334813739932926"
     }
    },
    "outputId": "670caf6b-d636-4db2-9a49-e973dd7dc1b0"
   },
   "execution_count": null,
   "outputs": [
    {
     "output_type": "stream",
     "name": "stdout",
     "text": [
      " Building attention block\n",
      "    Using g=<KerasTensor shape=(None, 8, 16, 128), dtype=float32, sparse=False, name=keras_tensor_126>\n",
      "    Using x=<KerasTensor shape=(None, 16, 32, 128), dtype=float32, sparse=False, name=keras_tensor_115>\n",
      "    Attention block built. Output = <KerasTensor shape=(None, 16, 32, 128), dtype=float32, sparse=False, name=keras_tensor_138>\n",
      " Building attention block\n",
      "    Using g=<KerasTensor shape=(None, 16, 32, 128), dtype=float32, sparse=False, name=keras_tensor_146>\n",
      "    Using x=<KerasTensor shape=(None, 32, 64, 64), dtype=float32, sparse=False, name=keras_tensor_108>\n",
      "    Attention block built. Output = <KerasTensor shape=(None, 32, 64, 64), dtype=float32, sparse=False, name=keras_tensor_158>\n",
      " Building attention block\n",
      "    Using g=<KerasTensor shape=(None, 32, 64, 64), dtype=float32, sparse=False, name=keras_tensor_166>\n",
      "    Using x=<KerasTensor shape=(None, 64, 128, 32), dtype=float32, sparse=False, name=keras_tensor_101>\n",
      "    Attention block built. Output = <KerasTensor shape=(None, 64, 128, 32), dtype=float32, sparse=False, name=keras_tensor_178>\n"
     ]
    },
    {
     "output_type": "display_data",
     "data": {
      "text/plain": [
       "\u001B[1mModel: \"UNet\"\u001B[0m\n"
      ],
      "text/html": [
       "<pre style=\"white-space:pre;overflow-x:auto;line-height:normal;font-family:Menlo,'DejaVu Sans Mono',consolas,'Courier New',monospace\"><span style=\"font-weight: bold\">Model: \"UNet\"</span>\n",
       "</pre>\n"
      ]
     },
     "metadata": {}
    },
    {
     "output_type": "display_data",
     "data": {
      "text/plain": [
       "┏━━━━━━━━━━━━━━━━━━━━━━━━┳━━━━━━━━━━━━━━━━━━━━━━┳━━━━━━━━━━━━━━┳━━━━━━━━━━━━━━━━━━━━━┳━━━━━━━━━┓\n",
       "┃\u001B[1m \u001B[0m\u001B[1mLayer (type)          \u001B[0m\u001B[1m \u001B[0m┃\u001B[1m \u001B[0m\u001B[1mOutput Shape        \u001B[0m\u001B[1m \u001B[0m┃\u001B[1m \u001B[0m\u001B[1m     Param #\u001B[0m\u001B[1m \u001B[0m┃\u001B[1m \u001B[0m\u001B[1mConnected to       \u001B[0m\u001B[1m \u001B[0m┃\u001B[1m \u001B[0m\u001B[1mTraina…\u001B[0m\u001B[1m \u001B[0m┃\n",
       "┡━━━━━━━━━━━━━━━━━━━━━━━━╇━━━━━━━━━━━━━━━━━━━━━━╇━━━━━━━━━━━━━━╇━━━━━━━━━━━━━━━━━━━━━╇━━━━━━━━━┩\n",
       "│ input_layer            │ (\u001B[38;5;45mNone\u001B[0m, \u001B[38;5;34m64\u001B[0m, \u001B[38;5;34m128\u001B[0m, \u001B[38;5;34m1\u001B[0m)   │            \u001B[38;5;34m0\u001B[0m │ -                   │    \u001B[1m-\u001B[0m    │\n",
       "│ (\u001B[38;5;33mInputLayer\u001B[0m)           │                      │              │                     │         │\n",
       "├────────────────────────┼──────────────────────┼──────────────┼─────────────────────┼─────────┤\n",
       "│ down_block1_conv1      │ (\u001B[38;5;45mNone\u001B[0m, \u001B[38;5;34m64\u001B[0m, \u001B[38;5;34m128\u001B[0m, \u001B[38;5;34m32\u001B[0m)  │          \u001B[38;5;34m320\u001B[0m │ input_layer[\u001B[38;5;34m0\u001B[0m][\u001B[38;5;34m0\u001B[0m]   │    \u001B[1;38;5;34mY\u001B[0m    │\n",
       "│ (\u001B[38;5;33mConv2D\u001B[0m)               │                      │              │                     │         │\n",
       "├────────────────────────┼──────────────────────┼──────────────┼─────────────────────┼─────────┤\n",
       "│ down_block1_bn1        │ (\u001B[38;5;45mNone\u001B[0m, \u001B[38;5;34m64\u001B[0m, \u001B[38;5;34m128\u001B[0m, \u001B[38;5;34m32\u001B[0m)  │           \u001B[38;5;34m64\u001B[0m │ down_block1_conv1[\u001B[38;5;34m…\u001B[0m │    \u001B[1;38;5;34mY\u001B[0m    │\n",
       "│ (\u001B[38;5;33mGroupNormalization\u001B[0m)   │                      │              │                     │         │\n",
       "├────────────────────────┼──────────────────────┼──────────────┼─────────────────────┼─────────┤\n",
       "│ down_block1_activatio… │ (\u001B[38;5;45mNone\u001B[0m, \u001B[38;5;34m64\u001B[0m, \u001B[38;5;34m128\u001B[0m, \u001B[38;5;34m32\u001B[0m)  │            \u001B[38;5;34m0\u001B[0m │ down_block1_bn1[\u001B[38;5;34m0\u001B[0m]… │    \u001B[1m-\u001B[0m    │\n",
       "│ (\u001B[38;5;33mActivation\u001B[0m)           │                      │              │                     │         │\n",
       "├────────────────────────┼──────────────────────┼──────────────┼─────────────────────┼─────────┤\n",
       "│ down_block1_conv2      │ (\u001B[38;5;45mNone\u001B[0m, \u001B[38;5;34m64\u001B[0m, \u001B[38;5;34m128\u001B[0m, \u001B[38;5;34m32\u001B[0m)  │        \u001B[38;5;34m9,248\u001B[0m │ down_block1_activa… │    \u001B[1;38;5;34mY\u001B[0m    │\n",
       "│ (\u001B[38;5;33mConv2D\u001B[0m)               │                      │              │                     │         │\n",
       "├────────────────────────┼──────────────────────┼──────────────┼─────────────────────┼─────────┤\n",
       "│ down_block1_bn2        │ (\u001B[38;5;45mNone\u001B[0m, \u001B[38;5;34m64\u001B[0m, \u001B[38;5;34m128\u001B[0m, \u001B[38;5;34m32\u001B[0m)  │           \u001B[38;5;34m64\u001B[0m │ down_block1_conv2[\u001B[38;5;34m…\u001B[0m │    \u001B[1;38;5;34mY\u001B[0m    │\n",
       "│ (\u001B[38;5;33mGroupNormalization\u001B[0m)   │                      │              │                     │         │\n",
       "├────────────────────────┼──────────────────────┼──────────────┼─────────────────────┼─────────┤\n",
       "│ down_block1_activatio… │ (\u001B[38;5;45mNone\u001B[0m, \u001B[38;5;34m64\u001B[0m, \u001B[38;5;34m128\u001B[0m, \u001B[38;5;34m32\u001B[0m)  │            \u001B[38;5;34m0\u001B[0m │ down_block1_bn2[\u001B[38;5;34m0\u001B[0m]… │    \u001B[1m-\u001B[0m    │\n",
       "│ (\u001B[38;5;33mActivation\u001B[0m)           │                      │              │                     │         │\n",
       "├────────────────────────┼──────────────────────┼──────────────┼─────────────────────┼─────────┤\n",
       "│ conv2d_17 (\u001B[38;5;33mConv2D\u001B[0m)     │ (\u001B[38;5;45mNone\u001B[0m, \u001B[38;5;34m32\u001B[0m, \u001B[38;5;34m64\u001B[0m, \u001B[38;5;34m32\u001B[0m)   │        \u001B[38;5;34m9,248\u001B[0m │ down_block1_activa… │    \u001B[1;38;5;34mY\u001B[0m    │\n",
       "├────────────────────────┼──────────────────────┼──────────────┼─────────────────────┼─────────┤\n",
       "│ down_block2_conv1      │ (\u001B[38;5;45mNone\u001B[0m, \u001B[38;5;34m32\u001B[0m, \u001B[38;5;34m64\u001B[0m, \u001B[38;5;34m64\u001B[0m)   │       \u001B[38;5;34m18,496\u001B[0m │ conv2d_17[\u001B[38;5;34m0\u001B[0m][\u001B[38;5;34m0\u001B[0m]     │    \u001B[1;38;5;34mY\u001B[0m    │\n",
       "│ (\u001B[38;5;33mConv2D\u001B[0m)               │                      │              │                     │         │\n",
       "├────────────────────────┼──────────────────────┼──────────────┼─────────────────────┼─────────┤\n",
       "│ down_block2_bn1        │ (\u001B[38;5;45mNone\u001B[0m, \u001B[38;5;34m32\u001B[0m, \u001B[38;5;34m64\u001B[0m, \u001B[38;5;34m64\u001B[0m)   │          \u001B[38;5;34m128\u001B[0m │ down_block2_conv1[\u001B[38;5;34m…\u001B[0m │    \u001B[1;38;5;34mY\u001B[0m    │\n",
       "│ (\u001B[38;5;33mGroupNormalization\u001B[0m)   │                      │              │                     │         │\n",
       "├────────────────────────┼──────────────────────┼──────────────┼─────────────────────┼─────────┤\n",
       "│ down_block2_activatio… │ (\u001B[38;5;45mNone\u001B[0m, \u001B[38;5;34m32\u001B[0m, \u001B[38;5;34m64\u001B[0m, \u001B[38;5;34m64\u001B[0m)   │            \u001B[38;5;34m0\u001B[0m │ down_block2_bn1[\u001B[38;5;34m0\u001B[0m]… │    \u001B[1m-\u001B[0m    │\n",
       "│ (\u001B[38;5;33mActivation\u001B[0m)           │                      │              │                     │         │\n",
       "├────────────────────────┼──────────────────────┼──────────────┼─────────────────────┼─────────┤\n",
       "│ down_block2_conv2      │ (\u001B[38;5;45mNone\u001B[0m, \u001B[38;5;34m32\u001B[0m, \u001B[38;5;34m64\u001B[0m, \u001B[38;5;34m64\u001B[0m)   │       \u001B[38;5;34m36,928\u001B[0m │ down_block2_activa… │    \u001B[1;38;5;34mY\u001B[0m    │\n",
       "│ (\u001B[38;5;33mConv2D\u001B[0m)               │                      │              │                     │         │\n",
       "├────────────────────────┼──────────────────────┼──────────────┼─────────────────────┼─────────┤\n",
       "│ down_block2_bn2        │ (\u001B[38;5;45mNone\u001B[0m, \u001B[38;5;34m32\u001B[0m, \u001B[38;5;34m64\u001B[0m, \u001B[38;5;34m64\u001B[0m)   │          \u001B[38;5;34m128\u001B[0m │ down_block2_conv2[\u001B[38;5;34m…\u001B[0m │    \u001B[1;38;5;34mY\u001B[0m    │\n",
       "│ (\u001B[38;5;33mGroupNormalization\u001B[0m)   │                      │              │                     │         │\n",
       "├────────────────────────┼──────────────────────┼──────────────┼─────────────────────┼─────────┤\n",
       "│ down_block2_activatio… │ (\u001B[38;5;45mNone\u001B[0m, \u001B[38;5;34m32\u001B[0m, \u001B[38;5;34m64\u001B[0m, \u001B[38;5;34m64\u001B[0m)   │            \u001B[38;5;34m0\u001B[0m │ down_block2_bn2[\u001B[38;5;34m0\u001B[0m]… │    \u001B[1m-\u001B[0m    │\n",
       "│ (\u001B[38;5;33mActivation\u001B[0m)           │                      │              │                     │         │\n",
       "├────────────────────────┼──────────────────────┼──────────────┼─────────────────────┼─────────┤\n",
       "│ conv2d_18 (\u001B[38;5;33mConv2D\u001B[0m)     │ (\u001B[38;5;45mNone\u001B[0m, \u001B[38;5;34m16\u001B[0m, \u001B[38;5;34m32\u001B[0m, \u001B[38;5;34m64\u001B[0m)   │       \u001B[38;5;34m36,928\u001B[0m │ down_block2_activa… │    \u001B[1;38;5;34mY\u001B[0m    │\n",
       "├────────────────────────┼──────────────────────┼──────────────┼─────────────────────┼─────────┤\n",
       "│ down_block3_conv1      │ (\u001B[38;5;45mNone\u001B[0m, \u001B[38;5;34m16\u001B[0m, \u001B[38;5;34m32\u001B[0m, \u001B[38;5;34m128\u001B[0m)  │       \u001B[38;5;34m73,856\u001B[0m │ conv2d_18[\u001B[38;5;34m0\u001B[0m][\u001B[38;5;34m0\u001B[0m]     │    \u001B[1;38;5;34mY\u001B[0m    │\n",
       "│ (\u001B[38;5;33mConv2D\u001B[0m)               │                      │              │                     │         │\n",
       "├────────────────────────┼──────────────────────┼──────────────┼─────────────────────┼─────────┤\n",
       "│ down_block3_bn1        │ (\u001B[38;5;45mNone\u001B[0m, \u001B[38;5;34m16\u001B[0m, \u001B[38;5;34m32\u001B[0m, \u001B[38;5;34m128\u001B[0m)  │          \u001B[38;5;34m256\u001B[0m │ down_block3_conv1[\u001B[38;5;34m…\u001B[0m │    \u001B[1;38;5;34mY\u001B[0m    │\n",
       "│ (\u001B[38;5;33mGroupNormalization\u001B[0m)   │                      │              │                     │         │\n",
       "├────────────────────────┼──────────────────────┼──────────────┼─────────────────────┼─────────┤\n",
       "│ down_block3_activatio… │ (\u001B[38;5;45mNone\u001B[0m, \u001B[38;5;34m16\u001B[0m, \u001B[38;5;34m32\u001B[0m, \u001B[38;5;34m128\u001B[0m)  │            \u001B[38;5;34m0\u001B[0m │ down_block3_bn1[\u001B[38;5;34m0\u001B[0m]… │    \u001B[1m-\u001B[0m    │\n",
       "│ (\u001B[38;5;33mActivation\u001B[0m)           │                      │              │                     │         │\n",
       "├────────────────────────┼──────────────────────┼──────────────┼─────────────────────┼─────────┤\n",
       "│ down_block3_conv2      │ (\u001B[38;5;45mNone\u001B[0m, \u001B[38;5;34m16\u001B[0m, \u001B[38;5;34m32\u001B[0m, \u001B[38;5;34m128\u001B[0m)  │      \u001B[38;5;34m147,584\u001B[0m │ down_block3_activa… │    \u001B[1;38;5;34mY\u001B[0m    │\n",
       "│ (\u001B[38;5;33mConv2D\u001B[0m)               │                      │              │                     │         │\n",
       "├────────────────────────┼──────────────────────┼──────────────┼─────────────────────┼─────────┤\n",
       "│ down_block3_bn2        │ (\u001B[38;5;45mNone\u001B[0m, \u001B[38;5;34m16\u001B[0m, \u001B[38;5;34m32\u001B[0m, \u001B[38;5;34m128\u001B[0m)  │          \u001B[38;5;34m256\u001B[0m │ down_block3_conv2[\u001B[38;5;34m…\u001B[0m │    \u001B[1;38;5;34mY\u001B[0m    │\n",
       "│ (\u001B[38;5;33mGroupNormalization\u001B[0m)   │                      │              │                     │         │\n",
       "├────────────────────────┼──────────────────────┼──────────────┼─────────────────────┼─────────┤\n",
       "│ down_block3_activatio… │ (\u001B[38;5;45mNone\u001B[0m, \u001B[38;5;34m16\u001B[0m, \u001B[38;5;34m32\u001B[0m, \u001B[38;5;34m128\u001B[0m)  │            \u001B[38;5;34m0\u001B[0m │ down_block3_bn2[\u001B[38;5;34m0\u001B[0m]… │    \u001B[1m-\u001B[0m    │\n",
       "│ (\u001B[38;5;33mActivation\u001B[0m)           │                      │              │                     │         │\n",
       "├────────────────────────┼──────────────────────┼──────────────┼─────────────────────┼─────────┤\n",
       "│ conv2d_19 (\u001B[38;5;33mConv2D\u001B[0m)     │ (\u001B[38;5;45mNone\u001B[0m, \u001B[38;5;34m8\u001B[0m, \u001B[38;5;34m16\u001B[0m, \u001B[38;5;34m128\u001B[0m)   │      \u001B[38;5;34m147,584\u001B[0m │ down_block3_activa… │    \u001B[1;38;5;34mY\u001B[0m    │\n",
       "├────────────────────────┼──────────────────────┼──────────────┼─────────────────────┼─────────┤\n",
       "│ conv2d_20 (\u001B[38;5;33mConv2D\u001B[0m)     │ (\u001B[38;5;45mNone\u001B[0m, \u001B[38;5;34m8\u001B[0m, \u001B[38;5;34m16\u001B[0m, \u001B[38;5;34m128\u001B[0m)   │      \u001B[38;5;34m147,456\u001B[0m │ conv2d_19[\u001B[38;5;34m0\u001B[0m][\u001B[38;5;34m0\u001B[0m]     │    \u001B[1;38;5;34mY\u001B[0m    │\n",
       "├────────────────────────┼──────────────────────┼──────────────┼─────────────────────┼─────────┤\n",
       "│ group_normalization_3  │ (\u001B[38;5;45mNone\u001B[0m, \u001B[38;5;34m8\u001B[0m, \u001B[38;5;34m16\u001B[0m, \u001B[38;5;34m128\u001B[0m)   │          \u001B[38;5;34m256\u001B[0m │ conv2d_20[\u001B[38;5;34m0\u001B[0m][\u001B[38;5;34m0\u001B[0m]     │    \u001B[1;38;5;34mY\u001B[0m    │\n",
       "│ (\u001B[38;5;33mGroupNormalization\u001B[0m)   │                      │              │                     │         │\n",
       "├────────────────────────┼──────────────────────┼──────────────┼─────────────────────┼─────────┤\n",
       "│ activation_9           │ (\u001B[38;5;45mNone\u001B[0m, \u001B[38;5;34m8\u001B[0m, \u001B[38;5;34m16\u001B[0m, \u001B[38;5;34m128\u001B[0m)   │            \u001B[38;5;34m0\u001B[0m │ group_normalizatio… │    \u001B[1m-\u001B[0m    │\n",
       "│ (\u001B[38;5;33mActivation\u001B[0m)           │                      │              │                     │         │\n",
       "├────────────────────────┼──────────────────────┼──────────────┼─────────────────────┼─────────┤\n",
       "│ conv2d_21 (\u001B[38;5;33mConv2D\u001B[0m)     │ (\u001B[38;5;45mNone\u001B[0m, \u001B[38;5;34m8\u001B[0m, \u001B[38;5;34m16\u001B[0m, \u001B[38;5;34m128\u001B[0m)   │      \u001B[38;5;34m147,456\u001B[0m │ activation_9[\u001B[38;5;34m0\u001B[0m][\u001B[38;5;34m0\u001B[0m]  │    \u001B[1;38;5;34mY\u001B[0m    │\n",
       "├────────────────────────┼──────────────────────┼──────────────┼─────────────────────┼─────────┤\n",
       "│ group_normalization_4  │ (\u001B[38;5;45mNone\u001B[0m, \u001B[38;5;34m8\u001B[0m, \u001B[38;5;34m16\u001B[0m, \u001B[38;5;34m128\u001B[0m)   │          \u001B[38;5;34m256\u001B[0m │ conv2d_21[\u001B[38;5;34m0\u001B[0m][\u001B[38;5;34m0\u001B[0m]     │    \u001B[1;38;5;34mY\u001B[0m    │\n",
       "│ (\u001B[38;5;33mGroupNormalization\u001B[0m)   │                      │              │                     │         │\n",
       "├────────────────────────┼──────────────────────┼──────────────┼─────────────────────┼─────────┤\n",
       "│ activation_10          │ (\u001B[38;5;45mNone\u001B[0m, \u001B[38;5;34m8\u001B[0m, \u001B[38;5;34m16\u001B[0m, \u001B[38;5;34m128\u001B[0m)   │            \u001B[38;5;34m0\u001B[0m │ group_normalizatio… │    \u001B[1m-\u001B[0m    │\n",
       "│ (\u001B[38;5;33mActivation\u001B[0m)           │                      │              │                     │         │\n",
       "├────────────────────────┼──────────────────────┼──────────────┼─────────────────────┼─────────┤\n",
       "│ add_4 (\u001B[38;5;33mAdd\u001B[0m)            │ (\u001B[38;5;45mNone\u001B[0m, \u001B[38;5;34m8\u001B[0m, \u001B[38;5;34m16\u001B[0m, \u001B[38;5;34m128\u001B[0m)   │            \u001B[38;5;34m0\u001B[0m │ activation_10[\u001B[38;5;34m0\u001B[0m][\u001B[38;5;34m0\u001B[0m… │    \u001B[1m-\u001B[0m    │\n",
       "│                        │                      │              │ conv2d_19[\u001B[38;5;34m0\u001B[0m][\u001B[38;5;34m0\u001B[0m]     │         │\n",
       "├────────────────────────┼──────────────────────┼──────────────┼─────────────────────┼─────────┤\n",
       "│ group_normalization_5  │ (\u001B[38;5;45mNone\u001B[0m, \u001B[38;5;34m8\u001B[0m, \u001B[38;5;34m16\u001B[0m, \u001B[38;5;34m128\u001B[0m)   │          \u001B[38;5;34m256\u001B[0m │ add_4[\u001B[38;5;34m0\u001B[0m][\u001B[38;5;34m0\u001B[0m]         │    \u001B[1;38;5;34mY\u001B[0m    │\n",
       "│ (\u001B[38;5;33mGroupNormalization\u001B[0m)   │                      │              │                     │         │\n",
       "├────────────────────────┼──────────────────────┼──────────────┼─────────────────────┼─────────┤\n",
       "│ activation_11          │ (\u001B[38;5;45mNone\u001B[0m, \u001B[38;5;34m8\u001B[0m, \u001B[38;5;34m16\u001B[0m, \u001B[38;5;34m128\u001B[0m)   │            \u001B[38;5;34m0\u001B[0m │ group_normalizatio… │    \u001B[1m-\u001B[0m    │\n",
       "│ (\u001B[38;5;33mActivation\u001B[0m)           │                      │              │                     │         │\n",
       "├────────────────────────┼──────────────────────┼──────────────┼─────────────────────┼─────────┤\n",
       "│ dropout_4 (\u001B[38;5;33mDropout\u001B[0m)    │ (\u001B[38;5;45mNone\u001B[0m, \u001B[38;5;34m8\u001B[0m, \u001B[38;5;34m16\u001B[0m, \u001B[38;5;34m128\u001B[0m)   │            \u001B[38;5;34m0\u001B[0m │ activation_11[\u001B[38;5;34m0\u001B[0m][\u001B[38;5;34m0\u001B[0m] │    \u001B[1m-\u001B[0m    │\n",
       "├────────────────────────┼──────────────────────┼──────────────┼─────────────────────┼─────────┤\n",
       "│ conv2d_22 (\u001B[38;5;33mConv2D\u001B[0m)     │ (\u001B[38;5;45mNone\u001B[0m, \u001B[38;5;34m8\u001B[0m, \u001B[38;5;34m16\u001B[0m, \u001B[38;5;34m64\u001B[0m)    │        \u001B[38;5;34m8,256\u001B[0m │ dropout_4[\u001B[38;5;34m0\u001B[0m][\u001B[38;5;34m0\u001B[0m]     │    \u001B[1;38;5;34mY\u001B[0m    │\n",
       "├────────────────────────┼──────────────────────┼──────────────┼─────────────────────┼─────────┤\n",
       "│ conv2d_23 (\u001B[38;5;33mConv2D\u001B[0m)     │ (\u001B[38;5;45mNone\u001B[0m, \u001B[38;5;34m8\u001B[0m, \u001B[38;5;34m16\u001B[0m, \u001B[38;5;34m64\u001B[0m)    │       \u001B[38;5;34m73,792\u001B[0m │ down_block3_activa… │    \u001B[1;38;5;34mY\u001B[0m    │\n",
       "├────────────────────────┼──────────────────────┼──────────────┼─────────────────────┼─────────┤\n",
       "│ add_5 (\u001B[38;5;33mAdd\u001B[0m)            │ (\u001B[38;5;45mNone\u001B[0m, \u001B[38;5;34m8\u001B[0m, \u001B[38;5;34m16\u001B[0m, \u001B[38;5;34m64\u001B[0m)    │            \u001B[38;5;34m0\u001B[0m │ conv2d_22[\u001B[38;5;34m0\u001B[0m][\u001B[38;5;34m0\u001B[0m],    │    \u001B[1m-\u001B[0m    │\n",
       "│                        │                      │              │ conv2d_23[\u001B[38;5;34m0\u001B[0m][\u001B[38;5;34m0\u001B[0m]     │         │\n",
       "├────────────────────────┼──────────────────────┼──────────────┼─────────────────────┼─────────┤\n",
       "│ activation_12          │ (\u001B[38;5;45mNone\u001B[0m, \u001B[38;5;34m8\u001B[0m, \u001B[38;5;34m16\u001B[0m, \u001B[38;5;34m64\u001B[0m)    │            \u001B[38;5;34m0\u001B[0m │ add_5[\u001B[38;5;34m0\u001B[0m][\u001B[38;5;34m0\u001B[0m]         │    \u001B[1m-\u001B[0m    │\n",
       "│ (\u001B[38;5;33mActivation\u001B[0m)           │                      │              │                     │         │\n",
       "├────────────────────────┼──────────────────────┼──────────────┼─────────────────────┼─────────┤\n",
       "│ conv2d_24 (\u001B[38;5;33mConv2D\u001B[0m)     │ (\u001B[38;5;45mNone\u001B[0m, \u001B[38;5;34m8\u001B[0m, \u001B[38;5;34m16\u001B[0m, \u001B[38;5;34m1\u001B[0m)     │           \u001B[38;5;34m65\u001B[0m │ activation_12[\u001B[38;5;34m0\u001B[0m][\u001B[38;5;34m0\u001B[0m] │    \u001B[1;38;5;34mY\u001B[0m    │\n",
       "├────────────────────────┼──────────────────────┼──────────────┼─────────────────────┼─────────┤\n",
       "│ activation_13          │ (\u001B[38;5;45mNone\u001B[0m, \u001B[38;5;34m8\u001B[0m, \u001B[38;5;34m16\u001B[0m, \u001B[38;5;34m1\u001B[0m)     │            \u001B[38;5;34m0\u001B[0m │ conv2d_24[\u001B[38;5;34m0\u001B[0m][\u001B[38;5;34m0\u001B[0m]     │    \u001B[1m-\u001B[0m    │\n",
       "│ (\u001B[38;5;33mActivation\u001B[0m)           │                      │              │                     │         │\n",
       "├────────────────────────┼──────────────────────┼──────────────┼─────────────────────┼─────────┤\n",
       "│ up_sampling2d_6        │ (\u001B[38;5;45mNone\u001B[0m, \u001B[38;5;34m16\u001B[0m, \u001B[38;5;34m32\u001B[0m, \u001B[38;5;34m1\u001B[0m)    │            \u001B[38;5;34m0\u001B[0m │ activation_13[\u001B[38;5;34m0\u001B[0m][\u001B[38;5;34m0\u001B[0m] │    \u001B[1m-\u001B[0m    │\n",
       "│ (\u001B[38;5;33mUpSampling2D\u001B[0m)         │                      │              │                     │         │\n",
       "├────────────────────────┼──────────────────────┼──────────────┼─────────────────────┼─────────┤\n",
       "│ lambda_3 (\u001B[38;5;33mLambda\u001B[0m)      │ (\u001B[38;5;45mNone\u001B[0m, \u001B[38;5;34m16\u001B[0m, \u001B[38;5;34m32\u001B[0m, \u001B[38;5;34m128\u001B[0m)  │            \u001B[38;5;34m0\u001B[0m │ up_sampling2d_6[\u001B[38;5;34m0\u001B[0m]… │    \u001B[1m-\u001B[0m    │\n",
       "├────────────────────────┼──────────────────────┼──────────────┼─────────────────────┼─────────┤\n",
       "│ multiply_3 (\u001B[38;5;33mMultiply\u001B[0m)  │ (\u001B[38;5;45mNone\u001B[0m, \u001B[38;5;34m16\u001B[0m, \u001B[38;5;34m32\u001B[0m, \u001B[38;5;34m128\u001B[0m)  │            \u001B[38;5;34m0\u001B[0m │ lambda_3[\u001B[38;5;34m0\u001B[0m][\u001B[38;5;34m0\u001B[0m],     │    \u001B[1m-\u001B[0m    │\n",
       "│                        │                      │              │ down_block3_activa… │         │\n",
       "├────────────────────────┼──────────────────────┼──────────────┼─────────────────────┼─────────┤\n",
       "│ conv2d_25 (\u001B[38;5;33mConv2D\u001B[0m)     │ (\u001B[38;5;45mNone\u001B[0m, \u001B[38;5;34m16\u001B[0m, \u001B[38;5;34m32\u001B[0m, \u001B[38;5;34m128\u001B[0m)  │       \u001B[38;5;34m16,512\u001B[0m │ multiply_3[\u001B[38;5;34m0\u001B[0m][\u001B[38;5;34m0\u001B[0m]    │    \u001B[1;38;5;34mY\u001B[0m    │\n",
       "├────────────────────────┼──────────────────────┼──────────────┼─────────────────────┼─────────┤\n",
       "│ batch_normalization_3  │ (\u001B[38;5;45mNone\u001B[0m, \u001B[38;5;34m16\u001B[0m, \u001B[38;5;34m32\u001B[0m, \u001B[38;5;34m128\u001B[0m)  │          \u001B[38;5;34m512\u001B[0m │ conv2d_25[\u001B[38;5;34m0\u001B[0m][\u001B[38;5;34m0\u001B[0m]     │    \u001B[1;38;5;34mY\u001B[0m    │\n",
       "│ (\u001B[38;5;33mBatchNormalization\u001B[0m)   │                      │              │                     │         │\n",
       "├────────────────────────┼──────────────────────┼──────────────┼─────────────────────┼─────────┤\n",
       "│ up_sampling2d_7        │ (\u001B[38;5;45mNone\u001B[0m, \u001B[38;5;34m16\u001B[0m, \u001B[38;5;34m32\u001B[0m, \u001B[38;5;34m128\u001B[0m)  │            \u001B[38;5;34m0\u001B[0m │ dropout_4[\u001B[38;5;34m0\u001B[0m][\u001B[38;5;34m0\u001B[0m]     │    \u001B[1m-\u001B[0m    │\n",
       "│ (\u001B[38;5;33mUpSampling2D\u001B[0m)         │                      │              │                     │         │\n",
       "├────────────────────────┼──────────────────────┼──────────────┼─────────────────────┼─────────┤\n",
       "│ dropout_5 (\u001B[38;5;33mDropout\u001B[0m)    │ (\u001B[38;5;45mNone\u001B[0m, \u001B[38;5;34m16\u001B[0m, \u001B[38;5;34m32\u001B[0m, \u001B[38;5;34m128\u001B[0m)  │            \u001B[38;5;34m0\u001B[0m │ batch_normalizatio… │    \u001B[1m-\u001B[0m    │\n",
       "├────────────────────────┼──────────────────────┼──────────────┼─────────────────────┼─────────┤\n",
       "│ concatenate_3          │ (\u001B[38;5;45mNone\u001B[0m, \u001B[38;5;34m16\u001B[0m, \u001B[38;5;34m32\u001B[0m, \u001B[38;5;34m256\u001B[0m)  │            \u001B[38;5;34m0\u001B[0m │ up_sampling2d_7[\u001B[38;5;34m0\u001B[0m]… │    \u001B[1m-\u001B[0m    │\n",
       "│ (\u001B[38;5;33mConcatenate\u001B[0m)          │                      │              │ dropout_5[\u001B[38;5;34m0\u001B[0m][\u001B[38;5;34m0\u001B[0m]     │         │\n",
       "├────────────────────────┼──────────────────────┼──────────────┼─────────────────────┼─────────┤\n",
       "│ up_block1_conv1        │ (\u001B[38;5;45mNone\u001B[0m, \u001B[38;5;34m16\u001B[0m, \u001B[38;5;34m32\u001B[0m, \u001B[38;5;34m128\u001B[0m)  │      \u001B[38;5;34m295,040\u001B[0m │ concatenate_3[\u001B[38;5;34m0\u001B[0m][\u001B[38;5;34m0\u001B[0m] │    \u001B[1;38;5;34mY\u001B[0m    │\n",
       "│ (\u001B[38;5;33mConv2D\u001B[0m)               │                      │              │                     │         │\n",
       "├────────────────────────┼──────────────────────┼──────────────┼─────────────────────┼─────────┤\n",
       "│ up_block1_bn1          │ (\u001B[38;5;45mNone\u001B[0m, \u001B[38;5;34m16\u001B[0m, \u001B[38;5;34m32\u001B[0m, \u001B[38;5;34m128\u001B[0m)  │          \u001B[38;5;34m256\u001B[0m │ up_block1_conv1[\u001B[38;5;34m0\u001B[0m]… │    \u001B[1;38;5;34mY\u001B[0m    │\n",
       "│ (\u001B[38;5;33mGroupNormalization\u001B[0m)   │                      │              │                     │         │\n",
       "├────────────────────────┼──────────────────────┼──────────────┼─────────────────────┼─────────┤\n",
       "│ up_block1_activation1  │ (\u001B[38;5;45mNone\u001B[0m, \u001B[38;5;34m16\u001B[0m, \u001B[38;5;34m32\u001B[0m, \u001B[38;5;34m128\u001B[0m)  │            \u001B[38;5;34m0\u001B[0m │ up_block1_bn1[\u001B[38;5;34m0\u001B[0m][\u001B[38;5;34m0\u001B[0m] │    \u001B[1m-\u001B[0m    │\n",
       "│ (\u001B[38;5;33mActivation\u001B[0m)           │                      │              │                     │         │\n",
       "├────────────────────────┼──────────────────────┼──────────────┼─────────────────────┼─────────┤\n",
       "│ up_block1_conv2        │ (\u001B[38;5;45mNone\u001B[0m, \u001B[38;5;34m16\u001B[0m, \u001B[38;5;34m32\u001B[0m, \u001B[38;5;34m128\u001B[0m)  │      \u001B[38;5;34m147,584\u001B[0m │ up_block1_activati… │    \u001B[1;38;5;34mY\u001B[0m    │\n",
       "│ (\u001B[38;5;33mConv2D\u001B[0m)               │                      │              │                     │         │\n",
       "├────────────────────────┼──────────────────────┼──────────────┼─────────────────────┼─────────┤\n",
       "│ up_block1_bn2          │ (\u001B[38;5;45mNone\u001B[0m, \u001B[38;5;34m16\u001B[0m, \u001B[38;5;34m32\u001B[0m, \u001B[38;5;34m128\u001B[0m)  │          \u001B[38;5;34m256\u001B[0m │ up_block1_conv2[\u001B[38;5;34m0\u001B[0m]… │    \u001B[1;38;5;34mY\u001B[0m    │\n",
       "│ (\u001B[38;5;33mGroupNormalization\u001B[0m)   │                      │              │                     │         │\n",
       "├────────────────────────┼──────────────────────┼──────────────┼─────────────────────┼─────────┤\n",
       "│ up_block1_activation2  │ (\u001B[38;5;45mNone\u001B[0m, \u001B[38;5;34m16\u001B[0m, \u001B[38;5;34m32\u001B[0m, \u001B[38;5;34m128\u001B[0m)  │            \u001B[38;5;34m0\u001B[0m │ up_block1_bn2[\u001B[38;5;34m0\u001B[0m][\u001B[38;5;34m0\u001B[0m] │    \u001B[1m-\u001B[0m    │\n",
       "│ (\u001B[38;5;33mActivation\u001B[0m)           │                      │              │                     │         │\n",
       "├────────────────────────┼──────────────────────┼──────────────┼─────────────────────┼─────────┤\n",
       "│ conv2d_26 (\u001B[38;5;33mConv2D\u001B[0m)     │ (\u001B[38;5;45mNone\u001B[0m, \u001B[38;5;34m16\u001B[0m, \u001B[38;5;34m32\u001B[0m, \u001B[38;5;34m64\u001B[0m)   │        \u001B[38;5;34m8,256\u001B[0m │ up_block1_activati… │    \u001B[1;38;5;34mY\u001B[0m    │\n",
       "├────────────────────────┼──────────────────────┼──────────────┼─────────────────────┼─────────┤\n",
       "│ conv2d_27 (\u001B[38;5;33mConv2D\u001B[0m)     │ (\u001B[38;5;45mNone\u001B[0m, \u001B[38;5;34m16\u001B[0m, \u001B[38;5;34m32\u001B[0m, \u001B[38;5;34m64\u001B[0m)   │       \u001B[38;5;34m36,928\u001B[0m │ down_block2_activa… │    \u001B[1;38;5;34mY\u001B[0m    │\n",
       "├────────────────────────┼──────────────────────┼──────────────┼─────────────────────┼─────────┤\n",
       "│ add_6 (\u001B[38;5;33mAdd\u001B[0m)            │ (\u001B[38;5;45mNone\u001B[0m, \u001B[38;5;34m16\u001B[0m, \u001B[38;5;34m32\u001B[0m, \u001B[38;5;34m64\u001B[0m)   │            \u001B[38;5;34m0\u001B[0m │ conv2d_26[\u001B[38;5;34m0\u001B[0m][\u001B[38;5;34m0\u001B[0m],    │    \u001B[1m-\u001B[0m    │\n",
       "│                        │                      │              │ conv2d_27[\u001B[38;5;34m0\u001B[0m][\u001B[38;5;34m0\u001B[0m]     │         │\n",
       "├────────────────────────┼──────────────────────┼──────────────┼─────────────────────┼─────────┤\n",
       "│ activation_14          │ (\u001B[38;5;45mNone\u001B[0m, \u001B[38;5;34m16\u001B[0m, \u001B[38;5;34m32\u001B[0m, \u001B[38;5;34m64\u001B[0m)   │            \u001B[38;5;34m0\u001B[0m │ add_6[\u001B[38;5;34m0\u001B[0m][\u001B[38;5;34m0\u001B[0m]         │    \u001B[1m-\u001B[0m    │\n",
       "│ (\u001B[38;5;33mActivation\u001B[0m)           │                      │              │                     │         │\n",
       "├────────────────────────┼──────────────────────┼──────────────┼─────────────────────┼─────────┤\n",
       "│ conv2d_28 (\u001B[38;5;33mConv2D\u001B[0m)     │ (\u001B[38;5;45mNone\u001B[0m, \u001B[38;5;34m16\u001B[0m, \u001B[38;5;34m32\u001B[0m, \u001B[38;5;34m1\u001B[0m)    │           \u001B[38;5;34m65\u001B[0m │ activation_14[\u001B[38;5;34m0\u001B[0m][\u001B[38;5;34m0\u001B[0m] │    \u001B[1;38;5;34mY\u001B[0m    │\n",
       "├────────────────────────┼──────────────────────┼──────────────┼─────────────────────┼─────────┤\n",
       "│ activation_15          │ (\u001B[38;5;45mNone\u001B[0m, \u001B[38;5;34m16\u001B[0m, \u001B[38;5;34m32\u001B[0m, \u001B[38;5;34m1\u001B[0m)    │            \u001B[38;5;34m0\u001B[0m │ conv2d_28[\u001B[38;5;34m0\u001B[0m][\u001B[38;5;34m0\u001B[0m]     │    \u001B[1m-\u001B[0m    │\n",
       "│ (\u001B[38;5;33mActivation\u001B[0m)           │                      │              │                     │         │\n",
       "├────────────────────────┼──────────────────────┼──────────────┼─────────────────────┼─────────┤\n",
       "│ up_sampling2d_8        │ (\u001B[38;5;45mNone\u001B[0m, \u001B[38;5;34m32\u001B[0m, \u001B[38;5;34m64\u001B[0m, \u001B[38;5;34m1\u001B[0m)    │            \u001B[38;5;34m0\u001B[0m │ activation_15[\u001B[38;5;34m0\u001B[0m][\u001B[38;5;34m0\u001B[0m] │    \u001B[1m-\u001B[0m    │\n",
       "│ (\u001B[38;5;33mUpSampling2D\u001B[0m)         │                      │              │                     │         │\n",
       "├────────────────────────┼──────────────────────┼──────────────┼─────────────────────┼─────────┤\n",
       "│ lambda_4 (\u001B[38;5;33mLambda\u001B[0m)      │ (\u001B[38;5;45mNone\u001B[0m, \u001B[38;5;34m32\u001B[0m, \u001B[38;5;34m64\u001B[0m, \u001B[38;5;34m64\u001B[0m)   │            \u001B[38;5;34m0\u001B[0m │ up_sampling2d_8[\u001B[38;5;34m0\u001B[0m]… │    \u001B[1m-\u001B[0m    │\n",
       "├────────────────────────┼──────────────────────┼──────────────┼─────────────────────┼─────────┤\n",
       "│ multiply_4 (\u001B[38;5;33mMultiply\u001B[0m)  │ (\u001B[38;5;45mNone\u001B[0m, \u001B[38;5;34m32\u001B[0m, \u001B[38;5;34m64\u001B[0m, \u001B[38;5;34m64\u001B[0m)   │            \u001B[38;5;34m0\u001B[0m │ lambda_4[\u001B[38;5;34m0\u001B[0m][\u001B[38;5;34m0\u001B[0m],     │    \u001B[1m-\u001B[0m    │\n",
       "│                        │                      │              │ down_block2_activa… │         │\n",
       "├────────────────────────┼──────────────────────┼──────────────┼─────────────────────┼─────────┤\n",
       "│ conv2d_29 (\u001B[38;5;33mConv2D\u001B[0m)     │ (\u001B[38;5;45mNone\u001B[0m, \u001B[38;5;34m32\u001B[0m, \u001B[38;5;34m64\u001B[0m, \u001B[38;5;34m64\u001B[0m)   │        \u001B[38;5;34m4,160\u001B[0m │ multiply_4[\u001B[38;5;34m0\u001B[0m][\u001B[38;5;34m0\u001B[0m]    │    \u001B[1;38;5;34mY\u001B[0m    │\n",
       "├────────────────────────┼──────────────────────┼──────────────┼─────────────────────┼─────────┤\n",
       "│ batch_normalization_4  │ (\u001B[38;5;45mNone\u001B[0m, \u001B[38;5;34m32\u001B[0m, \u001B[38;5;34m64\u001B[0m, \u001B[38;5;34m64\u001B[0m)   │          \u001B[38;5;34m256\u001B[0m │ conv2d_29[\u001B[38;5;34m0\u001B[0m][\u001B[38;5;34m0\u001B[0m]     │    \u001B[1;38;5;34mY\u001B[0m    │\n",
       "│ (\u001B[38;5;33mBatchNormalization\u001B[0m)   │                      │              │                     │         │\n",
       "├────────────────────────┼──────────────────────┼──────────────┼─────────────────────┼─────────┤\n",
       "│ up_sampling2d_9        │ (\u001B[38;5;45mNone\u001B[0m, \u001B[38;5;34m32\u001B[0m, \u001B[38;5;34m64\u001B[0m, \u001B[38;5;34m128\u001B[0m)  │            \u001B[38;5;34m0\u001B[0m │ up_block1_activati… │    \u001B[1m-\u001B[0m    │\n",
       "│ (\u001B[38;5;33mUpSampling2D\u001B[0m)         │                      │              │                     │         │\n",
       "├────────────────────────┼──────────────────────┼──────────────┼─────────────────────┼─────────┤\n",
       "│ dropout_6 (\u001B[38;5;33mDropout\u001B[0m)    │ (\u001B[38;5;45mNone\u001B[0m, \u001B[38;5;34m32\u001B[0m, \u001B[38;5;34m64\u001B[0m, \u001B[38;5;34m64\u001B[0m)   │            \u001B[38;5;34m0\u001B[0m │ batch_normalizatio… │    \u001B[1m-\u001B[0m    │\n",
       "├────────────────────────┼──────────────────────┼──────────────┼─────────────────────┼─────────┤\n",
       "│ concatenate_4          │ (\u001B[38;5;45mNone\u001B[0m, \u001B[38;5;34m32\u001B[0m, \u001B[38;5;34m64\u001B[0m, \u001B[38;5;34m192\u001B[0m)  │            \u001B[38;5;34m0\u001B[0m │ up_sampling2d_9[\u001B[38;5;34m0\u001B[0m]… │    \u001B[1m-\u001B[0m    │\n",
       "│ (\u001B[38;5;33mConcatenate\u001B[0m)          │                      │              │ dropout_6[\u001B[38;5;34m0\u001B[0m][\u001B[38;5;34m0\u001B[0m]     │         │\n",
       "├────────────────────────┼──────────────────────┼──────────────┼─────────────────────┼─────────┤\n",
       "│ up_block2_conv1        │ (\u001B[38;5;45mNone\u001B[0m, \u001B[38;5;34m32\u001B[0m, \u001B[38;5;34m64\u001B[0m, \u001B[38;5;34m64\u001B[0m)   │      \u001B[38;5;34m110,656\u001B[0m │ concatenate_4[\u001B[38;5;34m0\u001B[0m][\u001B[38;5;34m0\u001B[0m] │    \u001B[1;38;5;34mY\u001B[0m    │\n",
       "│ (\u001B[38;5;33mConv2D\u001B[0m)               │                      │              │                     │         │\n",
       "├────────────────────────┼──────────────────────┼──────────────┼─────────────────────┼─────────┤\n",
       "│ up_block2_bn1          │ (\u001B[38;5;45mNone\u001B[0m, \u001B[38;5;34m32\u001B[0m, \u001B[38;5;34m64\u001B[0m, \u001B[38;5;34m64\u001B[0m)   │          \u001B[38;5;34m128\u001B[0m │ up_block2_conv1[\u001B[38;5;34m0\u001B[0m]… │    \u001B[1;38;5;34mY\u001B[0m    │\n",
       "│ (\u001B[38;5;33mGroupNormalization\u001B[0m)   │                      │              │                     │         │\n",
       "├────────────────────────┼──────────────────────┼──────────────┼─────────────────────┼─────────┤\n",
       "│ up_block2_activation1  │ (\u001B[38;5;45mNone\u001B[0m, \u001B[38;5;34m32\u001B[0m, \u001B[38;5;34m64\u001B[0m, \u001B[38;5;34m64\u001B[0m)   │            \u001B[38;5;34m0\u001B[0m │ up_block2_bn1[\u001B[38;5;34m0\u001B[0m][\u001B[38;5;34m0\u001B[0m] │    \u001B[1m-\u001B[0m    │\n",
       "│ (\u001B[38;5;33mActivation\u001B[0m)           │                      │              │                     │         │\n",
       "├────────────────────────┼──────────────────────┼──────────────┼─────────────────────┼─────────┤\n",
       "│ up_block2_conv2        │ (\u001B[38;5;45mNone\u001B[0m, \u001B[38;5;34m32\u001B[0m, \u001B[38;5;34m64\u001B[0m, \u001B[38;5;34m64\u001B[0m)   │       \u001B[38;5;34m36,928\u001B[0m │ up_block2_activati… │    \u001B[1;38;5;34mY\u001B[0m    │\n",
       "│ (\u001B[38;5;33mConv2D\u001B[0m)               │                      │              │                     │         │\n",
       "├────────────────────────┼──────────────────────┼──────────────┼─────────────────────┼─────────┤\n",
       "│ up_block2_bn2          │ (\u001B[38;5;45mNone\u001B[0m, \u001B[38;5;34m32\u001B[0m, \u001B[38;5;34m64\u001B[0m, \u001B[38;5;34m64\u001B[0m)   │          \u001B[38;5;34m128\u001B[0m │ up_block2_conv2[\u001B[38;5;34m0\u001B[0m]… │    \u001B[1;38;5;34mY\u001B[0m    │\n",
       "│ (\u001B[38;5;33mGroupNormalization\u001B[0m)   │                      │              │                     │         │\n",
       "├────────────────────────┼──────────────────────┼──────────────┼─────────────────────┼─────────┤\n",
       "│ up_block2_activation2  │ (\u001B[38;5;45mNone\u001B[0m, \u001B[38;5;34m32\u001B[0m, \u001B[38;5;34m64\u001B[0m, \u001B[38;5;34m64\u001B[0m)   │            \u001B[38;5;34m0\u001B[0m │ up_block2_bn2[\u001B[38;5;34m0\u001B[0m][\u001B[38;5;34m0\u001B[0m] │    \u001B[1m-\u001B[0m    │\n",
       "│ (\u001B[38;5;33mActivation\u001B[0m)           │                      │              │                     │         │\n",
       "├────────────────────────┼──────────────────────┼──────────────┼─────────────────────┼─────────┤\n",
       "│ conv2d_30 (\u001B[38;5;33mConv2D\u001B[0m)     │ (\u001B[38;5;45mNone\u001B[0m, \u001B[38;5;34m32\u001B[0m, \u001B[38;5;34m64\u001B[0m, \u001B[38;5;34m64\u001B[0m)   │        \u001B[38;5;34m4,160\u001B[0m │ up_block2_activati… │    \u001B[1;38;5;34mY\u001B[0m    │\n",
       "├────────────────────────┼──────────────────────┼──────────────┼─────────────────────┼─────────┤\n",
       "│ conv2d_31 (\u001B[38;5;33mConv2D\u001B[0m)     │ (\u001B[38;5;45mNone\u001B[0m, \u001B[38;5;34m32\u001B[0m, \u001B[38;5;34m64\u001B[0m, \u001B[38;5;34m64\u001B[0m)   │       \u001B[38;5;34m18,496\u001B[0m │ down_block1_activa… │    \u001B[1;38;5;34mY\u001B[0m    │\n",
       "├────────────────────────┼──────────────────────┼──────────────┼─────────────────────┼─────────┤\n",
       "│ add_7 (\u001B[38;5;33mAdd\u001B[0m)            │ (\u001B[38;5;45mNone\u001B[0m, \u001B[38;5;34m32\u001B[0m, \u001B[38;5;34m64\u001B[0m, \u001B[38;5;34m64\u001B[0m)   │            \u001B[38;5;34m0\u001B[0m │ conv2d_30[\u001B[38;5;34m0\u001B[0m][\u001B[38;5;34m0\u001B[0m],    │    \u001B[1m-\u001B[0m    │\n",
       "│                        │                      │              │ conv2d_31[\u001B[38;5;34m0\u001B[0m][\u001B[38;5;34m0\u001B[0m]     │         │\n",
       "├────────────────────────┼──────────────────────┼──────────────┼─────────────────────┼─────────┤\n",
       "│ activation_16          │ (\u001B[38;5;45mNone\u001B[0m, \u001B[38;5;34m32\u001B[0m, \u001B[38;5;34m64\u001B[0m, \u001B[38;5;34m64\u001B[0m)   │            \u001B[38;5;34m0\u001B[0m │ add_7[\u001B[38;5;34m0\u001B[0m][\u001B[38;5;34m0\u001B[0m]         │    \u001B[1m-\u001B[0m    │\n",
       "│ (\u001B[38;5;33mActivation\u001B[0m)           │                      │              │                     │         │\n",
       "├────────────────────────┼──────────────────────┼──────────────┼─────────────────────┼─────────┤\n",
       "│ conv2d_32 (\u001B[38;5;33mConv2D\u001B[0m)     │ (\u001B[38;5;45mNone\u001B[0m, \u001B[38;5;34m32\u001B[0m, \u001B[38;5;34m64\u001B[0m, \u001B[38;5;34m1\u001B[0m)    │           \u001B[38;5;34m65\u001B[0m │ activation_16[\u001B[38;5;34m0\u001B[0m][\u001B[38;5;34m0\u001B[0m] │    \u001B[1;38;5;34mY\u001B[0m    │\n",
       "├────────────────────────┼──────────────────────┼──────────────┼─────────────────────┼─────────┤\n",
       "│ activation_17          │ (\u001B[38;5;45mNone\u001B[0m, \u001B[38;5;34m32\u001B[0m, \u001B[38;5;34m64\u001B[0m, \u001B[38;5;34m1\u001B[0m)    │            \u001B[38;5;34m0\u001B[0m │ conv2d_32[\u001B[38;5;34m0\u001B[0m][\u001B[38;5;34m0\u001B[0m]     │    \u001B[1m-\u001B[0m    │\n",
       "│ (\u001B[38;5;33mActivation\u001B[0m)           │                      │              │                     │         │\n",
       "├────────────────────────┼──────────────────────┼──────────────┼─────────────────────┼─────────┤\n",
       "│ up_sampling2d_10       │ (\u001B[38;5;45mNone\u001B[0m, \u001B[38;5;34m64\u001B[0m, \u001B[38;5;34m128\u001B[0m, \u001B[38;5;34m1\u001B[0m)   │            \u001B[38;5;34m0\u001B[0m │ activation_17[\u001B[38;5;34m0\u001B[0m][\u001B[38;5;34m0\u001B[0m] │    \u001B[1m-\u001B[0m    │\n",
       "│ (\u001B[38;5;33mUpSampling2D\u001B[0m)         │                      │              │                     │         │\n",
       "├────────────────────────┼──────────────────────┼──────────────┼─────────────────────┼─────────┤\n",
       "│ lambda_5 (\u001B[38;5;33mLambda\u001B[0m)      │ (\u001B[38;5;45mNone\u001B[0m, \u001B[38;5;34m64\u001B[0m, \u001B[38;5;34m128\u001B[0m, \u001B[38;5;34m32\u001B[0m)  │            \u001B[38;5;34m0\u001B[0m │ up_sampling2d_10[\u001B[38;5;34m0\u001B[0m… │    \u001B[1m-\u001B[0m    │\n",
       "├────────────────────────┼──────────────────────┼──────────────┼─────────────────────┼─────────┤\n",
       "│ multiply_5 (\u001B[38;5;33mMultiply\u001B[0m)  │ (\u001B[38;5;45mNone\u001B[0m, \u001B[38;5;34m64\u001B[0m, \u001B[38;5;34m128\u001B[0m, \u001B[38;5;34m32\u001B[0m)  │            \u001B[38;5;34m0\u001B[0m │ lambda_5[\u001B[38;5;34m0\u001B[0m][\u001B[38;5;34m0\u001B[0m],     │    \u001B[1m-\u001B[0m    │\n",
       "│                        │                      │              │ down_block1_activa… │         │\n",
       "├────────────────────────┼──────────────────────┼──────────────┼─────────────────────┼─────────┤\n",
       "│ conv2d_33 (\u001B[38;5;33mConv2D\u001B[0m)     │ (\u001B[38;5;45mNone\u001B[0m, \u001B[38;5;34m64\u001B[0m, \u001B[38;5;34m128\u001B[0m, \u001B[38;5;34m32\u001B[0m)  │        \u001B[38;5;34m1,056\u001B[0m │ multiply_5[\u001B[38;5;34m0\u001B[0m][\u001B[38;5;34m0\u001B[0m]    │    \u001B[1;38;5;34mY\u001B[0m    │\n",
       "├────────────────────────┼──────────────────────┼──────────────┼─────────────────────┼─────────┤\n",
       "│ batch_normalization_5  │ (\u001B[38;5;45mNone\u001B[0m, \u001B[38;5;34m64\u001B[0m, \u001B[38;5;34m128\u001B[0m, \u001B[38;5;34m32\u001B[0m)  │          \u001B[38;5;34m128\u001B[0m │ conv2d_33[\u001B[38;5;34m0\u001B[0m][\u001B[38;5;34m0\u001B[0m]     │    \u001B[1;38;5;34mY\u001B[0m    │\n",
       "│ (\u001B[38;5;33mBatchNormalization\u001B[0m)   │                      │              │                     │         │\n",
       "├────────────────────────┼──────────────────────┼──────────────┼─────────────────────┼─────────┤\n",
       "│ up_sampling2d_11       │ (\u001B[38;5;45mNone\u001B[0m, \u001B[38;5;34m64\u001B[0m, \u001B[38;5;34m128\u001B[0m, \u001B[38;5;34m64\u001B[0m)  │            \u001B[38;5;34m0\u001B[0m │ up_block2_activati… │    \u001B[1m-\u001B[0m    │\n",
       "│ (\u001B[38;5;33mUpSampling2D\u001B[0m)         │                      │              │                     │         │\n",
       "├────────────────────────┼──────────────────────┼──────────────┼─────────────────────┼─────────┤\n",
       "│ dropout_7 (\u001B[38;5;33mDropout\u001B[0m)    │ (\u001B[38;5;45mNone\u001B[0m, \u001B[38;5;34m64\u001B[0m, \u001B[38;5;34m128\u001B[0m, \u001B[38;5;34m32\u001B[0m)  │            \u001B[38;5;34m0\u001B[0m │ batch_normalizatio… │    \u001B[1m-\u001B[0m    │\n",
       "├────────────────────────┼──────────────────────┼──────────────┼─────────────────────┼─────────┤\n",
       "│ concatenate_5          │ (\u001B[38;5;45mNone\u001B[0m, \u001B[38;5;34m64\u001B[0m, \u001B[38;5;34m128\u001B[0m, \u001B[38;5;34m96\u001B[0m)  │            \u001B[38;5;34m0\u001B[0m │ up_sampling2d_11[\u001B[38;5;34m0\u001B[0m… │    \u001B[1m-\u001B[0m    │\n",
       "│ (\u001B[38;5;33mConcatenate\u001B[0m)          │                      │              │ dropout_7[\u001B[38;5;34m0\u001B[0m][\u001B[38;5;34m0\u001B[0m]     │         │\n",
       "├────────────────────────┼──────────────────────┼──────────────┼─────────────────────┼─────────┤\n",
       "│ up_block3_conv1        │ (\u001B[38;5;45mNone\u001B[0m, \u001B[38;5;34m64\u001B[0m, \u001B[38;5;34m128\u001B[0m, \u001B[38;5;34m32\u001B[0m)  │       \u001B[38;5;34m27,680\u001B[0m │ concatenate_5[\u001B[38;5;34m0\u001B[0m][\u001B[38;5;34m0\u001B[0m] │    \u001B[1;38;5;34mY\u001B[0m    │\n",
       "│ (\u001B[38;5;33mConv2D\u001B[0m)               │                      │              │                     │         │\n",
       "├────────────────────────┼──────────────────────┼──────────────┼─────────────────────┼─────────┤\n",
       "│ up_block3_bn1          │ (\u001B[38;5;45mNone\u001B[0m, \u001B[38;5;34m64\u001B[0m, \u001B[38;5;34m128\u001B[0m, \u001B[38;5;34m32\u001B[0m)  │           \u001B[38;5;34m64\u001B[0m │ up_block3_conv1[\u001B[38;5;34m0\u001B[0m]… │    \u001B[1;38;5;34mY\u001B[0m    │\n",
       "│ (\u001B[38;5;33mGroupNormalization\u001B[0m)   │                      │              │                     │         │\n",
       "├────────────────────────┼──────────────────────┼──────────────┼─────────────────────┼─────────┤\n",
       "│ up_block3_activation1  │ (\u001B[38;5;45mNone\u001B[0m, \u001B[38;5;34m64\u001B[0m, \u001B[38;5;34m128\u001B[0m, \u001B[38;5;34m32\u001B[0m)  │            \u001B[38;5;34m0\u001B[0m │ up_block3_bn1[\u001B[38;5;34m0\u001B[0m][\u001B[38;5;34m0\u001B[0m] │    \u001B[1m-\u001B[0m    │\n",
       "│ (\u001B[38;5;33mActivation\u001B[0m)           │                      │              │                     │         │\n",
       "├────────────────────────┼──────────────────────┼──────────────┼─────────────────────┼─────────┤\n",
       "│ up_block3_conv2        │ (\u001B[38;5;45mNone\u001B[0m, \u001B[38;5;34m64\u001B[0m, \u001B[38;5;34m128\u001B[0m, \u001B[38;5;34m32\u001B[0m)  │        \u001B[38;5;34m9,248\u001B[0m │ up_block3_activati… │    \u001B[1;38;5;34mY\u001B[0m    │\n",
       "│ (\u001B[38;5;33mConv2D\u001B[0m)               │                      │              │                     │         │\n",
       "├────────────────────────┼──────────────────────┼──────────────┼─────────────────────┼─────────┤\n",
       "│ up_block3_bn2          │ (\u001B[38;5;45mNone\u001B[0m, \u001B[38;5;34m64\u001B[0m, \u001B[38;5;34m128\u001B[0m, \u001B[38;5;34m32\u001B[0m)  │           \u001B[38;5;34m64\u001B[0m │ up_block3_conv2[\u001B[38;5;34m0\u001B[0m]… │    \u001B[1;38;5;34mY\u001B[0m    │\n",
       "│ (\u001B[38;5;33mGroupNormalization\u001B[0m)   │                      │              │                     │         │\n",
       "├────────────────────────┼──────────────────────┼──────────────┼─────────────────────┼─────────┤\n",
       "│ conv2d_transpose_2     │ (\u001B[38;5;45mNone\u001B[0m, \u001B[38;5;34m64\u001B[0m, \u001B[38;5;34m128\u001B[0m, \u001B[38;5;34m64\u001B[0m)  │       \u001B[38;5;34m73,792\u001B[0m │ up_block1_activati… │    \u001B[1;38;5;34mY\u001B[0m    │\n",
       "│ (\u001B[38;5;33mConv2DTranspose\u001B[0m)      │                      │              │                     │         │\n",
       "├────────────────────────┼──────────────────────┼──────────────┼─────────────────────┼─────────┤\n",
       "│ conv2d_transpose_3     │ (\u001B[38;5;45mNone\u001B[0m, \u001B[38;5;34m64\u001B[0m, \u001B[38;5;34m128\u001B[0m, \u001B[38;5;34m32\u001B[0m)  │       \u001B[38;5;34m18,464\u001B[0m │ up_block2_activati… │    \u001B[1;38;5;34mY\u001B[0m    │\n",
       "│ (\u001B[38;5;33mConv2DTranspose\u001B[0m)      │                      │              │                     │         │\n",
       "├────────────────────────┼──────────────────────┼──────────────┼─────────────────────┼─────────┤\n",
       "│ up_block3_activation2  │ (\u001B[38;5;45mNone\u001B[0m, \u001B[38;5;34m64\u001B[0m, \u001B[38;5;34m128\u001B[0m, \u001B[38;5;34m32\u001B[0m)  │            \u001B[38;5;34m0\u001B[0m │ up_block3_bn2[\u001B[38;5;34m0\u001B[0m][\u001B[38;5;34m0\u001B[0m] │    \u001B[1m-\u001B[0m    │\n",
       "│ (\u001B[38;5;33mActivation\u001B[0m)           │                      │              │                     │         │\n",
       "├────────────────────────┼──────────────────────┼──────────────┼─────────────────────┼─────────┤\n",
       "│ out1 (\u001B[38;5;33mConv2D\u001B[0m)          │ (\u001B[38;5;45mNone\u001B[0m, \u001B[38;5;34m64\u001B[0m, \u001B[38;5;34m128\u001B[0m, \u001B[38;5;34m5\u001B[0m)   │          \u001B[38;5;34m325\u001B[0m │ conv2d_transpose_2… │    \u001B[1;38;5;34mY\u001B[0m    │\n",
       "├────────────────────────┼──────────────────────┼──────────────┼─────────────────────┼─────────┤\n",
       "│ out2 (\u001B[38;5;33mConv2D\u001B[0m)          │ (\u001B[38;5;45mNone\u001B[0m, \u001B[38;5;34m64\u001B[0m, \u001B[38;5;34m128\u001B[0m, \u001B[38;5;34m5\u001B[0m)   │          \u001B[38;5;34m165\u001B[0m │ conv2d_transpose_3… │    \u001B[1;38;5;34mY\u001B[0m    │\n",
       "├────────────────────────┼──────────────────────┼──────────────┼─────────────────────┼─────────┤\n",
       "│ out3 (\u001B[38;5;33mConv2D\u001B[0m)          │ (\u001B[38;5;45mNone\u001B[0m, \u001B[38;5;34m64\u001B[0m, \u001B[38;5;34m128\u001B[0m, \u001B[38;5;34m5\u001B[0m)   │          \u001B[38;5;34m165\u001B[0m │ up_block3_activati… │    \u001B[1;38;5;34mY\u001B[0m    │\n",
       "└────────────────────────┴──────────────────────┴──────────────┴─────────────────────┴─────────┘\n"
      ],
      "text/html": [
       "<pre style=\"white-space:pre;overflow-x:auto;line-height:normal;font-family:Menlo,'DejaVu Sans Mono',consolas,'Courier New',monospace\">┏━━━━━━━━━━━━━━━━━━━━━━━━┳━━━━━━━━━━━━━━━━━━━━━━┳━━━━━━━━━━━━━━┳━━━━━━━━━━━━━━━━━━━━━┳━━━━━━━━━┓\n",
       "┃<span style=\"font-weight: bold\"> Layer (type)           </span>┃<span style=\"font-weight: bold\"> Output Shape         </span>┃<span style=\"font-weight: bold\">      Param # </span>┃<span style=\"font-weight: bold\"> Connected to        </span>┃<span style=\"font-weight: bold\"> Traina… </span>┃\n",
       "┡━━━━━━━━━━━━━━━━━━━━━━━━╇━━━━━━━━━━━━━━━━━━━━━━╇━━━━━━━━━━━━━━╇━━━━━━━━━━━━━━━━━━━━━╇━━━━━━━━━┩\n",
       "│ input_layer            │ (<span style=\"color: #00d7ff; text-decoration-color: #00d7ff\">None</span>, <span style=\"color: #00af00; text-decoration-color: #00af00\">64</span>, <span style=\"color: #00af00; text-decoration-color: #00af00\">128</span>, <span style=\"color: #00af00; text-decoration-color: #00af00\">1</span>)   │            <span style=\"color: #00af00; text-decoration-color: #00af00\">0</span> │ -                   │    <span style=\"font-weight: bold\">-</span>    │\n",
       "│ (<span style=\"color: #0087ff; text-decoration-color: #0087ff\">InputLayer</span>)           │                      │              │                     │         │\n",
       "├────────────────────────┼──────────────────────┼──────────────┼─────────────────────┼─────────┤\n",
       "│ down_block1_conv1      │ (<span style=\"color: #00d7ff; text-decoration-color: #00d7ff\">None</span>, <span style=\"color: #00af00; text-decoration-color: #00af00\">64</span>, <span style=\"color: #00af00; text-decoration-color: #00af00\">128</span>, <span style=\"color: #00af00; text-decoration-color: #00af00\">32</span>)  │          <span style=\"color: #00af00; text-decoration-color: #00af00\">320</span> │ input_layer[<span style=\"color: #00af00; text-decoration-color: #00af00\">0</span>][<span style=\"color: #00af00; text-decoration-color: #00af00\">0</span>]   │    <span style=\"color: #00af00; text-decoration-color: #00af00; font-weight: bold\">Y</span>    │\n",
       "│ (<span style=\"color: #0087ff; text-decoration-color: #0087ff\">Conv2D</span>)               │                      │              │                     │         │\n",
       "├────────────────────────┼──────────────────────┼──────────────┼─────────────────────┼─────────┤\n",
       "│ down_block1_bn1        │ (<span style=\"color: #00d7ff; text-decoration-color: #00d7ff\">None</span>, <span style=\"color: #00af00; text-decoration-color: #00af00\">64</span>, <span style=\"color: #00af00; text-decoration-color: #00af00\">128</span>, <span style=\"color: #00af00; text-decoration-color: #00af00\">32</span>)  │           <span style=\"color: #00af00; text-decoration-color: #00af00\">64</span> │ down_block1_conv1[<span style=\"color: #00af00; text-decoration-color: #00af00\">…</span> │    <span style=\"color: #00af00; text-decoration-color: #00af00; font-weight: bold\">Y</span>    │\n",
       "│ (<span style=\"color: #0087ff; text-decoration-color: #0087ff\">GroupNormalization</span>)   │                      │              │                     │         │\n",
       "├────────────────────────┼──────────────────────┼──────────────┼─────────────────────┼─────────┤\n",
       "│ down_block1_activatio… │ (<span style=\"color: #00d7ff; text-decoration-color: #00d7ff\">None</span>, <span style=\"color: #00af00; text-decoration-color: #00af00\">64</span>, <span style=\"color: #00af00; text-decoration-color: #00af00\">128</span>, <span style=\"color: #00af00; text-decoration-color: #00af00\">32</span>)  │            <span style=\"color: #00af00; text-decoration-color: #00af00\">0</span> │ down_block1_bn1[<span style=\"color: #00af00; text-decoration-color: #00af00\">0</span>]… │    <span style=\"font-weight: bold\">-</span>    │\n",
       "│ (<span style=\"color: #0087ff; text-decoration-color: #0087ff\">Activation</span>)           │                      │              │                     │         │\n",
       "├────────────────────────┼──────────────────────┼──────────────┼─────────────────────┼─────────┤\n",
       "│ down_block1_conv2      │ (<span style=\"color: #00d7ff; text-decoration-color: #00d7ff\">None</span>, <span style=\"color: #00af00; text-decoration-color: #00af00\">64</span>, <span style=\"color: #00af00; text-decoration-color: #00af00\">128</span>, <span style=\"color: #00af00; text-decoration-color: #00af00\">32</span>)  │        <span style=\"color: #00af00; text-decoration-color: #00af00\">9,248</span> │ down_block1_activa… │    <span style=\"color: #00af00; text-decoration-color: #00af00; font-weight: bold\">Y</span>    │\n",
       "│ (<span style=\"color: #0087ff; text-decoration-color: #0087ff\">Conv2D</span>)               │                      │              │                     │         │\n",
       "├────────────────────────┼──────────────────────┼──────────────┼─────────────────────┼─────────┤\n",
       "│ down_block1_bn2        │ (<span style=\"color: #00d7ff; text-decoration-color: #00d7ff\">None</span>, <span style=\"color: #00af00; text-decoration-color: #00af00\">64</span>, <span style=\"color: #00af00; text-decoration-color: #00af00\">128</span>, <span style=\"color: #00af00; text-decoration-color: #00af00\">32</span>)  │           <span style=\"color: #00af00; text-decoration-color: #00af00\">64</span> │ down_block1_conv2[<span style=\"color: #00af00; text-decoration-color: #00af00\">…</span> │    <span style=\"color: #00af00; text-decoration-color: #00af00; font-weight: bold\">Y</span>    │\n",
       "│ (<span style=\"color: #0087ff; text-decoration-color: #0087ff\">GroupNormalization</span>)   │                      │              │                     │         │\n",
       "├────────────────────────┼──────────────────────┼──────────────┼─────────────────────┼─────────┤\n",
       "│ down_block1_activatio… │ (<span style=\"color: #00d7ff; text-decoration-color: #00d7ff\">None</span>, <span style=\"color: #00af00; text-decoration-color: #00af00\">64</span>, <span style=\"color: #00af00; text-decoration-color: #00af00\">128</span>, <span style=\"color: #00af00; text-decoration-color: #00af00\">32</span>)  │            <span style=\"color: #00af00; text-decoration-color: #00af00\">0</span> │ down_block1_bn2[<span style=\"color: #00af00; text-decoration-color: #00af00\">0</span>]… │    <span style=\"font-weight: bold\">-</span>    │\n",
       "│ (<span style=\"color: #0087ff; text-decoration-color: #0087ff\">Activation</span>)           │                      │              │                     │         │\n",
       "├────────────────────────┼──────────────────────┼──────────────┼─────────────────────┼─────────┤\n",
       "│ conv2d_17 (<span style=\"color: #0087ff; text-decoration-color: #0087ff\">Conv2D</span>)     │ (<span style=\"color: #00d7ff; text-decoration-color: #00d7ff\">None</span>, <span style=\"color: #00af00; text-decoration-color: #00af00\">32</span>, <span style=\"color: #00af00; text-decoration-color: #00af00\">64</span>, <span style=\"color: #00af00; text-decoration-color: #00af00\">32</span>)   │        <span style=\"color: #00af00; text-decoration-color: #00af00\">9,248</span> │ down_block1_activa… │    <span style=\"color: #00af00; text-decoration-color: #00af00; font-weight: bold\">Y</span>    │\n",
       "├────────────────────────┼──────────────────────┼──────────────┼─────────────────────┼─────────┤\n",
       "│ down_block2_conv1      │ (<span style=\"color: #00d7ff; text-decoration-color: #00d7ff\">None</span>, <span style=\"color: #00af00; text-decoration-color: #00af00\">32</span>, <span style=\"color: #00af00; text-decoration-color: #00af00\">64</span>, <span style=\"color: #00af00; text-decoration-color: #00af00\">64</span>)   │       <span style=\"color: #00af00; text-decoration-color: #00af00\">18,496</span> │ conv2d_17[<span style=\"color: #00af00; text-decoration-color: #00af00\">0</span>][<span style=\"color: #00af00; text-decoration-color: #00af00\">0</span>]     │    <span style=\"color: #00af00; text-decoration-color: #00af00; font-weight: bold\">Y</span>    │\n",
       "│ (<span style=\"color: #0087ff; text-decoration-color: #0087ff\">Conv2D</span>)               │                      │              │                     │         │\n",
       "├────────────────────────┼──────────────────────┼──────────────┼─────────────────────┼─────────┤\n",
       "│ down_block2_bn1        │ (<span style=\"color: #00d7ff; text-decoration-color: #00d7ff\">None</span>, <span style=\"color: #00af00; text-decoration-color: #00af00\">32</span>, <span style=\"color: #00af00; text-decoration-color: #00af00\">64</span>, <span style=\"color: #00af00; text-decoration-color: #00af00\">64</span>)   │          <span style=\"color: #00af00; text-decoration-color: #00af00\">128</span> │ down_block2_conv1[<span style=\"color: #00af00; text-decoration-color: #00af00\">…</span> │    <span style=\"color: #00af00; text-decoration-color: #00af00; font-weight: bold\">Y</span>    │\n",
       "│ (<span style=\"color: #0087ff; text-decoration-color: #0087ff\">GroupNormalization</span>)   │                      │              │                     │         │\n",
       "├────────────────────────┼──────────────────────┼──────────────┼─────────────────────┼─────────┤\n",
       "│ down_block2_activatio… │ (<span style=\"color: #00d7ff; text-decoration-color: #00d7ff\">None</span>, <span style=\"color: #00af00; text-decoration-color: #00af00\">32</span>, <span style=\"color: #00af00; text-decoration-color: #00af00\">64</span>, <span style=\"color: #00af00; text-decoration-color: #00af00\">64</span>)   │            <span style=\"color: #00af00; text-decoration-color: #00af00\">0</span> │ down_block2_bn1[<span style=\"color: #00af00; text-decoration-color: #00af00\">0</span>]… │    <span style=\"font-weight: bold\">-</span>    │\n",
       "│ (<span style=\"color: #0087ff; text-decoration-color: #0087ff\">Activation</span>)           │                      │              │                     │         │\n",
       "├────────────────────────┼──────────────────────┼──────────────┼─────────────────────┼─────────┤\n",
       "│ down_block2_conv2      │ (<span style=\"color: #00d7ff; text-decoration-color: #00d7ff\">None</span>, <span style=\"color: #00af00; text-decoration-color: #00af00\">32</span>, <span style=\"color: #00af00; text-decoration-color: #00af00\">64</span>, <span style=\"color: #00af00; text-decoration-color: #00af00\">64</span>)   │       <span style=\"color: #00af00; text-decoration-color: #00af00\">36,928</span> │ down_block2_activa… │    <span style=\"color: #00af00; text-decoration-color: #00af00; font-weight: bold\">Y</span>    │\n",
       "│ (<span style=\"color: #0087ff; text-decoration-color: #0087ff\">Conv2D</span>)               │                      │              │                     │         │\n",
       "├────────────────────────┼──────────────────────┼──────────────┼─────────────────────┼─────────┤\n",
       "│ down_block2_bn2        │ (<span style=\"color: #00d7ff; text-decoration-color: #00d7ff\">None</span>, <span style=\"color: #00af00; text-decoration-color: #00af00\">32</span>, <span style=\"color: #00af00; text-decoration-color: #00af00\">64</span>, <span style=\"color: #00af00; text-decoration-color: #00af00\">64</span>)   │          <span style=\"color: #00af00; text-decoration-color: #00af00\">128</span> │ down_block2_conv2[<span style=\"color: #00af00; text-decoration-color: #00af00\">…</span> │    <span style=\"color: #00af00; text-decoration-color: #00af00; font-weight: bold\">Y</span>    │\n",
       "│ (<span style=\"color: #0087ff; text-decoration-color: #0087ff\">GroupNormalization</span>)   │                      │              │                     │         │\n",
       "├────────────────────────┼──────────────────────┼──────────────┼─────────────────────┼─────────┤\n",
       "│ down_block2_activatio… │ (<span style=\"color: #00d7ff; text-decoration-color: #00d7ff\">None</span>, <span style=\"color: #00af00; text-decoration-color: #00af00\">32</span>, <span style=\"color: #00af00; text-decoration-color: #00af00\">64</span>, <span style=\"color: #00af00; text-decoration-color: #00af00\">64</span>)   │            <span style=\"color: #00af00; text-decoration-color: #00af00\">0</span> │ down_block2_bn2[<span style=\"color: #00af00; text-decoration-color: #00af00\">0</span>]… │    <span style=\"font-weight: bold\">-</span>    │\n",
       "│ (<span style=\"color: #0087ff; text-decoration-color: #0087ff\">Activation</span>)           │                      │              │                     │         │\n",
       "├────────────────────────┼──────────────────────┼──────────────┼─────────────────────┼─────────┤\n",
       "│ conv2d_18 (<span style=\"color: #0087ff; text-decoration-color: #0087ff\">Conv2D</span>)     │ (<span style=\"color: #00d7ff; text-decoration-color: #00d7ff\">None</span>, <span style=\"color: #00af00; text-decoration-color: #00af00\">16</span>, <span style=\"color: #00af00; text-decoration-color: #00af00\">32</span>, <span style=\"color: #00af00; text-decoration-color: #00af00\">64</span>)   │       <span style=\"color: #00af00; text-decoration-color: #00af00\">36,928</span> │ down_block2_activa… │    <span style=\"color: #00af00; text-decoration-color: #00af00; font-weight: bold\">Y</span>    │\n",
       "├────────────────────────┼──────────────────────┼──────────────┼─────────────────────┼─────────┤\n",
       "│ down_block3_conv1      │ (<span style=\"color: #00d7ff; text-decoration-color: #00d7ff\">None</span>, <span style=\"color: #00af00; text-decoration-color: #00af00\">16</span>, <span style=\"color: #00af00; text-decoration-color: #00af00\">32</span>, <span style=\"color: #00af00; text-decoration-color: #00af00\">128</span>)  │       <span style=\"color: #00af00; text-decoration-color: #00af00\">73,856</span> │ conv2d_18[<span style=\"color: #00af00; text-decoration-color: #00af00\">0</span>][<span style=\"color: #00af00; text-decoration-color: #00af00\">0</span>]     │    <span style=\"color: #00af00; text-decoration-color: #00af00; font-weight: bold\">Y</span>    │\n",
       "│ (<span style=\"color: #0087ff; text-decoration-color: #0087ff\">Conv2D</span>)               │                      │              │                     │         │\n",
       "├────────────────────────┼──────────────────────┼──────────────┼─────────────────────┼─────────┤\n",
       "│ down_block3_bn1        │ (<span style=\"color: #00d7ff; text-decoration-color: #00d7ff\">None</span>, <span style=\"color: #00af00; text-decoration-color: #00af00\">16</span>, <span style=\"color: #00af00; text-decoration-color: #00af00\">32</span>, <span style=\"color: #00af00; text-decoration-color: #00af00\">128</span>)  │          <span style=\"color: #00af00; text-decoration-color: #00af00\">256</span> │ down_block3_conv1[<span style=\"color: #00af00; text-decoration-color: #00af00\">…</span> │    <span style=\"color: #00af00; text-decoration-color: #00af00; font-weight: bold\">Y</span>    │\n",
       "│ (<span style=\"color: #0087ff; text-decoration-color: #0087ff\">GroupNormalization</span>)   │                      │              │                     │         │\n",
       "├────────────────────────┼──────────────────────┼──────────────┼─────────────────────┼─────────┤\n",
       "│ down_block3_activatio… │ (<span style=\"color: #00d7ff; text-decoration-color: #00d7ff\">None</span>, <span style=\"color: #00af00; text-decoration-color: #00af00\">16</span>, <span style=\"color: #00af00; text-decoration-color: #00af00\">32</span>, <span style=\"color: #00af00; text-decoration-color: #00af00\">128</span>)  │            <span style=\"color: #00af00; text-decoration-color: #00af00\">0</span> │ down_block3_bn1[<span style=\"color: #00af00; text-decoration-color: #00af00\">0</span>]… │    <span style=\"font-weight: bold\">-</span>    │\n",
       "│ (<span style=\"color: #0087ff; text-decoration-color: #0087ff\">Activation</span>)           │                      │              │                     │         │\n",
       "├────────────────────────┼──────────────────────┼──────────────┼─────────────────────┼─────────┤\n",
       "│ down_block3_conv2      │ (<span style=\"color: #00d7ff; text-decoration-color: #00d7ff\">None</span>, <span style=\"color: #00af00; text-decoration-color: #00af00\">16</span>, <span style=\"color: #00af00; text-decoration-color: #00af00\">32</span>, <span style=\"color: #00af00; text-decoration-color: #00af00\">128</span>)  │      <span style=\"color: #00af00; text-decoration-color: #00af00\">147,584</span> │ down_block3_activa… │    <span style=\"color: #00af00; text-decoration-color: #00af00; font-weight: bold\">Y</span>    │\n",
       "│ (<span style=\"color: #0087ff; text-decoration-color: #0087ff\">Conv2D</span>)               │                      │              │                     │         │\n",
       "├────────────────────────┼──────────────────────┼──────────────┼─────────────────────┼─────────┤\n",
       "│ down_block3_bn2        │ (<span style=\"color: #00d7ff; text-decoration-color: #00d7ff\">None</span>, <span style=\"color: #00af00; text-decoration-color: #00af00\">16</span>, <span style=\"color: #00af00; text-decoration-color: #00af00\">32</span>, <span style=\"color: #00af00; text-decoration-color: #00af00\">128</span>)  │          <span style=\"color: #00af00; text-decoration-color: #00af00\">256</span> │ down_block3_conv2[<span style=\"color: #00af00; text-decoration-color: #00af00\">…</span> │    <span style=\"color: #00af00; text-decoration-color: #00af00; font-weight: bold\">Y</span>    │\n",
       "│ (<span style=\"color: #0087ff; text-decoration-color: #0087ff\">GroupNormalization</span>)   │                      │              │                     │         │\n",
       "├────────────────────────┼──────────────────────┼──────────────┼─────────────────────┼─────────┤\n",
       "│ down_block3_activatio… │ (<span style=\"color: #00d7ff; text-decoration-color: #00d7ff\">None</span>, <span style=\"color: #00af00; text-decoration-color: #00af00\">16</span>, <span style=\"color: #00af00; text-decoration-color: #00af00\">32</span>, <span style=\"color: #00af00; text-decoration-color: #00af00\">128</span>)  │            <span style=\"color: #00af00; text-decoration-color: #00af00\">0</span> │ down_block3_bn2[<span style=\"color: #00af00; text-decoration-color: #00af00\">0</span>]… │    <span style=\"font-weight: bold\">-</span>    │\n",
       "│ (<span style=\"color: #0087ff; text-decoration-color: #0087ff\">Activation</span>)           │                      │              │                     │         │\n",
       "├────────────────────────┼──────────────────────┼──────────────┼─────────────────────┼─────────┤\n",
       "│ conv2d_19 (<span style=\"color: #0087ff; text-decoration-color: #0087ff\">Conv2D</span>)     │ (<span style=\"color: #00d7ff; text-decoration-color: #00d7ff\">None</span>, <span style=\"color: #00af00; text-decoration-color: #00af00\">8</span>, <span style=\"color: #00af00; text-decoration-color: #00af00\">16</span>, <span style=\"color: #00af00; text-decoration-color: #00af00\">128</span>)   │      <span style=\"color: #00af00; text-decoration-color: #00af00\">147,584</span> │ down_block3_activa… │    <span style=\"color: #00af00; text-decoration-color: #00af00; font-weight: bold\">Y</span>    │\n",
       "├────────────────────────┼──────────────────────┼──────────────┼─────────────────────┼─────────┤\n",
       "│ conv2d_20 (<span style=\"color: #0087ff; text-decoration-color: #0087ff\">Conv2D</span>)     │ (<span style=\"color: #00d7ff; text-decoration-color: #00d7ff\">None</span>, <span style=\"color: #00af00; text-decoration-color: #00af00\">8</span>, <span style=\"color: #00af00; text-decoration-color: #00af00\">16</span>, <span style=\"color: #00af00; text-decoration-color: #00af00\">128</span>)   │      <span style=\"color: #00af00; text-decoration-color: #00af00\">147,456</span> │ conv2d_19[<span style=\"color: #00af00; text-decoration-color: #00af00\">0</span>][<span style=\"color: #00af00; text-decoration-color: #00af00\">0</span>]     │    <span style=\"color: #00af00; text-decoration-color: #00af00; font-weight: bold\">Y</span>    │\n",
       "├────────────────────────┼──────────────────────┼──────────────┼─────────────────────┼─────────┤\n",
       "│ group_normalization_3  │ (<span style=\"color: #00d7ff; text-decoration-color: #00d7ff\">None</span>, <span style=\"color: #00af00; text-decoration-color: #00af00\">8</span>, <span style=\"color: #00af00; text-decoration-color: #00af00\">16</span>, <span style=\"color: #00af00; text-decoration-color: #00af00\">128</span>)   │          <span style=\"color: #00af00; text-decoration-color: #00af00\">256</span> │ conv2d_20[<span style=\"color: #00af00; text-decoration-color: #00af00\">0</span>][<span style=\"color: #00af00; text-decoration-color: #00af00\">0</span>]     │    <span style=\"color: #00af00; text-decoration-color: #00af00; font-weight: bold\">Y</span>    │\n",
       "│ (<span style=\"color: #0087ff; text-decoration-color: #0087ff\">GroupNormalization</span>)   │                      │              │                     │         │\n",
       "├────────────────────────┼──────────────────────┼──────────────┼─────────────────────┼─────────┤\n",
       "│ activation_9           │ (<span style=\"color: #00d7ff; text-decoration-color: #00d7ff\">None</span>, <span style=\"color: #00af00; text-decoration-color: #00af00\">8</span>, <span style=\"color: #00af00; text-decoration-color: #00af00\">16</span>, <span style=\"color: #00af00; text-decoration-color: #00af00\">128</span>)   │            <span style=\"color: #00af00; text-decoration-color: #00af00\">0</span> │ group_normalizatio… │    <span style=\"font-weight: bold\">-</span>    │\n",
       "│ (<span style=\"color: #0087ff; text-decoration-color: #0087ff\">Activation</span>)           │                      │              │                     │         │\n",
       "├────────────────────────┼──────────────────────┼──────────────┼─────────────────────┼─────────┤\n",
       "│ conv2d_21 (<span style=\"color: #0087ff; text-decoration-color: #0087ff\">Conv2D</span>)     │ (<span style=\"color: #00d7ff; text-decoration-color: #00d7ff\">None</span>, <span style=\"color: #00af00; text-decoration-color: #00af00\">8</span>, <span style=\"color: #00af00; text-decoration-color: #00af00\">16</span>, <span style=\"color: #00af00; text-decoration-color: #00af00\">128</span>)   │      <span style=\"color: #00af00; text-decoration-color: #00af00\">147,456</span> │ activation_9[<span style=\"color: #00af00; text-decoration-color: #00af00\">0</span>][<span style=\"color: #00af00; text-decoration-color: #00af00\">0</span>]  │    <span style=\"color: #00af00; text-decoration-color: #00af00; font-weight: bold\">Y</span>    │\n",
       "├────────────────────────┼──────────────────────┼──────────────┼─────────────────────┼─────────┤\n",
       "│ group_normalization_4  │ (<span style=\"color: #00d7ff; text-decoration-color: #00d7ff\">None</span>, <span style=\"color: #00af00; text-decoration-color: #00af00\">8</span>, <span style=\"color: #00af00; text-decoration-color: #00af00\">16</span>, <span style=\"color: #00af00; text-decoration-color: #00af00\">128</span>)   │          <span style=\"color: #00af00; text-decoration-color: #00af00\">256</span> │ conv2d_21[<span style=\"color: #00af00; text-decoration-color: #00af00\">0</span>][<span style=\"color: #00af00; text-decoration-color: #00af00\">0</span>]     │    <span style=\"color: #00af00; text-decoration-color: #00af00; font-weight: bold\">Y</span>    │\n",
       "│ (<span style=\"color: #0087ff; text-decoration-color: #0087ff\">GroupNormalization</span>)   │                      │              │                     │         │\n",
       "├────────────────────────┼──────────────────────┼──────────────┼─────────────────────┼─────────┤\n",
       "│ activation_10          │ (<span style=\"color: #00d7ff; text-decoration-color: #00d7ff\">None</span>, <span style=\"color: #00af00; text-decoration-color: #00af00\">8</span>, <span style=\"color: #00af00; text-decoration-color: #00af00\">16</span>, <span style=\"color: #00af00; text-decoration-color: #00af00\">128</span>)   │            <span style=\"color: #00af00; text-decoration-color: #00af00\">0</span> │ group_normalizatio… │    <span style=\"font-weight: bold\">-</span>    │\n",
       "│ (<span style=\"color: #0087ff; text-decoration-color: #0087ff\">Activation</span>)           │                      │              │                     │         │\n",
       "├────────────────────────┼──────────────────────┼──────────────┼─────────────────────┼─────────┤\n",
       "│ add_4 (<span style=\"color: #0087ff; text-decoration-color: #0087ff\">Add</span>)            │ (<span style=\"color: #00d7ff; text-decoration-color: #00d7ff\">None</span>, <span style=\"color: #00af00; text-decoration-color: #00af00\">8</span>, <span style=\"color: #00af00; text-decoration-color: #00af00\">16</span>, <span style=\"color: #00af00; text-decoration-color: #00af00\">128</span>)   │            <span style=\"color: #00af00; text-decoration-color: #00af00\">0</span> │ activation_10[<span style=\"color: #00af00; text-decoration-color: #00af00\">0</span>][<span style=\"color: #00af00; text-decoration-color: #00af00\">0</span>… │    <span style=\"font-weight: bold\">-</span>    │\n",
       "│                        │                      │              │ conv2d_19[<span style=\"color: #00af00; text-decoration-color: #00af00\">0</span>][<span style=\"color: #00af00; text-decoration-color: #00af00\">0</span>]     │         │\n",
       "├────────────────────────┼──────────────────────┼──────────────┼─────────────────────┼─────────┤\n",
       "│ group_normalization_5  │ (<span style=\"color: #00d7ff; text-decoration-color: #00d7ff\">None</span>, <span style=\"color: #00af00; text-decoration-color: #00af00\">8</span>, <span style=\"color: #00af00; text-decoration-color: #00af00\">16</span>, <span style=\"color: #00af00; text-decoration-color: #00af00\">128</span>)   │          <span style=\"color: #00af00; text-decoration-color: #00af00\">256</span> │ add_4[<span style=\"color: #00af00; text-decoration-color: #00af00\">0</span>][<span style=\"color: #00af00; text-decoration-color: #00af00\">0</span>]         │    <span style=\"color: #00af00; text-decoration-color: #00af00; font-weight: bold\">Y</span>    │\n",
       "│ (<span style=\"color: #0087ff; text-decoration-color: #0087ff\">GroupNormalization</span>)   │                      │              │                     │         │\n",
       "├────────────────────────┼──────────────────────┼──────────────┼─────────────────────┼─────────┤\n",
       "│ activation_11          │ (<span style=\"color: #00d7ff; text-decoration-color: #00d7ff\">None</span>, <span style=\"color: #00af00; text-decoration-color: #00af00\">8</span>, <span style=\"color: #00af00; text-decoration-color: #00af00\">16</span>, <span style=\"color: #00af00; text-decoration-color: #00af00\">128</span>)   │            <span style=\"color: #00af00; text-decoration-color: #00af00\">0</span> │ group_normalizatio… │    <span style=\"font-weight: bold\">-</span>    │\n",
       "│ (<span style=\"color: #0087ff; text-decoration-color: #0087ff\">Activation</span>)           │                      │              │                     │         │\n",
       "├────────────────────────┼──────────────────────┼──────────────┼─────────────────────┼─────────┤\n",
       "│ dropout_4 (<span style=\"color: #0087ff; text-decoration-color: #0087ff\">Dropout</span>)    │ (<span style=\"color: #00d7ff; text-decoration-color: #00d7ff\">None</span>, <span style=\"color: #00af00; text-decoration-color: #00af00\">8</span>, <span style=\"color: #00af00; text-decoration-color: #00af00\">16</span>, <span style=\"color: #00af00; text-decoration-color: #00af00\">128</span>)   │            <span style=\"color: #00af00; text-decoration-color: #00af00\">0</span> │ activation_11[<span style=\"color: #00af00; text-decoration-color: #00af00\">0</span>][<span style=\"color: #00af00; text-decoration-color: #00af00\">0</span>] │    <span style=\"font-weight: bold\">-</span>    │\n",
       "├────────────────────────┼──────────────────────┼──────────────┼─────────────────────┼─────────┤\n",
       "│ conv2d_22 (<span style=\"color: #0087ff; text-decoration-color: #0087ff\">Conv2D</span>)     │ (<span style=\"color: #00d7ff; text-decoration-color: #00d7ff\">None</span>, <span style=\"color: #00af00; text-decoration-color: #00af00\">8</span>, <span style=\"color: #00af00; text-decoration-color: #00af00\">16</span>, <span style=\"color: #00af00; text-decoration-color: #00af00\">64</span>)    │        <span style=\"color: #00af00; text-decoration-color: #00af00\">8,256</span> │ dropout_4[<span style=\"color: #00af00; text-decoration-color: #00af00\">0</span>][<span style=\"color: #00af00; text-decoration-color: #00af00\">0</span>]     │    <span style=\"color: #00af00; text-decoration-color: #00af00; font-weight: bold\">Y</span>    │\n",
       "├────────────────────────┼──────────────────────┼──────────────┼─────────────────────┼─────────┤\n",
       "│ conv2d_23 (<span style=\"color: #0087ff; text-decoration-color: #0087ff\">Conv2D</span>)     │ (<span style=\"color: #00d7ff; text-decoration-color: #00d7ff\">None</span>, <span style=\"color: #00af00; text-decoration-color: #00af00\">8</span>, <span style=\"color: #00af00; text-decoration-color: #00af00\">16</span>, <span style=\"color: #00af00; text-decoration-color: #00af00\">64</span>)    │       <span style=\"color: #00af00; text-decoration-color: #00af00\">73,792</span> │ down_block3_activa… │    <span style=\"color: #00af00; text-decoration-color: #00af00; font-weight: bold\">Y</span>    │\n",
       "├────────────────────────┼──────────────────────┼──────────────┼─────────────────────┼─────────┤\n",
       "│ add_5 (<span style=\"color: #0087ff; text-decoration-color: #0087ff\">Add</span>)            │ (<span style=\"color: #00d7ff; text-decoration-color: #00d7ff\">None</span>, <span style=\"color: #00af00; text-decoration-color: #00af00\">8</span>, <span style=\"color: #00af00; text-decoration-color: #00af00\">16</span>, <span style=\"color: #00af00; text-decoration-color: #00af00\">64</span>)    │            <span style=\"color: #00af00; text-decoration-color: #00af00\">0</span> │ conv2d_22[<span style=\"color: #00af00; text-decoration-color: #00af00\">0</span>][<span style=\"color: #00af00; text-decoration-color: #00af00\">0</span>],    │    <span style=\"font-weight: bold\">-</span>    │\n",
       "│                        │                      │              │ conv2d_23[<span style=\"color: #00af00; text-decoration-color: #00af00\">0</span>][<span style=\"color: #00af00; text-decoration-color: #00af00\">0</span>]     │         │\n",
       "├────────────────────────┼──────────────────────┼──────────────┼─────────────────────┼─────────┤\n",
       "│ activation_12          │ (<span style=\"color: #00d7ff; text-decoration-color: #00d7ff\">None</span>, <span style=\"color: #00af00; text-decoration-color: #00af00\">8</span>, <span style=\"color: #00af00; text-decoration-color: #00af00\">16</span>, <span style=\"color: #00af00; text-decoration-color: #00af00\">64</span>)    │            <span style=\"color: #00af00; text-decoration-color: #00af00\">0</span> │ add_5[<span style=\"color: #00af00; text-decoration-color: #00af00\">0</span>][<span style=\"color: #00af00; text-decoration-color: #00af00\">0</span>]         │    <span style=\"font-weight: bold\">-</span>    │\n",
       "│ (<span style=\"color: #0087ff; text-decoration-color: #0087ff\">Activation</span>)           │                      │              │                     │         │\n",
       "├────────────────────────┼──────────────────────┼──────────────┼─────────────────────┼─────────┤\n",
       "│ conv2d_24 (<span style=\"color: #0087ff; text-decoration-color: #0087ff\">Conv2D</span>)     │ (<span style=\"color: #00d7ff; text-decoration-color: #00d7ff\">None</span>, <span style=\"color: #00af00; text-decoration-color: #00af00\">8</span>, <span style=\"color: #00af00; text-decoration-color: #00af00\">16</span>, <span style=\"color: #00af00; text-decoration-color: #00af00\">1</span>)     │           <span style=\"color: #00af00; text-decoration-color: #00af00\">65</span> │ activation_12[<span style=\"color: #00af00; text-decoration-color: #00af00\">0</span>][<span style=\"color: #00af00; text-decoration-color: #00af00\">0</span>] │    <span style=\"color: #00af00; text-decoration-color: #00af00; font-weight: bold\">Y</span>    │\n",
       "├────────────────────────┼──────────────────────┼──────────────┼─────────────────────┼─────────┤\n",
       "│ activation_13          │ (<span style=\"color: #00d7ff; text-decoration-color: #00d7ff\">None</span>, <span style=\"color: #00af00; text-decoration-color: #00af00\">8</span>, <span style=\"color: #00af00; text-decoration-color: #00af00\">16</span>, <span style=\"color: #00af00; text-decoration-color: #00af00\">1</span>)     │            <span style=\"color: #00af00; text-decoration-color: #00af00\">0</span> │ conv2d_24[<span style=\"color: #00af00; text-decoration-color: #00af00\">0</span>][<span style=\"color: #00af00; text-decoration-color: #00af00\">0</span>]     │    <span style=\"font-weight: bold\">-</span>    │\n",
       "│ (<span style=\"color: #0087ff; text-decoration-color: #0087ff\">Activation</span>)           │                      │              │                     │         │\n",
       "├────────────────────────┼──────────────────────┼──────────────┼─────────────────────┼─────────┤\n",
       "│ up_sampling2d_6        │ (<span style=\"color: #00d7ff; text-decoration-color: #00d7ff\">None</span>, <span style=\"color: #00af00; text-decoration-color: #00af00\">16</span>, <span style=\"color: #00af00; text-decoration-color: #00af00\">32</span>, <span style=\"color: #00af00; text-decoration-color: #00af00\">1</span>)    │            <span style=\"color: #00af00; text-decoration-color: #00af00\">0</span> │ activation_13[<span style=\"color: #00af00; text-decoration-color: #00af00\">0</span>][<span style=\"color: #00af00; text-decoration-color: #00af00\">0</span>] │    <span style=\"font-weight: bold\">-</span>    │\n",
       "│ (<span style=\"color: #0087ff; text-decoration-color: #0087ff\">UpSampling2D</span>)         │                      │              │                     │         │\n",
       "├────────────────────────┼──────────────────────┼──────────────┼─────────────────────┼─────────┤\n",
       "│ lambda_3 (<span style=\"color: #0087ff; text-decoration-color: #0087ff\">Lambda</span>)      │ (<span style=\"color: #00d7ff; text-decoration-color: #00d7ff\">None</span>, <span style=\"color: #00af00; text-decoration-color: #00af00\">16</span>, <span style=\"color: #00af00; text-decoration-color: #00af00\">32</span>, <span style=\"color: #00af00; text-decoration-color: #00af00\">128</span>)  │            <span style=\"color: #00af00; text-decoration-color: #00af00\">0</span> │ up_sampling2d_6[<span style=\"color: #00af00; text-decoration-color: #00af00\">0</span>]… │    <span style=\"font-weight: bold\">-</span>    │\n",
       "├────────────────────────┼──────────────────────┼──────────────┼─────────────────────┼─────────┤\n",
       "│ multiply_3 (<span style=\"color: #0087ff; text-decoration-color: #0087ff\">Multiply</span>)  │ (<span style=\"color: #00d7ff; text-decoration-color: #00d7ff\">None</span>, <span style=\"color: #00af00; text-decoration-color: #00af00\">16</span>, <span style=\"color: #00af00; text-decoration-color: #00af00\">32</span>, <span style=\"color: #00af00; text-decoration-color: #00af00\">128</span>)  │            <span style=\"color: #00af00; text-decoration-color: #00af00\">0</span> │ lambda_3[<span style=\"color: #00af00; text-decoration-color: #00af00\">0</span>][<span style=\"color: #00af00; text-decoration-color: #00af00\">0</span>],     │    <span style=\"font-weight: bold\">-</span>    │\n",
       "│                        │                      │              │ down_block3_activa… │         │\n",
       "├────────────────────────┼──────────────────────┼──────────────┼─────────────────────┼─────────┤\n",
       "│ conv2d_25 (<span style=\"color: #0087ff; text-decoration-color: #0087ff\">Conv2D</span>)     │ (<span style=\"color: #00d7ff; text-decoration-color: #00d7ff\">None</span>, <span style=\"color: #00af00; text-decoration-color: #00af00\">16</span>, <span style=\"color: #00af00; text-decoration-color: #00af00\">32</span>, <span style=\"color: #00af00; text-decoration-color: #00af00\">128</span>)  │       <span style=\"color: #00af00; text-decoration-color: #00af00\">16,512</span> │ multiply_3[<span style=\"color: #00af00; text-decoration-color: #00af00\">0</span>][<span style=\"color: #00af00; text-decoration-color: #00af00\">0</span>]    │    <span style=\"color: #00af00; text-decoration-color: #00af00; font-weight: bold\">Y</span>    │\n",
       "├────────────────────────┼──────────────────────┼──────────────┼─────────────────────┼─────────┤\n",
       "│ batch_normalization_3  │ (<span style=\"color: #00d7ff; text-decoration-color: #00d7ff\">None</span>, <span style=\"color: #00af00; text-decoration-color: #00af00\">16</span>, <span style=\"color: #00af00; text-decoration-color: #00af00\">32</span>, <span style=\"color: #00af00; text-decoration-color: #00af00\">128</span>)  │          <span style=\"color: #00af00; text-decoration-color: #00af00\">512</span> │ conv2d_25[<span style=\"color: #00af00; text-decoration-color: #00af00\">0</span>][<span style=\"color: #00af00; text-decoration-color: #00af00\">0</span>]     │    <span style=\"color: #00af00; text-decoration-color: #00af00; font-weight: bold\">Y</span>    │\n",
       "│ (<span style=\"color: #0087ff; text-decoration-color: #0087ff\">BatchNormalization</span>)   │                      │              │                     │         │\n",
       "├────────────────────────┼──────────────────────┼──────────────┼─────────────────────┼─────────┤\n",
       "│ up_sampling2d_7        │ (<span style=\"color: #00d7ff; text-decoration-color: #00d7ff\">None</span>, <span style=\"color: #00af00; text-decoration-color: #00af00\">16</span>, <span style=\"color: #00af00; text-decoration-color: #00af00\">32</span>, <span style=\"color: #00af00; text-decoration-color: #00af00\">128</span>)  │            <span style=\"color: #00af00; text-decoration-color: #00af00\">0</span> │ dropout_4[<span style=\"color: #00af00; text-decoration-color: #00af00\">0</span>][<span style=\"color: #00af00; text-decoration-color: #00af00\">0</span>]     │    <span style=\"font-weight: bold\">-</span>    │\n",
       "│ (<span style=\"color: #0087ff; text-decoration-color: #0087ff\">UpSampling2D</span>)         │                      │              │                     │         │\n",
       "├────────────────────────┼──────────────────────┼──────────────┼─────────────────────┼─────────┤\n",
       "│ dropout_5 (<span style=\"color: #0087ff; text-decoration-color: #0087ff\">Dropout</span>)    │ (<span style=\"color: #00d7ff; text-decoration-color: #00d7ff\">None</span>, <span style=\"color: #00af00; text-decoration-color: #00af00\">16</span>, <span style=\"color: #00af00; text-decoration-color: #00af00\">32</span>, <span style=\"color: #00af00; text-decoration-color: #00af00\">128</span>)  │            <span style=\"color: #00af00; text-decoration-color: #00af00\">0</span> │ batch_normalizatio… │    <span style=\"font-weight: bold\">-</span>    │\n",
       "├────────────────────────┼──────────────────────┼──────────────┼─────────────────────┼─────────┤\n",
       "│ concatenate_3          │ (<span style=\"color: #00d7ff; text-decoration-color: #00d7ff\">None</span>, <span style=\"color: #00af00; text-decoration-color: #00af00\">16</span>, <span style=\"color: #00af00; text-decoration-color: #00af00\">32</span>, <span style=\"color: #00af00; text-decoration-color: #00af00\">256</span>)  │            <span style=\"color: #00af00; text-decoration-color: #00af00\">0</span> │ up_sampling2d_7[<span style=\"color: #00af00; text-decoration-color: #00af00\">0</span>]… │    <span style=\"font-weight: bold\">-</span>    │\n",
       "│ (<span style=\"color: #0087ff; text-decoration-color: #0087ff\">Concatenate</span>)          │                      │              │ dropout_5[<span style=\"color: #00af00; text-decoration-color: #00af00\">0</span>][<span style=\"color: #00af00; text-decoration-color: #00af00\">0</span>]     │         │\n",
       "├────────────────────────┼──────────────────────┼──────────────┼─────────────────────┼─────────┤\n",
       "│ up_block1_conv1        │ (<span style=\"color: #00d7ff; text-decoration-color: #00d7ff\">None</span>, <span style=\"color: #00af00; text-decoration-color: #00af00\">16</span>, <span style=\"color: #00af00; text-decoration-color: #00af00\">32</span>, <span style=\"color: #00af00; text-decoration-color: #00af00\">128</span>)  │      <span style=\"color: #00af00; text-decoration-color: #00af00\">295,040</span> │ concatenate_3[<span style=\"color: #00af00; text-decoration-color: #00af00\">0</span>][<span style=\"color: #00af00; text-decoration-color: #00af00\">0</span>] │    <span style=\"color: #00af00; text-decoration-color: #00af00; font-weight: bold\">Y</span>    │\n",
       "│ (<span style=\"color: #0087ff; text-decoration-color: #0087ff\">Conv2D</span>)               │                      │              │                     │         │\n",
       "├────────────────────────┼──────────────────────┼──────────────┼─────────────────────┼─────────┤\n",
       "│ up_block1_bn1          │ (<span style=\"color: #00d7ff; text-decoration-color: #00d7ff\">None</span>, <span style=\"color: #00af00; text-decoration-color: #00af00\">16</span>, <span style=\"color: #00af00; text-decoration-color: #00af00\">32</span>, <span style=\"color: #00af00; text-decoration-color: #00af00\">128</span>)  │          <span style=\"color: #00af00; text-decoration-color: #00af00\">256</span> │ up_block1_conv1[<span style=\"color: #00af00; text-decoration-color: #00af00\">0</span>]… │    <span style=\"color: #00af00; text-decoration-color: #00af00; font-weight: bold\">Y</span>    │\n",
       "│ (<span style=\"color: #0087ff; text-decoration-color: #0087ff\">GroupNormalization</span>)   │                      │              │                     │         │\n",
       "├────────────────────────┼──────────────────────┼──────────────┼─────────────────────┼─────────┤\n",
       "│ up_block1_activation1  │ (<span style=\"color: #00d7ff; text-decoration-color: #00d7ff\">None</span>, <span style=\"color: #00af00; text-decoration-color: #00af00\">16</span>, <span style=\"color: #00af00; text-decoration-color: #00af00\">32</span>, <span style=\"color: #00af00; text-decoration-color: #00af00\">128</span>)  │            <span style=\"color: #00af00; text-decoration-color: #00af00\">0</span> │ up_block1_bn1[<span style=\"color: #00af00; text-decoration-color: #00af00\">0</span>][<span style=\"color: #00af00; text-decoration-color: #00af00\">0</span>] │    <span style=\"font-weight: bold\">-</span>    │\n",
       "│ (<span style=\"color: #0087ff; text-decoration-color: #0087ff\">Activation</span>)           │                      │              │                     │         │\n",
       "├────────────────────────┼──────────────────────┼──────────────┼─────────────────────┼─────────┤\n",
       "│ up_block1_conv2        │ (<span style=\"color: #00d7ff; text-decoration-color: #00d7ff\">None</span>, <span style=\"color: #00af00; text-decoration-color: #00af00\">16</span>, <span style=\"color: #00af00; text-decoration-color: #00af00\">32</span>, <span style=\"color: #00af00; text-decoration-color: #00af00\">128</span>)  │      <span style=\"color: #00af00; text-decoration-color: #00af00\">147,584</span> │ up_block1_activati… │    <span style=\"color: #00af00; text-decoration-color: #00af00; font-weight: bold\">Y</span>    │\n",
       "│ (<span style=\"color: #0087ff; text-decoration-color: #0087ff\">Conv2D</span>)               │                      │              │                     │         │\n",
       "├────────────────────────┼──────────────────────┼──────────────┼─────────────────────┼─────────┤\n",
       "│ up_block1_bn2          │ (<span style=\"color: #00d7ff; text-decoration-color: #00d7ff\">None</span>, <span style=\"color: #00af00; text-decoration-color: #00af00\">16</span>, <span style=\"color: #00af00; text-decoration-color: #00af00\">32</span>, <span style=\"color: #00af00; text-decoration-color: #00af00\">128</span>)  │          <span style=\"color: #00af00; text-decoration-color: #00af00\">256</span> │ up_block1_conv2[<span style=\"color: #00af00; text-decoration-color: #00af00\">0</span>]… │    <span style=\"color: #00af00; text-decoration-color: #00af00; font-weight: bold\">Y</span>    │\n",
       "│ (<span style=\"color: #0087ff; text-decoration-color: #0087ff\">GroupNormalization</span>)   │                      │              │                     │         │\n",
       "├────────────────────────┼──────────────────────┼──────────────┼─────────────────────┼─────────┤\n",
       "│ up_block1_activation2  │ (<span style=\"color: #00d7ff; text-decoration-color: #00d7ff\">None</span>, <span style=\"color: #00af00; text-decoration-color: #00af00\">16</span>, <span style=\"color: #00af00; text-decoration-color: #00af00\">32</span>, <span style=\"color: #00af00; text-decoration-color: #00af00\">128</span>)  │            <span style=\"color: #00af00; text-decoration-color: #00af00\">0</span> │ up_block1_bn2[<span style=\"color: #00af00; text-decoration-color: #00af00\">0</span>][<span style=\"color: #00af00; text-decoration-color: #00af00\">0</span>] │    <span style=\"font-weight: bold\">-</span>    │\n",
       "│ (<span style=\"color: #0087ff; text-decoration-color: #0087ff\">Activation</span>)           │                      │              │                     │         │\n",
       "├────────────────────────┼──────────────────────┼──────────────┼─────────────────────┼─────────┤\n",
       "│ conv2d_26 (<span style=\"color: #0087ff; text-decoration-color: #0087ff\">Conv2D</span>)     │ (<span style=\"color: #00d7ff; text-decoration-color: #00d7ff\">None</span>, <span style=\"color: #00af00; text-decoration-color: #00af00\">16</span>, <span style=\"color: #00af00; text-decoration-color: #00af00\">32</span>, <span style=\"color: #00af00; text-decoration-color: #00af00\">64</span>)   │        <span style=\"color: #00af00; text-decoration-color: #00af00\">8,256</span> │ up_block1_activati… │    <span style=\"color: #00af00; text-decoration-color: #00af00; font-weight: bold\">Y</span>    │\n",
       "├────────────────────────┼──────────────────────┼──────────────┼─────────────────────┼─────────┤\n",
       "│ conv2d_27 (<span style=\"color: #0087ff; text-decoration-color: #0087ff\">Conv2D</span>)     │ (<span style=\"color: #00d7ff; text-decoration-color: #00d7ff\">None</span>, <span style=\"color: #00af00; text-decoration-color: #00af00\">16</span>, <span style=\"color: #00af00; text-decoration-color: #00af00\">32</span>, <span style=\"color: #00af00; text-decoration-color: #00af00\">64</span>)   │       <span style=\"color: #00af00; text-decoration-color: #00af00\">36,928</span> │ down_block2_activa… │    <span style=\"color: #00af00; text-decoration-color: #00af00; font-weight: bold\">Y</span>    │\n",
       "├────────────────────────┼──────────────────────┼──────────────┼─────────────────────┼─────────┤\n",
       "│ add_6 (<span style=\"color: #0087ff; text-decoration-color: #0087ff\">Add</span>)            │ (<span style=\"color: #00d7ff; text-decoration-color: #00d7ff\">None</span>, <span style=\"color: #00af00; text-decoration-color: #00af00\">16</span>, <span style=\"color: #00af00; text-decoration-color: #00af00\">32</span>, <span style=\"color: #00af00; text-decoration-color: #00af00\">64</span>)   │            <span style=\"color: #00af00; text-decoration-color: #00af00\">0</span> │ conv2d_26[<span style=\"color: #00af00; text-decoration-color: #00af00\">0</span>][<span style=\"color: #00af00; text-decoration-color: #00af00\">0</span>],    │    <span style=\"font-weight: bold\">-</span>    │\n",
       "│                        │                      │              │ conv2d_27[<span style=\"color: #00af00; text-decoration-color: #00af00\">0</span>][<span style=\"color: #00af00; text-decoration-color: #00af00\">0</span>]     │         │\n",
       "├────────────────────────┼──────────────────────┼──────────────┼─────────────────────┼─────────┤\n",
       "│ activation_14          │ (<span style=\"color: #00d7ff; text-decoration-color: #00d7ff\">None</span>, <span style=\"color: #00af00; text-decoration-color: #00af00\">16</span>, <span style=\"color: #00af00; text-decoration-color: #00af00\">32</span>, <span style=\"color: #00af00; text-decoration-color: #00af00\">64</span>)   │            <span style=\"color: #00af00; text-decoration-color: #00af00\">0</span> │ add_6[<span style=\"color: #00af00; text-decoration-color: #00af00\">0</span>][<span style=\"color: #00af00; text-decoration-color: #00af00\">0</span>]         │    <span style=\"font-weight: bold\">-</span>    │\n",
       "│ (<span style=\"color: #0087ff; text-decoration-color: #0087ff\">Activation</span>)           │                      │              │                     │         │\n",
       "├────────────────────────┼──────────────────────┼──────────────┼─────────────────────┼─────────┤\n",
       "│ conv2d_28 (<span style=\"color: #0087ff; text-decoration-color: #0087ff\">Conv2D</span>)     │ (<span style=\"color: #00d7ff; text-decoration-color: #00d7ff\">None</span>, <span style=\"color: #00af00; text-decoration-color: #00af00\">16</span>, <span style=\"color: #00af00; text-decoration-color: #00af00\">32</span>, <span style=\"color: #00af00; text-decoration-color: #00af00\">1</span>)    │           <span style=\"color: #00af00; text-decoration-color: #00af00\">65</span> │ activation_14[<span style=\"color: #00af00; text-decoration-color: #00af00\">0</span>][<span style=\"color: #00af00; text-decoration-color: #00af00\">0</span>] │    <span style=\"color: #00af00; text-decoration-color: #00af00; font-weight: bold\">Y</span>    │\n",
       "├────────────────────────┼──────────────────────┼──────────────┼─────────────────────┼─────────┤\n",
       "│ activation_15          │ (<span style=\"color: #00d7ff; text-decoration-color: #00d7ff\">None</span>, <span style=\"color: #00af00; text-decoration-color: #00af00\">16</span>, <span style=\"color: #00af00; text-decoration-color: #00af00\">32</span>, <span style=\"color: #00af00; text-decoration-color: #00af00\">1</span>)    │            <span style=\"color: #00af00; text-decoration-color: #00af00\">0</span> │ conv2d_28[<span style=\"color: #00af00; text-decoration-color: #00af00\">0</span>][<span style=\"color: #00af00; text-decoration-color: #00af00\">0</span>]     │    <span style=\"font-weight: bold\">-</span>    │\n",
       "│ (<span style=\"color: #0087ff; text-decoration-color: #0087ff\">Activation</span>)           │                      │              │                     │         │\n",
       "├────────────────────────┼──────────────────────┼──────────────┼─────────────────────┼─────────┤\n",
       "│ up_sampling2d_8        │ (<span style=\"color: #00d7ff; text-decoration-color: #00d7ff\">None</span>, <span style=\"color: #00af00; text-decoration-color: #00af00\">32</span>, <span style=\"color: #00af00; text-decoration-color: #00af00\">64</span>, <span style=\"color: #00af00; text-decoration-color: #00af00\">1</span>)    │            <span style=\"color: #00af00; text-decoration-color: #00af00\">0</span> │ activation_15[<span style=\"color: #00af00; text-decoration-color: #00af00\">0</span>][<span style=\"color: #00af00; text-decoration-color: #00af00\">0</span>] │    <span style=\"font-weight: bold\">-</span>    │\n",
       "│ (<span style=\"color: #0087ff; text-decoration-color: #0087ff\">UpSampling2D</span>)         │                      │              │                     │         │\n",
       "├────────────────────────┼──────────────────────┼──────────────┼─────────────────────┼─────────┤\n",
       "│ lambda_4 (<span style=\"color: #0087ff; text-decoration-color: #0087ff\">Lambda</span>)      │ (<span style=\"color: #00d7ff; text-decoration-color: #00d7ff\">None</span>, <span style=\"color: #00af00; text-decoration-color: #00af00\">32</span>, <span style=\"color: #00af00; text-decoration-color: #00af00\">64</span>, <span style=\"color: #00af00; text-decoration-color: #00af00\">64</span>)   │            <span style=\"color: #00af00; text-decoration-color: #00af00\">0</span> │ up_sampling2d_8[<span style=\"color: #00af00; text-decoration-color: #00af00\">0</span>]… │    <span style=\"font-weight: bold\">-</span>    │\n",
       "├────────────────────────┼──────────────────────┼──────────────┼─────────────────────┼─────────┤\n",
       "│ multiply_4 (<span style=\"color: #0087ff; text-decoration-color: #0087ff\">Multiply</span>)  │ (<span style=\"color: #00d7ff; text-decoration-color: #00d7ff\">None</span>, <span style=\"color: #00af00; text-decoration-color: #00af00\">32</span>, <span style=\"color: #00af00; text-decoration-color: #00af00\">64</span>, <span style=\"color: #00af00; text-decoration-color: #00af00\">64</span>)   │            <span style=\"color: #00af00; text-decoration-color: #00af00\">0</span> │ lambda_4[<span style=\"color: #00af00; text-decoration-color: #00af00\">0</span>][<span style=\"color: #00af00; text-decoration-color: #00af00\">0</span>],     │    <span style=\"font-weight: bold\">-</span>    │\n",
       "│                        │                      │              │ down_block2_activa… │         │\n",
       "├────────────────────────┼──────────────────────┼──────────────┼─────────────────────┼─────────┤\n",
       "│ conv2d_29 (<span style=\"color: #0087ff; text-decoration-color: #0087ff\">Conv2D</span>)     │ (<span style=\"color: #00d7ff; text-decoration-color: #00d7ff\">None</span>, <span style=\"color: #00af00; text-decoration-color: #00af00\">32</span>, <span style=\"color: #00af00; text-decoration-color: #00af00\">64</span>, <span style=\"color: #00af00; text-decoration-color: #00af00\">64</span>)   │        <span style=\"color: #00af00; text-decoration-color: #00af00\">4,160</span> │ multiply_4[<span style=\"color: #00af00; text-decoration-color: #00af00\">0</span>][<span style=\"color: #00af00; text-decoration-color: #00af00\">0</span>]    │    <span style=\"color: #00af00; text-decoration-color: #00af00; font-weight: bold\">Y</span>    │\n",
       "├────────────────────────┼──────────────────────┼──────────────┼─────────────────────┼─────────┤\n",
       "│ batch_normalization_4  │ (<span style=\"color: #00d7ff; text-decoration-color: #00d7ff\">None</span>, <span style=\"color: #00af00; text-decoration-color: #00af00\">32</span>, <span style=\"color: #00af00; text-decoration-color: #00af00\">64</span>, <span style=\"color: #00af00; text-decoration-color: #00af00\">64</span>)   │          <span style=\"color: #00af00; text-decoration-color: #00af00\">256</span> │ conv2d_29[<span style=\"color: #00af00; text-decoration-color: #00af00\">0</span>][<span style=\"color: #00af00; text-decoration-color: #00af00\">0</span>]     │    <span style=\"color: #00af00; text-decoration-color: #00af00; font-weight: bold\">Y</span>    │\n",
       "│ (<span style=\"color: #0087ff; text-decoration-color: #0087ff\">BatchNormalization</span>)   │                      │              │                     │         │\n",
       "├────────────────────────┼──────────────────────┼──────────────┼─────────────────────┼─────────┤\n",
       "│ up_sampling2d_9        │ (<span style=\"color: #00d7ff; text-decoration-color: #00d7ff\">None</span>, <span style=\"color: #00af00; text-decoration-color: #00af00\">32</span>, <span style=\"color: #00af00; text-decoration-color: #00af00\">64</span>, <span style=\"color: #00af00; text-decoration-color: #00af00\">128</span>)  │            <span style=\"color: #00af00; text-decoration-color: #00af00\">0</span> │ up_block1_activati… │    <span style=\"font-weight: bold\">-</span>    │\n",
       "│ (<span style=\"color: #0087ff; text-decoration-color: #0087ff\">UpSampling2D</span>)         │                      │              │                     │         │\n",
       "├────────────────────────┼──────────────────────┼──────────────┼─────────────────────┼─────────┤\n",
       "│ dropout_6 (<span style=\"color: #0087ff; text-decoration-color: #0087ff\">Dropout</span>)    │ (<span style=\"color: #00d7ff; text-decoration-color: #00d7ff\">None</span>, <span style=\"color: #00af00; text-decoration-color: #00af00\">32</span>, <span style=\"color: #00af00; text-decoration-color: #00af00\">64</span>, <span style=\"color: #00af00; text-decoration-color: #00af00\">64</span>)   │            <span style=\"color: #00af00; text-decoration-color: #00af00\">0</span> │ batch_normalizatio… │    <span style=\"font-weight: bold\">-</span>    │\n",
       "├────────────────────────┼──────────────────────┼──────────────┼─────────────────────┼─────────┤\n",
       "│ concatenate_4          │ (<span style=\"color: #00d7ff; text-decoration-color: #00d7ff\">None</span>, <span style=\"color: #00af00; text-decoration-color: #00af00\">32</span>, <span style=\"color: #00af00; text-decoration-color: #00af00\">64</span>, <span style=\"color: #00af00; text-decoration-color: #00af00\">192</span>)  │            <span style=\"color: #00af00; text-decoration-color: #00af00\">0</span> │ up_sampling2d_9[<span style=\"color: #00af00; text-decoration-color: #00af00\">0</span>]… │    <span style=\"font-weight: bold\">-</span>    │\n",
       "│ (<span style=\"color: #0087ff; text-decoration-color: #0087ff\">Concatenate</span>)          │                      │              │ dropout_6[<span style=\"color: #00af00; text-decoration-color: #00af00\">0</span>][<span style=\"color: #00af00; text-decoration-color: #00af00\">0</span>]     │         │\n",
       "├────────────────────────┼──────────────────────┼──────────────┼─────────────────────┼─────────┤\n",
       "│ up_block2_conv1        │ (<span style=\"color: #00d7ff; text-decoration-color: #00d7ff\">None</span>, <span style=\"color: #00af00; text-decoration-color: #00af00\">32</span>, <span style=\"color: #00af00; text-decoration-color: #00af00\">64</span>, <span style=\"color: #00af00; text-decoration-color: #00af00\">64</span>)   │      <span style=\"color: #00af00; text-decoration-color: #00af00\">110,656</span> │ concatenate_4[<span style=\"color: #00af00; text-decoration-color: #00af00\">0</span>][<span style=\"color: #00af00; text-decoration-color: #00af00\">0</span>] │    <span style=\"color: #00af00; text-decoration-color: #00af00; font-weight: bold\">Y</span>    │\n",
       "│ (<span style=\"color: #0087ff; text-decoration-color: #0087ff\">Conv2D</span>)               │                      │              │                     │         │\n",
       "├────────────────────────┼──────────────────────┼──────────────┼─────────────────────┼─────────┤\n",
       "│ up_block2_bn1          │ (<span style=\"color: #00d7ff; text-decoration-color: #00d7ff\">None</span>, <span style=\"color: #00af00; text-decoration-color: #00af00\">32</span>, <span style=\"color: #00af00; text-decoration-color: #00af00\">64</span>, <span style=\"color: #00af00; text-decoration-color: #00af00\">64</span>)   │          <span style=\"color: #00af00; text-decoration-color: #00af00\">128</span> │ up_block2_conv1[<span style=\"color: #00af00; text-decoration-color: #00af00\">0</span>]… │    <span style=\"color: #00af00; text-decoration-color: #00af00; font-weight: bold\">Y</span>    │\n",
       "│ (<span style=\"color: #0087ff; text-decoration-color: #0087ff\">GroupNormalization</span>)   │                      │              │                     │         │\n",
       "├────────────────────────┼──────────────────────┼──────────────┼─────────────────────┼─────────┤\n",
       "│ up_block2_activation1  │ (<span style=\"color: #00d7ff; text-decoration-color: #00d7ff\">None</span>, <span style=\"color: #00af00; text-decoration-color: #00af00\">32</span>, <span style=\"color: #00af00; text-decoration-color: #00af00\">64</span>, <span style=\"color: #00af00; text-decoration-color: #00af00\">64</span>)   │            <span style=\"color: #00af00; text-decoration-color: #00af00\">0</span> │ up_block2_bn1[<span style=\"color: #00af00; text-decoration-color: #00af00\">0</span>][<span style=\"color: #00af00; text-decoration-color: #00af00\">0</span>] │    <span style=\"font-weight: bold\">-</span>    │\n",
       "│ (<span style=\"color: #0087ff; text-decoration-color: #0087ff\">Activation</span>)           │                      │              │                     │         │\n",
       "├────────────────────────┼──────────────────────┼──────────────┼─────────────────────┼─────────┤\n",
       "│ up_block2_conv2        │ (<span style=\"color: #00d7ff; text-decoration-color: #00d7ff\">None</span>, <span style=\"color: #00af00; text-decoration-color: #00af00\">32</span>, <span style=\"color: #00af00; text-decoration-color: #00af00\">64</span>, <span style=\"color: #00af00; text-decoration-color: #00af00\">64</span>)   │       <span style=\"color: #00af00; text-decoration-color: #00af00\">36,928</span> │ up_block2_activati… │    <span style=\"color: #00af00; text-decoration-color: #00af00; font-weight: bold\">Y</span>    │\n",
       "│ (<span style=\"color: #0087ff; text-decoration-color: #0087ff\">Conv2D</span>)               │                      │              │                     │         │\n",
       "├────────────────────────┼──────────────────────┼──────────────┼─────────────────────┼─────────┤\n",
       "│ up_block2_bn2          │ (<span style=\"color: #00d7ff; text-decoration-color: #00d7ff\">None</span>, <span style=\"color: #00af00; text-decoration-color: #00af00\">32</span>, <span style=\"color: #00af00; text-decoration-color: #00af00\">64</span>, <span style=\"color: #00af00; text-decoration-color: #00af00\">64</span>)   │          <span style=\"color: #00af00; text-decoration-color: #00af00\">128</span> │ up_block2_conv2[<span style=\"color: #00af00; text-decoration-color: #00af00\">0</span>]… │    <span style=\"color: #00af00; text-decoration-color: #00af00; font-weight: bold\">Y</span>    │\n",
       "│ (<span style=\"color: #0087ff; text-decoration-color: #0087ff\">GroupNormalization</span>)   │                      │              │                     │         │\n",
       "├────────────────────────┼──────────────────────┼──────────────┼─────────────────────┼─────────┤\n",
       "│ up_block2_activation2  │ (<span style=\"color: #00d7ff; text-decoration-color: #00d7ff\">None</span>, <span style=\"color: #00af00; text-decoration-color: #00af00\">32</span>, <span style=\"color: #00af00; text-decoration-color: #00af00\">64</span>, <span style=\"color: #00af00; text-decoration-color: #00af00\">64</span>)   │            <span style=\"color: #00af00; text-decoration-color: #00af00\">0</span> │ up_block2_bn2[<span style=\"color: #00af00; text-decoration-color: #00af00\">0</span>][<span style=\"color: #00af00; text-decoration-color: #00af00\">0</span>] │    <span style=\"font-weight: bold\">-</span>    │\n",
       "│ (<span style=\"color: #0087ff; text-decoration-color: #0087ff\">Activation</span>)           │                      │              │                     │         │\n",
       "├────────────────────────┼──────────────────────┼──────────────┼─────────────────────┼─────────┤\n",
       "│ conv2d_30 (<span style=\"color: #0087ff; text-decoration-color: #0087ff\">Conv2D</span>)     │ (<span style=\"color: #00d7ff; text-decoration-color: #00d7ff\">None</span>, <span style=\"color: #00af00; text-decoration-color: #00af00\">32</span>, <span style=\"color: #00af00; text-decoration-color: #00af00\">64</span>, <span style=\"color: #00af00; text-decoration-color: #00af00\">64</span>)   │        <span style=\"color: #00af00; text-decoration-color: #00af00\">4,160</span> │ up_block2_activati… │    <span style=\"color: #00af00; text-decoration-color: #00af00; font-weight: bold\">Y</span>    │\n",
       "├────────────────────────┼──────────────────────┼──────────────┼─────────────────────┼─────────┤\n",
       "│ conv2d_31 (<span style=\"color: #0087ff; text-decoration-color: #0087ff\">Conv2D</span>)     │ (<span style=\"color: #00d7ff; text-decoration-color: #00d7ff\">None</span>, <span style=\"color: #00af00; text-decoration-color: #00af00\">32</span>, <span style=\"color: #00af00; text-decoration-color: #00af00\">64</span>, <span style=\"color: #00af00; text-decoration-color: #00af00\">64</span>)   │       <span style=\"color: #00af00; text-decoration-color: #00af00\">18,496</span> │ down_block1_activa… │    <span style=\"color: #00af00; text-decoration-color: #00af00; font-weight: bold\">Y</span>    │\n",
       "├────────────────────────┼──────────────────────┼──────────────┼─────────────────────┼─────────┤\n",
       "│ add_7 (<span style=\"color: #0087ff; text-decoration-color: #0087ff\">Add</span>)            │ (<span style=\"color: #00d7ff; text-decoration-color: #00d7ff\">None</span>, <span style=\"color: #00af00; text-decoration-color: #00af00\">32</span>, <span style=\"color: #00af00; text-decoration-color: #00af00\">64</span>, <span style=\"color: #00af00; text-decoration-color: #00af00\">64</span>)   │            <span style=\"color: #00af00; text-decoration-color: #00af00\">0</span> │ conv2d_30[<span style=\"color: #00af00; text-decoration-color: #00af00\">0</span>][<span style=\"color: #00af00; text-decoration-color: #00af00\">0</span>],    │    <span style=\"font-weight: bold\">-</span>    │\n",
       "│                        │                      │              │ conv2d_31[<span style=\"color: #00af00; text-decoration-color: #00af00\">0</span>][<span style=\"color: #00af00; text-decoration-color: #00af00\">0</span>]     │         │\n",
       "├────────────────────────┼──────────────────────┼──────────────┼─────────────────────┼─────────┤\n",
       "│ activation_16          │ (<span style=\"color: #00d7ff; text-decoration-color: #00d7ff\">None</span>, <span style=\"color: #00af00; text-decoration-color: #00af00\">32</span>, <span style=\"color: #00af00; text-decoration-color: #00af00\">64</span>, <span style=\"color: #00af00; text-decoration-color: #00af00\">64</span>)   │            <span style=\"color: #00af00; text-decoration-color: #00af00\">0</span> │ add_7[<span style=\"color: #00af00; text-decoration-color: #00af00\">0</span>][<span style=\"color: #00af00; text-decoration-color: #00af00\">0</span>]         │    <span style=\"font-weight: bold\">-</span>    │\n",
       "│ (<span style=\"color: #0087ff; text-decoration-color: #0087ff\">Activation</span>)           │                      │              │                     │         │\n",
       "├────────────────────────┼──────────────────────┼──────────────┼─────────────────────┼─────────┤\n",
       "│ conv2d_32 (<span style=\"color: #0087ff; text-decoration-color: #0087ff\">Conv2D</span>)     │ (<span style=\"color: #00d7ff; text-decoration-color: #00d7ff\">None</span>, <span style=\"color: #00af00; text-decoration-color: #00af00\">32</span>, <span style=\"color: #00af00; text-decoration-color: #00af00\">64</span>, <span style=\"color: #00af00; text-decoration-color: #00af00\">1</span>)    │           <span style=\"color: #00af00; text-decoration-color: #00af00\">65</span> │ activation_16[<span style=\"color: #00af00; text-decoration-color: #00af00\">0</span>][<span style=\"color: #00af00; text-decoration-color: #00af00\">0</span>] │    <span style=\"color: #00af00; text-decoration-color: #00af00; font-weight: bold\">Y</span>    │\n",
       "├────────────────────────┼──────────────────────┼──────────────┼─────────────────────┼─────────┤\n",
       "│ activation_17          │ (<span style=\"color: #00d7ff; text-decoration-color: #00d7ff\">None</span>, <span style=\"color: #00af00; text-decoration-color: #00af00\">32</span>, <span style=\"color: #00af00; text-decoration-color: #00af00\">64</span>, <span style=\"color: #00af00; text-decoration-color: #00af00\">1</span>)    │            <span style=\"color: #00af00; text-decoration-color: #00af00\">0</span> │ conv2d_32[<span style=\"color: #00af00; text-decoration-color: #00af00\">0</span>][<span style=\"color: #00af00; text-decoration-color: #00af00\">0</span>]     │    <span style=\"font-weight: bold\">-</span>    │\n",
       "│ (<span style=\"color: #0087ff; text-decoration-color: #0087ff\">Activation</span>)           │                      │              │                     │         │\n",
       "├────────────────────────┼──────────────────────┼──────────────┼─────────────────────┼─────────┤\n",
       "│ up_sampling2d_10       │ (<span style=\"color: #00d7ff; text-decoration-color: #00d7ff\">None</span>, <span style=\"color: #00af00; text-decoration-color: #00af00\">64</span>, <span style=\"color: #00af00; text-decoration-color: #00af00\">128</span>, <span style=\"color: #00af00; text-decoration-color: #00af00\">1</span>)   │            <span style=\"color: #00af00; text-decoration-color: #00af00\">0</span> │ activation_17[<span style=\"color: #00af00; text-decoration-color: #00af00\">0</span>][<span style=\"color: #00af00; text-decoration-color: #00af00\">0</span>] │    <span style=\"font-weight: bold\">-</span>    │\n",
       "│ (<span style=\"color: #0087ff; text-decoration-color: #0087ff\">UpSampling2D</span>)         │                      │              │                     │         │\n",
       "├────────────────────────┼──────────────────────┼──────────────┼─────────────────────┼─────────┤\n",
       "│ lambda_5 (<span style=\"color: #0087ff; text-decoration-color: #0087ff\">Lambda</span>)      │ (<span style=\"color: #00d7ff; text-decoration-color: #00d7ff\">None</span>, <span style=\"color: #00af00; text-decoration-color: #00af00\">64</span>, <span style=\"color: #00af00; text-decoration-color: #00af00\">128</span>, <span style=\"color: #00af00; text-decoration-color: #00af00\">32</span>)  │            <span style=\"color: #00af00; text-decoration-color: #00af00\">0</span> │ up_sampling2d_10[<span style=\"color: #00af00; text-decoration-color: #00af00\">0</span>… │    <span style=\"font-weight: bold\">-</span>    │\n",
       "├────────────────────────┼──────────────────────┼──────────────┼─────────────────────┼─────────┤\n",
       "│ multiply_5 (<span style=\"color: #0087ff; text-decoration-color: #0087ff\">Multiply</span>)  │ (<span style=\"color: #00d7ff; text-decoration-color: #00d7ff\">None</span>, <span style=\"color: #00af00; text-decoration-color: #00af00\">64</span>, <span style=\"color: #00af00; text-decoration-color: #00af00\">128</span>, <span style=\"color: #00af00; text-decoration-color: #00af00\">32</span>)  │            <span style=\"color: #00af00; text-decoration-color: #00af00\">0</span> │ lambda_5[<span style=\"color: #00af00; text-decoration-color: #00af00\">0</span>][<span style=\"color: #00af00; text-decoration-color: #00af00\">0</span>],     │    <span style=\"font-weight: bold\">-</span>    │\n",
       "│                        │                      │              │ down_block1_activa… │         │\n",
       "├────────────────────────┼──────────────────────┼──────────────┼─────────────────────┼─────────┤\n",
       "│ conv2d_33 (<span style=\"color: #0087ff; text-decoration-color: #0087ff\">Conv2D</span>)     │ (<span style=\"color: #00d7ff; text-decoration-color: #00d7ff\">None</span>, <span style=\"color: #00af00; text-decoration-color: #00af00\">64</span>, <span style=\"color: #00af00; text-decoration-color: #00af00\">128</span>, <span style=\"color: #00af00; text-decoration-color: #00af00\">32</span>)  │        <span style=\"color: #00af00; text-decoration-color: #00af00\">1,056</span> │ multiply_5[<span style=\"color: #00af00; text-decoration-color: #00af00\">0</span>][<span style=\"color: #00af00; text-decoration-color: #00af00\">0</span>]    │    <span style=\"color: #00af00; text-decoration-color: #00af00; font-weight: bold\">Y</span>    │\n",
       "├────────────────────────┼──────────────────────┼──────────────┼─────────────────────┼─────────┤\n",
       "│ batch_normalization_5  │ (<span style=\"color: #00d7ff; text-decoration-color: #00d7ff\">None</span>, <span style=\"color: #00af00; text-decoration-color: #00af00\">64</span>, <span style=\"color: #00af00; text-decoration-color: #00af00\">128</span>, <span style=\"color: #00af00; text-decoration-color: #00af00\">32</span>)  │          <span style=\"color: #00af00; text-decoration-color: #00af00\">128</span> │ conv2d_33[<span style=\"color: #00af00; text-decoration-color: #00af00\">0</span>][<span style=\"color: #00af00; text-decoration-color: #00af00\">0</span>]     │    <span style=\"color: #00af00; text-decoration-color: #00af00; font-weight: bold\">Y</span>    │\n",
       "│ (<span style=\"color: #0087ff; text-decoration-color: #0087ff\">BatchNormalization</span>)   │                      │              │                     │         │\n",
       "├────────────────────────┼──────────────────────┼──────────────┼─────────────────────┼─────────┤\n",
       "│ up_sampling2d_11       │ (<span style=\"color: #00d7ff; text-decoration-color: #00d7ff\">None</span>, <span style=\"color: #00af00; text-decoration-color: #00af00\">64</span>, <span style=\"color: #00af00; text-decoration-color: #00af00\">128</span>, <span style=\"color: #00af00; text-decoration-color: #00af00\">64</span>)  │            <span style=\"color: #00af00; text-decoration-color: #00af00\">0</span> │ up_block2_activati… │    <span style=\"font-weight: bold\">-</span>    │\n",
       "│ (<span style=\"color: #0087ff; text-decoration-color: #0087ff\">UpSampling2D</span>)         │                      │              │                     │         │\n",
       "├────────────────────────┼──────────────────────┼──────────────┼─────────────────────┼─────────┤\n",
       "│ dropout_7 (<span style=\"color: #0087ff; text-decoration-color: #0087ff\">Dropout</span>)    │ (<span style=\"color: #00d7ff; text-decoration-color: #00d7ff\">None</span>, <span style=\"color: #00af00; text-decoration-color: #00af00\">64</span>, <span style=\"color: #00af00; text-decoration-color: #00af00\">128</span>, <span style=\"color: #00af00; text-decoration-color: #00af00\">32</span>)  │            <span style=\"color: #00af00; text-decoration-color: #00af00\">0</span> │ batch_normalizatio… │    <span style=\"font-weight: bold\">-</span>    │\n",
       "├────────────────────────┼──────────────────────┼──────────────┼─────────────────────┼─────────┤\n",
       "│ concatenate_5          │ (<span style=\"color: #00d7ff; text-decoration-color: #00d7ff\">None</span>, <span style=\"color: #00af00; text-decoration-color: #00af00\">64</span>, <span style=\"color: #00af00; text-decoration-color: #00af00\">128</span>, <span style=\"color: #00af00; text-decoration-color: #00af00\">96</span>)  │            <span style=\"color: #00af00; text-decoration-color: #00af00\">0</span> │ up_sampling2d_11[<span style=\"color: #00af00; text-decoration-color: #00af00\">0</span>… │    <span style=\"font-weight: bold\">-</span>    │\n",
       "│ (<span style=\"color: #0087ff; text-decoration-color: #0087ff\">Concatenate</span>)          │                      │              │ dropout_7[<span style=\"color: #00af00; text-decoration-color: #00af00\">0</span>][<span style=\"color: #00af00; text-decoration-color: #00af00\">0</span>]     │         │\n",
       "├────────────────────────┼──────────────────────┼──────────────┼─────────────────────┼─────────┤\n",
       "│ up_block3_conv1        │ (<span style=\"color: #00d7ff; text-decoration-color: #00d7ff\">None</span>, <span style=\"color: #00af00; text-decoration-color: #00af00\">64</span>, <span style=\"color: #00af00; text-decoration-color: #00af00\">128</span>, <span style=\"color: #00af00; text-decoration-color: #00af00\">32</span>)  │       <span style=\"color: #00af00; text-decoration-color: #00af00\">27,680</span> │ concatenate_5[<span style=\"color: #00af00; text-decoration-color: #00af00\">0</span>][<span style=\"color: #00af00; text-decoration-color: #00af00\">0</span>] │    <span style=\"color: #00af00; text-decoration-color: #00af00; font-weight: bold\">Y</span>    │\n",
       "│ (<span style=\"color: #0087ff; text-decoration-color: #0087ff\">Conv2D</span>)               │                      │              │                     │         │\n",
       "├────────────────────────┼──────────────────────┼──────────────┼─────────────────────┼─────────┤\n",
       "│ up_block3_bn1          │ (<span style=\"color: #00d7ff; text-decoration-color: #00d7ff\">None</span>, <span style=\"color: #00af00; text-decoration-color: #00af00\">64</span>, <span style=\"color: #00af00; text-decoration-color: #00af00\">128</span>, <span style=\"color: #00af00; text-decoration-color: #00af00\">32</span>)  │           <span style=\"color: #00af00; text-decoration-color: #00af00\">64</span> │ up_block3_conv1[<span style=\"color: #00af00; text-decoration-color: #00af00\">0</span>]… │    <span style=\"color: #00af00; text-decoration-color: #00af00; font-weight: bold\">Y</span>    │\n",
       "│ (<span style=\"color: #0087ff; text-decoration-color: #0087ff\">GroupNormalization</span>)   │                      │              │                     │         │\n",
       "├────────────────────────┼──────────────────────┼──────────────┼─────────────────────┼─────────┤\n",
       "│ up_block3_activation1  │ (<span style=\"color: #00d7ff; text-decoration-color: #00d7ff\">None</span>, <span style=\"color: #00af00; text-decoration-color: #00af00\">64</span>, <span style=\"color: #00af00; text-decoration-color: #00af00\">128</span>, <span style=\"color: #00af00; text-decoration-color: #00af00\">32</span>)  │            <span style=\"color: #00af00; text-decoration-color: #00af00\">0</span> │ up_block3_bn1[<span style=\"color: #00af00; text-decoration-color: #00af00\">0</span>][<span style=\"color: #00af00; text-decoration-color: #00af00\">0</span>] │    <span style=\"font-weight: bold\">-</span>    │\n",
       "│ (<span style=\"color: #0087ff; text-decoration-color: #0087ff\">Activation</span>)           │                      │              │                     │         │\n",
       "├────────────────────────┼──────────────────────┼──────────────┼─────────────────────┼─────────┤\n",
       "│ up_block3_conv2        │ (<span style=\"color: #00d7ff; text-decoration-color: #00d7ff\">None</span>, <span style=\"color: #00af00; text-decoration-color: #00af00\">64</span>, <span style=\"color: #00af00; text-decoration-color: #00af00\">128</span>, <span style=\"color: #00af00; text-decoration-color: #00af00\">32</span>)  │        <span style=\"color: #00af00; text-decoration-color: #00af00\">9,248</span> │ up_block3_activati… │    <span style=\"color: #00af00; text-decoration-color: #00af00; font-weight: bold\">Y</span>    │\n",
       "│ (<span style=\"color: #0087ff; text-decoration-color: #0087ff\">Conv2D</span>)               │                      │              │                     │         │\n",
       "├────────────────────────┼──────────────────────┼──────────────┼─────────────────────┼─────────┤\n",
       "│ up_block3_bn2          │ (<span style=\"color: #00d7ff; text-decoration-color: #00d7ff\">None</span>, <span style=\"color: #00af00; text-decoration-color: #00af00\">64</span>, <span style=\"color: #00af00; text-decoration-color: #00af00\">128</span>, <span style=\"color: #00af00; text-decoration-color: #00af00\">32</span>)  │           <span style=\"color: #00af00; text-decoration-color: #00af00\">64</span> │ up_block3_conv2[<span style=\"color: #00af00; text-decoration-color: #00af00\">0</span>]… │    <span style=\"color: #00af00; text-decoration-color: #00af00; font-weight: bold\">Y</span>    │\n",
       "│ (<span style=\"color: #0087ff; text-decoration-color: #0087ff\">GroupNormalization</span>)   │                      │              │                     │         │\n",
       "├────────────────────────┼──────────────────────┼──────────────┼─────────────────────┼─────────┤\n",
       "│ conv2d_transpose_2     │ (<span style=\"color: #00d7ff; text-decoration-color: #00d7ff\">None</span>, <span style=\"color: #00af00; text-decoration-color: #00af00\">64</span>, <span style=\"color: #00af00; text-decoration-color: #00af00\">128</span>, <span style=\"color: #00af00; text-decoration-color: #00af00\">64</span>)  │       <span style=\"color: #00af00; text-decoration-color: #00af00\">73,792</span> │ up_block1_activati… │    <span style=\"color: #00af00; text-decoration-color: #00af00; font-weight: bold\">Y</span>    │\n",
       "│ (<span style=\"color: #0087ff; text-decoration-color: #0087ff\">Conv2DTranspose</span>)      │                      │              │                     │         │\n",
       "├────────────────────────┼──────────────────────┼──────────────┼─────────────────────┼─────────┤\n",
       "│ conv2d_transpose_3     │ (<span style=\"color: #00d7ff; text-decoration-color: #00d7ff\">None</span>, <span style=\"color: #00af00; text-decoration-color: #00af00\">64</span>, <span style=\"color: #00af00; text-decoration-color: #00af00\">128</span>, <span style=\"color: #00af00; text-decoration-color: #00af00\">32</span>)  │       <span style=\"color: #00af00; text-decoration-color: #00af00\">18,464</span> │ up_block2_activati… │    <span style=\"color: #00af00; text-decoration-color: #00af00; font-weight: bold\">Y</span>    │\n",
       "│ (<span style=\"color: #0087ff; text-decoration-color: #0087ff\">Conv2DTranspose</span>)      │                      │              │                     │         │\n",
       "├────────────────────────┼──────────────────────┼──────────────┼─────────────────────┼─────────┤\n",
       "│ up_block3_activation2  │ (<span style=\"color: #00d7ff; text-decoration-color: #00d7ff\">None</span>, <span style=\"color: #00af00; text-decoration-color: #00af00\">64</span>, <span style=\"color: #00af00; text-decoration-color: #00af00\">128</span>, <span style=\"color: #00af00; text-decoration-color: #00af00\">32</span>)  │            <span style=\"color: #00af00; text-decoration-color: #00af00\">0</span> │ up_block3_bn2[<span style=\"color: #00af00; text-decoration-color: #00af00\">0</span>][<span style=\"color: #00af00; text-decoration-color: #00af00\">0</span>] │    <span style=\"font-weight: bold\">-</span>    │\n",
       "│ (<span style=\"color: #0087ff; text-decoration-color: #0087ff\">Activation</span>)           │                      │              │                     │         │\n",
       "├────────────────────────┼──────────────────────┼──────────────┼─────────────────────┼─────────┤\n",
       "│ out1 (<span style=\"color: #0087ff; text-decoration-color: #0087ff\">Conv2D</span>)          │ (<span style=\"color: #00d7ff; text-decoration-color: #00d7ff\">None</span>, <span style=\"color: #00af00; text-decoration-color: #00af00\">64</span>, <span style=\"color: #00af00; text-decoration-color: #00af00\">128</span>, <span style=\"color: #00af00; text-decoration-color: #00af00\">5</span>)   │          <span style=\"color: #00af00; text-decoration-color: #00af00\">325</span> │ conv2d_transpose_2… │    <span style=\"color: #00af00; text-decoration-color: #00af00; font-weight: bold\">Y</span>    │\n",
       "├────────────────────────┼──────────────────────┼──────────────┼─────────────────────┼─────────┤\n",
       "│ out2 (<span style=\"color: #0087ff; text-decoration-color: #0087ff\">Conv2D</span>)          │ (<span style=\"color: #00d7ff; text-decoration-color: #00d7ff\">None</span>, <span style=\"color: #00af00; text-decoration-color: #00af00\">64</span>, <span style=\"color: #00af00; text-decoration-color: #00af00\">128</span>, <span style=\"color: #00af00; text-decoration-color: #00af00\">5</span>)   │          <span style=\"color: #00af00; text-decoration-color: #00af00\">165</span> │ conv2d_transpose_3… │    <span style=\"color: #00af00; text-decoration-color: #00af00; font-weight: bold\">Y</span>    │\n",
       "├────────────────────────┼──────────────────────┼──────────────┼─────────────────────┼─────────┤\n",
       "│ out3 (<span style=\"color: #0087ff; text-decoration-color: #0087ff\">Conv2D</span>)          │ (<span style=\"color: #00d7ff; text-decoration-color: #00d7ff\">None</span>, <span style=\"color: #00af00; text-decoration-color: #00af00\">64</span>, <span style=\"color: #00af00; text-decoration-color: #00af00\">128</span>, <span style=\"color: #00af00; text-decoration-color: #00af00\">5</span>)   │          <span style=\"color: #00af00; text-decoration-color: #00af00\">165</span> │ up_block3_activati… │    <span style=\"color: #00af00; text-decoration-color: #00af00; font-weight: bold\">Y</span>    │\n",
       "└────────────────────────┴──────────────────────┴──────────────┴─────────────────────┴─────────┘\n",
       "</pre>\n"
      ]
     },
     "metadata": {}
    },
    {
     "output_type": "display_data",
     "data": {
      "text/plain": [
       "\u001B[1m Total params: \u001B[0m\u001B[38;5;34m1,670,418\u001B[0m (6.37 MB)\n"
      ],
      "text/html": [
       "<pre style=\"white-space:pre;overflow-x:auto;line-height:normal;font-family:Menlo,'DejaVu Sans Mono',consolas,'Courier New',monospace\"><span style=\"font-weight: bold\"> Total params: </span><span style=\"color: #00af00; text-decoration-color: #00af00\">1,670,418</span> (6.37 MB)\n",
       "</pre>\n"
      ]
     },
     "metadata": {}
    },
    {
     "output_type": "display_data",
     "data": {
      "text/plain": [
       "\u001B[1m Trainable params: \u001B[0m\u001B[38;5;34m1,669,970\u001B[0m (6.37 MB)\n"
      ],
      "text/html": [
       "<pre style=\"white-space:pre;overflow-x:auto;line-height:normal;font-family:Menlo,'DejaVu Sans Mono',consolas,'Courier New',monospace\"><span style=\"font-weight: bold\"> Trainable params: </span><span style=\"color: #00af00; text-decoration-color: #00af00\">1,669,970</span> (6.37 MB)\n",
       "</pre>\n"
      ]
     },
     "metadata": {}
    },
    {
     "output_type": "display_data",
     "data": {
      "text/plain": [
       "\u001B[1m Non-trainable params: \u001B[0m\u001B[38;5;34m448\u001B[0m (1.75 KB)\n"
      ],
      "text/html": [
       "<pre style=\"white-space:pre;overflow-x:auto;line-height:normal;font-family:Menlo,'DejaVu Sans Mono',consolas,'Courier New',monospace\"><span style=\"font-weight: bold\"> Non-trainable params: </span><span style=\"color: #00af00; text-decoration-color: #00af00\">448</span> (1.75 KB)\n",
       "</pre>\n"
      ]
     },
     "metadata": {}
    }
   ]
  },
  {
   "cell_type": "markdown",
   "source": [
    "## Training"
   ],
   "metadata": {
    "id": "hH9sqx5knqYh"
   }
  },
  {
   "cell_type": "code",
   "source": [
    "# Set learning rate for the optimiser\n",
    "LEARNING_RATE = 1e-3\n",
    "\n",
    "# Set early stopping patience threshold\n",
    "PATIENCE = 10\n",
    "\n",
    "# Set plateauing patience threshold\n",
    "LR_PATIENCE = 5\n",
    "\n",
    "# Set maximum number of training epochs\n",
    "EPOCHS = 1000\n"
   ],
   "metadata": {
    "id": "2Iz4IUePDpB9"
   },
   "execution_count": null,
   "outputs": []
  },
  {
   "cell_type": "code",
   "source": [
    "# Model compilation with Adam as optimizer and CategoricalFocalCrossentropy as loss functions\n",
    "model.compile(\n",
    "    optimizer=tf.keras.optimizers.Adam(LEARNING_RATE),\n",
    "    loss={\n",
    "        'out1': tfk.losses.CategoricalCrossentropy(),\n",
    "        'out2': tfk.losses.CategoricalCrossentropy(),\n",
    "        'out3': tfk.losses.CategoricalCrossentropy()\n",
    "    },\n",
    "    loss_weights={\n",
    "        'out1': 0.2,\n",
    "        'out2': 0.5,\n",
    "        'out3': 1\n",
    "    },\n",
    "    metrics=[\n",
    "        [tfk.metrics.OneHotMeanIoU(NUM_CLASSES,ignore_class=0, name='meanIoU')],\n",
    "        [tfk.metrics.OneHotMeanIoU(NUM_CLASSES,ignore_class=0, name='meanIoU')],\n",
    "        [tfk.metrics.OneHotMeanIoU(NUM_CLASSES,ignore_class=0, name='meanIoU')]\n",
    "        ]\n",
    "    )"
   ],
   "metadata": {
    "id": "pMCbSMQ_-XoH"
   },
   "execution_count": null,
   "outputs": []
  },
  {
   "cell_type": "code",
   "source": [
    "# Setup callbacks, implementing early stopping as a technique to avoid overfitting\n",
    "early_stopping = tf.keras.callbacks.EarlyStopping(\n",
    "    monitor='val_out3_meanIoU',\n",
    "    mode='max',\n",
    "    patience=PATIENCE,\n",
    "    restore_best_weights=True\n",
    ")\n",
    "\n",
    "# Reduce learning rate on plateau\n",
    "reduce_lr = tf.keras.callbacks.ReduceLROnPlateau(\n",
    "    monitor='val_out3_meanIoU',\n",
    "    mode='max',\n",
    "    factor=0.1,\n",
    "    patience=LR_PATIENCE,\n",
    "    min_lr=1e-6\n",
    ")\n",
    "\n",
    "# Combine the callbacks into a list\n",
    "callbacks = [early_stopping, reduce_lr]"
   ],
   "metadata": {
    "id": "PtM0ubgdOzG-"
   },
   "execution_count": null,
   "outputs": []
  },
  {
   "cell_type": "code",
   "source": [
    "# Train the model\n",
    "history = model.fit(\n",
    "    train_dataset,\n",
    "    epochs=EPOCHS,\n",
    "    validation_data=val_dataset,\n",
    "    callbacks=callbacks,\n",
    "    verbose=1,\n",
    ").history"
   ],
   "metadata": {
    "colab": {
     "base_uri": "https://localhost:8080/"
    },
    "id": "mfU2gcZime3m",
    "executionInfo": {
     "status": "ok",
     "timestamp": 1733936391820,
     "user_tz": -60,
     "elapsed": 250513,
     "user": {
      "displayName": "Filippo Riva",
      "userId": "05273334813739932926"
     }
    },
    "outputId": "ea9bc8b0-d700-4401-a18d-49c22b491156"
   },
   "execution_count": null,
   "outputs": [
    {
     "output_type": "stream",
     "name": "stdout",
     "text": [
      "Epoch 1/1000\n",
      "\u001B[1m32/32\u001B[0m \u001B[32m━━━━━━━━━━━━━━━━━━━━\u001B[0m\u001B[37m\u001B[0m \u001B[1m94s\u001B[0m 1s/step - loss: 2.9421 - out1_loss: 0.3012 - out1_meanIoU: 0.0974 - out2_loss: 0.7246 - out2_meanIoU: 0.1054 - out3_loss: 1.9160 - out3_meanIoU: 0.0665 - val_loss: 2.5328 - val_out1_loss: 0.2891 - val_out1_meanIoU: 0.1139 - val_out2_loss: 0.6731 - val_out2_meanIoU: 0.1268 - val_out3_loss: 1.5706 - val_out3_meanIoU: 0.1219 - learning_rate: 0.0010\n",
      "Epoch 2/1000\n",
      "\u001B[1m32/32\u001B[0m \u001B[32m━━━━━━━━━━━━━━━━━━━━\u001B[0m\u001B[37m\u001B[0m \u001B[1m5s\u001B[0m 164ms/step - loss: 2.3828 - out1_loss: 0.2781 - out1_meanIoU: 0.1380 - out2_loss: 0.6380 - out2_meanIoU: 0.1568 - out3_loss: 1.4665 - out3_meanIoU: 0.1678 - val_loss: 2.4541 - val_out1_loss: 0.2964 - val_out1_meanIoU: 0.1221 - val_out2_loss: 0.6999 - val_out2_meanIoU: 0.1378 - val_out3_loss: 1.4599 - val_out3_meanIoU: 0.1587 - learning_rate: 0.0010\n",
      "Epoch 3/1000\n",
      "\u001B[1m32/32\u001B[0m \u001B[32m━━━━━━━━━━━━━━━━━━━━\u001B[0m\u001B[37m\u001B[0m \u001B[1m5s\u001B[0m 164ms/step - loss: 2.1408 - out1_loss: 0.2533 - out1_meanIoU: 0.1857 - out2_loss: 0.5501 - out2_meanIoU: 0.2501 - out3_loss: 1.3372 - out3_meanIoU: 0.2043 - val_loss: 2.2335 - val_out1_loss: 0.2603 - val_out1_meanIoU: 0.1748 - val_out2_loss: 0.6401 - val_out2_meanIoU: 0.1908 - val_out3_loss: 1.3353 - val_out3_meanIoU: 0.2110 - learning_rate: 0.0010\n",
      "Epoch 4/1000\n",
      "\u001B[1m32/32\u001B[0m \u001B[32m━━━━━━━━━━━━━━━━━━━━\u001B[0m\u001B[37m\u001B[0m \u001B[1m5s\u001B[0m 165ms/step - loss: 2.0272 - out1_loss: 0.2450 - out1_meanIoU: 0.2054 - out2_loss: 0.5287 - out2_meanIoU: 0.2719 - out3_loss: 1.2534 - out3_meanIoU: 0.2276 - val_loss: 2.1844 - val_out1_loss: 0.2924 - val_out1_meanIoU: 0.1414 - val_out2_loss: 0.6064 - val_out2_meanIoU: 0.1765 - val_out3_loss: 1.2888 - val_out3_meanIoU: 0.2189 - learning_rate: 0.0010\n",
      "Epoch 5/1000\n",
      "\u001B[1m32/32\u001B[0m \u001B[32m━━━━━━━━━━━━━━━━━━━━\u001B[0m\u001B[37m\u001B[0m \u001B[1m5s\u001B[0m 164ms/step - loss: 1.9301 - out1_loss: 0.2405 - out1_meanIoU: 0.2168 - out2_loss: 0.5007 - out2_meanIoU: 0.3139 - out3_loss: 1.1885 - out3_meanIoU: 0.2552 - val_loss: 2.4841 - val_out1_loss: 0.3031 - val_out1_meanIoU: 0.1248 - val_out2_loss: 0.7376 - val_out2_meanIoU: 0.1044 - val_out3_loss: 1.4424 - val_out3_meanIoU: 0.1514 - learning_rate: 0.0010\n",
      "Epoch 6/1000\n",
      "\u001B[1m32/32\u001B[0m \u001B[32m━━━━━━━━━━━━━━━━━━━━\u001B[0m\u001B[37m\u001B[0m \u001B[1m5s\u001B[0m 163ms/step - loss: 1.8197 - out1_loss: 0.2322 - out1_meanIoU: 0.2259 - out2_loss: 0.4769 - out2_meanIoU: 0.3255 - out3_loss: 1.1105 - out3_meanIoU: 0.2948 - val_loss: 1.7974 - val_out1_loss: 0.2397 - val_out1_meanIoU: 0.2210 - val_out2_loss: 0.4564 - val_out2_meanIoU: 0.3466 - val_out3_loss: 1.1031 - val_out3_meanIoU: 0.3340 - learning_rate: 0.0010\n",
      "Epoch 7/1000\n",
      "\u001B[1m32/32\u001B[0m \u001B[32m━━━━━━━━━━━━━━━━━━━━\u001B[0m\u001B[37m\u001B[0m \u001B[1m5s\u001B[0m 163ms/step - loss: 1.6612 - out1_loss: 0.2199 - out1_meanIoU: 0.2585 - out2_loss: 0.4253 - out2_meanIoU: 0.3828 - out3_loss: 1.0160 - out3_meanIoU: 0.3567 - val_loss: 2.0444 - val_out1_loss: 0.2573 - val_out1_meanIoU: 0.1839 - val_out2_loss: 0.5524 - val_out2_meanIoU: 0.2280 - val_out3_loss: 1.2357 - val_out3_meanIoU: 0.2241 - learning_rate: 0.0010\n",
      "Epoch 8/1000\n",
      "\u001B[1m32/32\u001B[0m \u001B[32m━━━━━━━━━━━━━━━━━━━━\u001B[0m\u001B[37m\u001B[0m \u001B[1m5s\u001B[0m 164ms/step - loss: 1.6298 - out1_loss: 0.2206 - out1_meanIoU: 0.2513 - out2_loss: 0.4228 - out2_meanIoU: 0.3848 - out3_loss: 0.9863 - out3_meanIoU: 0.3686 - val_loss: 1.6306 - val_out1_loss: 0.2144 - val_out1_meanIoU: 0.2663 - val_out2_loss: 0.4100 - val_out2_meanIoU: 0.3851 - val_out3_loss: 1.0060 - val_out3_meanIoU: 0.3719 - learning_rate: 0.0010\n",
      "Epoch 9/1000\n",
      "\u001B[1m32/32\u001B[0m \u001B[32m━━━━━━━━━━━━━━━━━━━━\u001B[0m\u001B[37m\u001B[0m \u001B[1m5s\u001B[0m 164ms/step - loss: 1.5473 - out1_loss: 0.2150 - out1_meanIoU: 0.2634 - out2_loss: 0.4081 - out2_meanIoU: 0.3991 - out3_loss: 0.9243 - out3_meanIoU: 0.3968 - val_loss: 1.7958 - val_out1_loss: 0.2544 - val_out1_meanIoU: 0.2027 - val_out2_loss: 0.4846 - val_out2_meanIoU: 0.3140 - val_out3_loss: 1.0591 - val_out3_meanIoU: 0.3145 - learning_rate: 0.0010\n",
      "Epoch 10/1000\n",
      "\u001B[1m32/32\u001B[0m \u001B[32m━━━━━━━━━━━━━━━━━━━━\u001B[0m\u001B[37m\u001B[0m \u001B[1m5s\u001B[0m 163ms/step - loss: 1.5138 - out1_loss: 0.2132 - out1_meanIoU: 0.2632 - out2_loss: 0.4015 - out2_meanIoU: 0.3992 - out3_loss: 0.8989 - out3_meanIoU: 0.4012 - val_loss: 1.5792 - val_out1_loss: 0.2167 - val_out1_meanIoU: 0.2458 - val_out2_loss: 0.4121 - val_out2_meanIoU: 0.3756 - val_out3_loss: 0.9504 - val_out3_meanIoU: 0.3750 - learning_rate: 0.0010\n",
      "Epoch 11/1000\n",
      "\u001B[1m32/32\u001B[0m \u001B[32m━━━━━━━━━━━━━━━━━━━━\u001B[0m\u001B[37m\u001B[0m \u001B[1m5s\u001B[0m 162ms/step - loss: 1.4388 - out1_loss: 0.2093 - out1_meanIoU: 0.2670 - out2_loss: 0.3860 - out2_meanIoU: 0.4101 - out3_loss: 0.8440 - out3_meanIoU: 0.4250 - val_loss: 2.0557 - val_out1_loss: 0.2855 - val_out1_meanIoU: 0.1961 - val_out2_loss: 0.6060 - val_out2_meanIoU: 0.2387 - val_out3_loss: 1.1710 - val_out3_meanIoU: 0.2480 - learning_rate: 0.0010\n",
      "Epoch 12/1000\n",
      "\u001B[1m32/32\u001B[0m \u001B[32m━━━━━━━━━━━━━━━━━━━━\u001B[0m\u001B[37m\u001B[0m \u001B[1m5s\u001B[0m 162ms/step - loss: 1.4262 - out1_loss: 0.2094 - out1_meanIoU: 0.2682 - out2_loss: 0.3875 - out2_meanIoU: 0.4097 - out3_loss: 0.8289 - out3_meanIoU: 0.4210 - val_loss: 2.0963 - val_out1_loss: 0.2853 - val_out1_meanIoU: 0.1957 - val_out2_loss: 0.6364 - val_out2_meanIoU: 0.2429 - val_out3_loss: 1.1815 - val_out3_meanIoU: 0.2521 - learning_rate: 0.0010\n",
      "Epoch 13/1000\n",
      "\u001B[1m32/32\u001B[0m \u001B[32m━━━━━━━━━━━━━━━━━━━━\u001B[0m\u001B[37m\u001B[0m \u001B[1m5s\u001B[0m 165ms/step - loss: 1.4061 - out1_loss: 0.2085 - out1_meanIoU: 0.2676 - out2_loss: 0.3821 - out2_meanIoU: 0.4150 - out3_loss: 0.8156 - out3_meanIoU: 0.4214 - val_loss: 1.5548 - val_out1_loss: 0.2145 - val_out1_meanIoU: 0.2672 - val_out2_loss: 0.4080 - val_out2_meanIoU: 0.3900 - val_out3_loss: 0.9346 - val_out3_meanIoU: 0.3806 - learning_rate: 0.0010\n",
      "Epoch 14/1000\n",
      "\u001B[1m32/32\u001B[0m \u001B[32m━━━━━━━━━━━━━━━━━━━━\u001B[0m\u001B[37m\u001B[0m \u001B[1m5s\u001B[0m 163ms/step - loss: 1.3671 - out1_loss: 0.2055 - out1_meanIoU: 0.2761 - out2_loss: 0.3669 - out2_meanIoU: 0.4323 - out3_loss: 0.7946 - out3_meanIoU: 0.4345 - val_loss: 1.4624 - val_out1_loss: 0.2132 - val_out1_meanIoU: 0.2656 - val_out2_loss: 0.3997 - val_out2_meanIoU: 0.3933 - val_out3_loss: 0.8536 - val_out3_meanIoU: 0.4120 - learning_rate: 0.0010\n",
      "Epoch 15/1000\n",
      "\u001B[1m32/32\u001B[0m \u001B[32m━━━━━━━━━━━━━━━━━━━━\u001B[0m\u001B[37m\u001B[0m \u001B[1m5s\u001B[0m 161ms/step - loss: 1.3110 - out1_loss: 0.2024 - out1_meanIoU: 0.2757 - out2_loss: 0.3552 - out2_meanIoU: 0.4302 - out3_loss: 0.7536 - out3_meanIoU: 0.4420 - val_loss: 1.9279 - val_out1_loss: 0.2610 - val_out1_meanIoU: 0.2257 - val_out2_loss: 0.5689 - val_out2_meanIoU: 0.2945 - val_out3_loss: 1.1032 - val_out3_meanIoU: 0.2880 - learning_rate: 0.0010\n",
      "Epoch 16/1000\n",
      "\u001B[1m32/32\u001B[0m \u001B[32m━━━━━━━━━━━━━━━━━━━━\u001B[0m\u001B[37m\u001B[0m \u001B[1m5s\u001B[0m 162ms/step - loss: 1.3139 - out1_loss: 0.2038 - out1_meanIoU: 0.2747 - out2_loss: 0.3582 - out2_meanIoU: 0.4367 - out3_loss: 0.7527 - out3_meanIoU: 0.4430 - val_loss: 1.7870 - val_out1_loss: 0.2465 - val_out1_meanIoU: 0.2119 - val_out2_loss: 0.4921 - val_out2_meanIoU: 0.3097 - val_out3_loss: 1.0503 - val_out3_meanIoU: 0.2996 - learning_rate: 0.0010\n",
      "Epoch 17/1000\n",
      "\u001B[1m32/32\u001B[0m \u001B[32m━━━━━━━━━━━━━━━━━━━━\u001B[0m\u001B[37m\u001B[0m \u001B[1m5s\u001B[0m 162ms/step - loss: 1.3056 - out1_loss: 0.2053 - out1_meanIoU: 0.2724 - out2_loss: 0.3563 - out2_meanIoU: 0.4360 - out3_loss: 0.7437 - out3_meanIoU: 0.4437 - val_loss: 1.7625 - val_out1_loss: 0.2508 - val_out1_meanIoU: 0.2375 - val_out2_loss: 0.5211 - val_out2_meanIoU: 0.3238 - val_out3_loss: 0.9957 - val_out3_meanIoU: 0.3535 - learning_rate: 0.0010\n",
      "Epoch 18/1000\n",
      "\u001B[1m32/32\u001B[0m \u001B[32m━━━━━━━━━━━━━━━━━━━━\u001B[0m\u001B[37m\u001B[0m \u001B[1m5s\u001B[0m 162ms/step - loss: 1.2562 - out1_loss: 0.2018 - out1_meanIoU: 0.2795 - out2_loss: 0.3467 - out2_meanIoU: 0.4387 - out3_loss: 0.7072 - out3_meanIoU: 0.4534 - val_loss: 1.8957 - val_out1_loss: 0.2761 - val_out1_meanIoU: 0.2039 - val_out2_loss: 0.5992 - val_out2_meanIoU: 0.3182 - val_out3_loss: 1.0180 - val_out3_meanIoU: 0.3296 - learning_rate: 0.0010\n",
      "Epoch 19/1000\n",
      "\u001B[1m32/32\u001B[0m \u001B[32m━━━━━━━━━━━━━━━━━━━━\u001B[0m\u001B[37m\u001B[0m \u001B[1m5s\u001B[0m 163ms/step - loss: 1.2386 - out1_loss: 0.1996 - out1_meanIoU: 0.2830 - out2_loss: 0.3389 - out2_meanIoU: 0.4439 - out3_loss: 0.6999 - out3_meanIoU: 0.4539 - val_loss: 1.7759 - val_out1_loss: 0.2442 - val_out1_meanIoU: 0.2282 - val_out2_loss: 0.4864 - val_out2_meanIoU: 0.3408 - val_out3_loss: 1.0488 - val_out3_meanIoU: 0.3182 - learning_rate: 0.0010\n",
      "Epoch 20/1000\n",
      "\u001B[1m32/32\u001B[0m \u001B[32m━━━━━━━━━━━━━━━━━━━━\u001B[0m\u001B[37m\u001B[0m \u001B[1m5s\u001B[0m 163ms/step - loss: 1.2413 - out1_loss: 0.2002 - out1_meanIoU: 0.2806 - out2_loss: 0.3370 - out2_meanIoU: 0.4486 - out3_loss: 0.7038 - out3_meanIoU: 0.4516 - val_loss: 1.2766 - val_out1_loss: 0.2046 - val_out1_meanIoU: 0.2775 - val_out2_loss: 0.3506 - val_out2_meanIoU: 0.4399 - val_out3_loss: 0.7237 - val_out3_meanIoU: 0.4570 - learning_rate: 1.0000e-04\n",
      "Epoch 21/1000\n",
      "\u001B[1m32/32\u001B[0m \u001B[32m━━━━━━━━━━━━━━━━━━━━\u001B[0m\u001B[37m\u001B[0m \u001B[1m5s\u001B[0m 163ms/step - loss: 1.1293 - out1_loss: 0.1933 - out1_meanIoU: 0.2904 - out2_loss: 0.3050 - out2_meanIoU: 0.4734 - out3_loss: 0.6310 - out3_meanIoU: 0.4819 - val_loss: 1.2351 - val_out1_loss: 0.1999 - val_out1_meanIoU: 0.2851 - val_out2_loss: 0.3352 - val_out2_meanIoU: 0.4629 - val_out3_loss: 0.7021 - val_out3_meanIoU: 0.4670 - learning_rate: 1.0000e-04\n",
      "Epoch 22/1000\n",
      "\u001B[1m32/32\u001B[0m \u001B[32m━━━━━━━━━━━━━━━━━━━━\u001B[0m\u001B[37m\u001B[0m \u001B[1m5s\u001B[0m 162ms/step - loss: 1.1128 - out1_loss: 0.1915 - out1_meanIoU: 0.2940 - out2_loss: 0.2981 - out2_meanIoU: 0.4776 - out3_loss: 0.6237 - out3_meanIoU: 0.4829 - val_loss: 1.2490 - val_out1_loss: 0.2014 - val_out1_meanIoU: 0.2831 - val_out2_loss: 0.3404 - val_out2_meanIoU: 0.4578 - val_out3_loss: 0.7096 - val_out3_meanIoU: 0.4615 - learning_rate: 1.0000e-04\n",
      "Epoch 23/1000\n",
      "\u001B[1m32/32\u001B[0m \u001B[32m━━━━━━━━━━━━━━━━━━━━\u001B[0m\u001B[37m\u001B[0m \u001B[1m5s\u001B[0m 163ms/step - loss: 1.1055 - out1_loss: 0.1915 - out1_meanIoU: 0.2946 - out2_loss: 0.2979 - out2_meanIoU: 0.4798 - out3_loss: 0.6157 - out3_meanIoU: 0.4853 - val_loss: 1.2625 - val_out1_loss: 0.2018 - val_out1_meanIoU: 0.2804 - val_out2_loss: 0.3474 - val_out2_meanIoU: 0.4565 - val_out3_loss: 0.7162 - val_out3_meanIoU: 0.4603 - learning_rate: 1.0000e-04\n",
      "Epoch 24/1000\n",
      "\u001B[1m32/32\u001B[0m \u001B[32m━━━━━━━━━━━━━━━━━━━━\u001B[0m\u001B[37m\u001B[0m \u001B[1m5s\u001B[0m 163ms/step - loss: 1.0967 - out1_loss: 0.1911 - out1_meanIoU: 0.2969 - out2_loss: 0.2965 - out2_meanIoU: 0.4842 - out3_loss: 0.6095 - out3_meanIoU: 0.4904 - val_loss: 1.2485 - val_out1_loss: 0.2009 - val_out1_meanIoU: 0.2838 - val_out2_loss: 0.3405 - val_out2_meanIoU: 0.4631 - val_out3_loss: 0.7094 - val_out3_meanIoU: 0.4657 - learning_rate: 1.0000e-04\n",
      "Epoch 25/1000\n",
      "\u001B[1m32/32\u001B[0m \u001B[32m━━━━━━━━━━━━━━━━━━━━\u001B[0m\u001B[37m\u001B[0m \u001B[1m5s\u001B[0m 163ms/step - loss: 1.0915 - out1_loss: 0.1908 - out1_meanIoU: 0.2964 - out2_loss: 0.2934 - out2_meanIoU: 0.4868 - out3_loss: 0.6071 - out3_meanIoU: 0.4900 - val_loss: 1.3138 - val_out1_loss: 0.2066 - val_out1_meanIoU: 0.2761 - val_out2_loss: 0.3641 - val_out2_meanIoU: 0.4391 - val_out3_loss: 0.7462 - val_out3_meanIoU: 0.4481 - learning_rate: 1.0000e-04\n",
      "Epoch 26/1000\n",
      "\u001B[1m32/32\u001B[0m \u001B[32m━━━━━━━━━━━━━━━━━━━━\u001B[0m\u001B[37m\u001B[0m \u001B[1m5s\u001B[0m 163ms/step - loss: 1.0779 - out1_loss: 0.1900 - out1_meanIoU: 0.2990 - out2_loss: 0.2898 - out2_meanIoU: 0.4889 - out3_loss: 0.5983 - out3_meanIoU: 0.4948 - val_loss: 1.2678 - val_out1_loss: 0.2024 - val_out1_meanIoU: 0.2781 - val_out2_loss: 0.3461 - val_out2_meanIoU: 0.4535 - val_out3_loss: 0.7217 - val_out3_meanIoU: 0.4592 - learning_rate: 1.0000e-04\n",
      "Epoch 27/1000\n",
      "\u001B[1m32/32\u001B[0m \u001B[32m━━━━━━━━━━━━━━━━━━━━\u001B[0m\u001B[37m\u001B[0m \u001B[1m5s\u001B[0m 162ms/step - loss: 1.0653 - out1_loss: 0.1895 - out1_meanIoU: 0.2983 - out2_loss: 0.2861 - out2_meanIoU: 0.4940 - out3_loss: 0.5894 - out3_meanIoU: 0.4984 - val_loss: 1.2427 - val_out1_loss: 0.2001 - val_out1_meanIoU: 0.2808 - val_out2_loss: 0.3380 - val_out2_meanIoU: 0.4613 - val_out3_loss: 0.7061 - val_out3_meanIoU: 0.4640 - learning_rate: 1.0000e-05\n",
      "Epoch 28/1000\n",
      "\u001B[1m32/32\u001B[0m \u001B[32m━━━━━━━━━━━━━━━━━━━━\u001B[0m\u001B[37m\u001B[0m \u001B[1m5s\u001B[0m 162ms/step - loss: 1.0618 - out1_loss: 0.1887 - out1_meanIoU: 0.3004 - out2_loss: 0.2848 - out2_meanIoU: 0.4926 - out3_loss: 0.5887 - out3_meanIoU: 0.4983 - val_loss: 1.2377 - val_out1_loss: 0.1998 - val_out1_meanIoU: 0.2802 - val_out2_loss: 0.3374 - val_out2_meanIoU: 0.4595 - val_out3_loss: 0.7020 - val_out3_meanIoU: 0.4641 - learning_rate: 1.0000e-05\n",
      "Epoch 29/1000\n",
      "\u001B[1m32/32\u001B[0m \u001B[32m━━━━━━━━━━━━━━━━━━━━\u001B[0m\u001B[37m\u001B[0m \u001B[1m5s\u001B[0m 162ms/step - loss: 1.0658 - out1_loss: 0.1892 - out1_meanIoU: 0.2973 - out2_loss: 0.2857 - out2_meanIoU: 0.4906 - out3_loss: 0.5911 - out3_meanIoU: 0.4955 - val_loss: 1.2379 - val_out1_loss: 0.1998 - val_out1_meanIoU: 0.2802 - val_out2_loss: 0.3365 - val_out2_meanIoU: 0.4599 - val_out3_loss: 0.7031 - val_out3_meanIoU: 0.4636 - learning_rate: 1.0000e-05\n",
      "Epoch 30/1000\n",
      "\u001B[1m32/32\u001B[0m \u001B[32m━━━━━━━━━━━━━━━━━━━━\u001B[0m\u001B[37m\u001B[0m \u001B[1m5s\u001B[0m 162ms/step - loss: 1.0683 - out1_loss: 0.1892 - out1_meanIoU: 0.2980 - out2_loss: 0.2875 - out2_meanIoU: 0.4882 - out3_loss: 0.5913 - out3_meanIoU: 0.4943 - val_loss: 1.2429 - val_out1_loss: 0.2003 - val_out1_meanIoU: 0.2804 - val_out2_loss: 0.3371 - val_out2_meanIoU: 0.4574 - val_out3_loss: 0.7070 - val_out3_meanIoU: 0.4613 - learning_rate: 1.0000e-05\n",
      "Epoch 31/1000\n",
      "\u001B[1m32/32\u001B[0m \u001B[32m━━━━━━━━━━━━━━━━━━━━\u001B[0m\u001B[37m\u001B[0m \u001B[1m5s\u001B[0m 162ms/step - loss: 1.0583 - out1_loss: 0.1889 - out1_meanIoU: 0.2994 - out2_loss: 0.2834 - out2_meanIoU: 0.4940 - out3_loss: 0.5858 - out3_meanIoU: 0.4990 - val_loss: 1.2367 - val_out1_loss: 0.1999 - val_out1_meanIoU: 0.2800 - val_out2_loss: 0.3358 - val_out2_meanIoU: 0.4589 - val_out3_loss: 0.7025 - val_out3_meanIoU: 0.4633 - learning_rate: 1.0000e-05\n"
     ]
    }
   ]
  },
  {
   "cell_type": "code",
   "source": [
    "# Plot and display training and validation loss\n",
    "plt.figure(figsize=(18, 3))\n",
    "plt.plot(history['loss'], label='Training', alpha=0.8, color='#ff7f0e', linewidth=2)\n",
    "plt.plot(history['val_loss'], label='val_tot', alpha=0.9, color='#5a9aa5', linewidth=2)\n",
    "plt.plot(history['val_out1_loss'], label='out1', alpha=0.9, color='#5f0a3a', linewidth=2)\n",
    "plt.plot(history['val_out2_loss'], label='out2', alpha=0.9, color='#0a9a85', linewidth=2)\n",
    "plt.plot(history['val_out3_loss'], label='out3', alpha=0.9, color='#5a9a0f', linewidth=2)\n",
    "plt.xlim(5, len(history['val_out1_loss']))\n",
    "plt.ylim(0, 3)\n",
    "plt.title('Cross Entropy')\n",
    "plt.legend()\n",
    "plt.grid(alpha=0.3)\n",
    "plt.show()\n",
    "\n",
    "# Plot and display training and validation accuracy\n",
    "plt.figure(figsize=(18, 3))\n",
    "plt.plot(history['out1_meanIoU'], label='out1_Training', alpha=0.8, color='#ff7f0e', linewidth=2)\n",
    "plt.plot(history['out2_meanIoU'], label='out2_Training', alpha=0.8, color='#0f7f0e', linewidth=2)\n",
    "plt.plot(history['out3_meanIoU'], label='out3_Training', alpha=0.8, color='#f00f0e', linewidth=2)\n",
    "plt.plot(history['val_out1_meanIoU'], label='out1', alpha=0.9, color='#ff00a5', linewidth=2)\n",
    "plt.plot(history['val_out2_meanIoU'], label='out2', alpha=0.9, color='#0a9a85', linewidth=2)\n",
    "plt.plot(history['val_out3_meanIoU'], label='out3', alpha=0.9, color='#5a9a0f', linewidth=2)\n",
    "plt.title('Mean IoU')\n",
    "plt.legend()\n",
    "plt.grid(alpha=0.3)\n",
    "plt.show()"
   ],
   "metadata": {
    "id": "Id0YFwFWmf9G"
   },
   "execution_count": null,
   "outputs": []
  },
  {
   "cell_type": "markdown",
   "source": [
    "## Test Prediction and Final Evaluation"
   ],
   "metadata": {
    "id": "e54a90ggcXiA"
   }
  },
  {
   "cell_type": "code",
   "source": [
    "# Predict class probabilities and get predicted classes\n",
    "test_predictions = model.predict(test_img_local, verbose=0)\n",
    "test_predictions = np.argmax(test_predictions, axis=-1)\n",
    "test_lbl_local = np.argmax(test_lbl_local, axis=-1)"
   ],
   "metadata": {
    "id": "v11REoEbdCf4"
   },
   "execution_count": null,
   "outputs": []
  },
  {
   "cell_type": "code",
   "source": [
    "# Calculate and display test set accuracy\n",
    "test_accuracy = accuracy_score(test_lbl_local.flatten(), test_predictions.flatten())\n",
    "print(f'Accuracy score over the test set: {round(test_accuracy, 4)}')\n",
    "\n",
    "# Calculate and display test set precision\n",
    "test_precision = precision_score(test_lbl_local.flatten(), test_predictions.flatten(), average='weighted', zero_division=0)\n",
    "print(f'Precision score over the test set: {round(test_precision, 4)}')\n",
    "\n",
    "# Calculate and display test set recall\n",
    "test_recall = recall_score(test_lbl_local.flatten(), test_predictions.flatten(), average='weighted')\n",
    "print(f'Recall score over the test set: {round(test_recall, 4)}')\n",
    "\n",
    "# Calculate and display test set F1 score\n",
    "test_f1 = f1_score(test_lbl_local.flatten(), test_predictions.flatten(), average='weighted')\n",
    "print(f'F1 score over the test set: {round(test_f1, 4)}')\n",
    "\n",
    "# Calculate and display test set mean Intersection Over Union score\n",
    "# one_hot_pred = tfk.utils.to_categorical(test_predictions, num_classes=NUM_CLASSES)\n",
    "test_miou = MeanIoU(NUM_CLASSES)\n",
    "test_miou.update_state(test_lbl_local, test_predictions)\n",
    "test_miou = test_miou.result().numpy()\n",
    "print(f'Mean Intersection over Union over the test set: {round(test_miou, 4)}')"
   ],
   "metadata": {
    "id": "I_osAZCDca98",
    "colab": {
     "base_uri": "https://localhost:8080/"
    },
    "executionInfo": {
     "status": "ok",
     "timestamp": 1734176832270,
     "user_tz": -60,
     "elapsed": 4473,
     "user": {
      "displayName": "Christian Rossi",
      "userId": "18127143600522618539"
     }
    },
    "outputId": "f09d3e24-675c-4d65-d8ec-c9da8ecf381e"
   },
   "execution_count": null,
   "outputs": [
    {
     "output_type": "stream",
     "name": "stdout",
     "text": [
      "Accuracy score over the test set: 0.7352\n",
      "Precision score over the test set: 0.7335\n",
      "Recall score over the test set: 0.7352\n",
      "F1 score over the test set: 0.728\n",
      "Mean Intersection over Union over the test set: 0.459199994802475\n"
     ]
    }
   ]
  },
  {
   "cell_type": "markdown",
   "source": [
    "## Save"
   ],
   "metadata": {
    "id": "X4P1-XXe84Tk"
   }
  },
  {
   "cell_type": "code",
   "source": [
    "# Save the model\n",
    "from datetime import datetime\n",
    "current_time = datetime.now().strftime(\"%d|%m-%H:%M\")\n",
    "model_filename = f'UNet_{current_time}.keras'\n",
    "print(\"Saved as :\",model_filename)\n",
    "model.save(f'models/{model_filename}', include_optimizer=False)"
   ],
   "metadata": {
    "colab": {
     "base_uri": "https://localhost:8080/"
    },
    "id": "9Zxh6CTK5T2p",
    "executionInfo": {
     "status": "ok",
     "timestamp": 1734176862637,
     "user_tz": -60,
     "elapsed": 455,
     "user": {
      "displayName": "Christian Rossi",
      "userId": "18127143600522618539"
     }
    },
    "outputId": "78f8d9f2-7b68-4fd1-d507-b3c04867691a"
   },
   "execution_count": null,
   "outputs": [
    {
     "output_type": "stream",
     "name": "stdout",
     "text": [
      "Saved as : UNet_14|12-11:47.keras\n"
     ]
    }
   ]
  },
  {
   "cell_type": "markdown",
   "source": [
    "## Submission"
   ],
   "metadata": {
    "id": "JRaM0oHoC7YN"
   }
  },
  {
   "cell_type": "code",
   "execution_count": null,
   "metadata": {
    "id": "yIiZlDnuR0zN",
    "colab": {
     "base_uri": "https://localhost:8080/"
    },
    "executionInfo": {
     "status": "ok",
     "timestamp": 1734176880987,
     "user_tz": -60,
     "elapsed": 16762,
     "user": {
      "displayName": "Christian Rossi",
      "userId": "18127143600522618539"
     }
    },
    "outputId": "50801ff4-7dd1-42b5-b63a-ebaceb27d75b"
   },
   "outputs": [
    {
     "output_type": "stream",
     "name": "stdout",
     "text": [
      "\u001B[1m314/314\u001B[0m \u001B[32m━━━━━━━━━━━━━━━━━━━━\u001B[0m\u001B[37m\u001B[0m \u001B[1m10s\u001B[0m 27ms/step\n"
     ]
    }
   ],
   "source": [
    "# Predict the masks for the submission\n",
    "preds = model.predict(test_img)\n",
    "preds = np.argmax(preds, axis=-1)"
   ]
  },
  {
   "cell_type": "code",
   "execution_count": null,
   "metadata": {
    "id": "ibHFbWkjR2fc"
   },
   "outputs": [],
   "source": [
    "# Converts segmentation predictions into a DataFrame format for Kaggle\n",
    "def y_to_df(y) -> pd.DataFrame:\n",
    "    n_samples = len(y)\n",
    "    y_flat = y.reshape(n_samples, -1)\n",
    "    df = pd.DataFrame(y_flat)\n",
    "    df[\"id\"] = np.arange(n_samples)\n",
    "    cols = [\"id\"] + [col for col in df.columns if col != \"id\"]\n",
    "    return df[cols]"
   ]
  },
  {
   "cell_type": "code",
   "execution_count": null,
   "metadata": {
    "id": "bE7t3gj4R3qW"
   },
   "outputs": [],
   "source": [
    "# Create and download the csv submission file\n",
    "timestep_str = model_filename.replace(\"model_\", \"\").replace(\".keras\", \"\")\n",
    "submission_filename = f\"submissions/submission_{timestep_str}.csv\"\n",
    "submission_df = y_to_df(preds)\n",
    "submission_df.to_csv(submission_filename, index=False)"
   ]
  }
 ]
}
